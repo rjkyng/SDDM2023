{
 "cells": [
  {
   "cell_type": "code",
   "execution_count": 1,
   "metadata": {},
   "outputs": [],
   "source": [
    "using JLD2\n",
    "using Statistics\n",
    "using Revise\n",
    "using Plots\n",
    "using Laplacians\n",
    "using Printf"
   ]
  },
  {
   "cell_type": "code",
   "execution_count": 2,
   "metadata": {},
   "outputs": [
    {
     "data": {
      "text/plain": [
       "Dict{Any, Any} with 84 entries:\n",
       "  \"lamg_build\"        => [307.699, 313.176, 320.566, 330.714, 342.547, 343.402,…\n",
       "  \"acM2C2_err\"        => [7.27003e-9, 9.73595e-9, 4.72146e-9, 7.28054e-9, 7.128…\n",
       "  \"hypre_solve\"       => [45.04, 45.62, 46.78, 46.92, 52.2, 43.7, 36.62]\n",
       "  \"acM2C2_solve\"      => [207.587, 210.196, 260.486, 258.833, 255.363, 214.256,…\n",
       "  \"icc2_tot\"          => [169.796, 270.038, 429.897, 616.221, 343.401, 136.37, …\n",
       "  \"acM2C2_tot\"        => [434.988, 452.815, 516.206, 521.017, 511.237, 436.765,…\n",
       "  \"ac_lst_build\"      => [157.899, 181.262, 207.979, 214.741, 208.287, 148.578,…\n",
       "  \"petsc_hypre_build\" => [190.56, 222.003, 267.487, 318.002, 227.366, 200.222, …\n",
       "  \"lamg_its\"          => [7.0, 8.0, 8.0, 8.0, 8.0, 7.0, 5.0]\n",
       "  \"lamg_solve\"        => [Inf, Inf, Inf, Inf, Inf, Inf, Inf]\n",
       "  \"hypre_its\"         => [7.0, 7.0, 7.0, 7.0, 8.0, 7.0, 7.0]\n",
       "  \"cmg_solve\"         => [79.2035, 104.105, 108.37, 101.635, 102.716, 101.158, …\n",
       "  \"ac_tot\"            => [235.069, 262.799, 284.41, 288.22, 295.505, 256.63, 18…\n",
       "  \"ac1_solve\"         => [221.831, 239.846, 251.246, 273.274, 267.808, 230.821,…\n",
       "  \"cmg_build\"         => [24.7386, 24.405, 23.3185, 23.0879, 23.267, 23.6363, 2…\n",
       "  \"acM2C2_lst_tot\"    => [492.963, 561.34, 721.621, 730.131, 694.3, 487.714, 30…\n",
       "  \"icc2_solve\"        => [153.862, 250.809, 407.998, 585.856, 315.797, 110.216,…\n",
       "  \"hypre_tot\"         => [119.63, 116.41, 116.06, 117.45, 122.99, 112.55, 90.07]\n",
       "  \"ac2_solve\"         => [242.123, 266.161, 282.782, 313.764, 322.419, 257.333,…\n",
       "  \"ac_lst_its\"        => [25.0, 26.0, 26.0, 27.0, 26.0, 26.0, 22.0]\n",
       "  \"acM2C2_lst_solve\"  => [206.03, 227.03, 264.346, 282.754, 282.091, 205.155, 1…\n",
       "  \"ac-s2m2_its\"       => [19.0, 20.0, 20.0, 20.0, 20.0, 19.0, 18.0]\n",
       "  \"petsc_hypre_solve\" => [137.599, 146.125, 161.371, 201.033, 127.635, 96.7691,…\n",
       "  \"ac1_its\"           => [24.0, 24.0, 23.0, 24.0, 24.0, 24.0, 22.0]\n",
       "  \"ac_lst_tot\"        => [326.967, 366.061, 413.73, 442.665, 426.304, 327.054, …\n",
       "  ⋮                   => ⋮"
      ]
     },
     "execution_count": 2,
     "metadata": {},
     "output_type": "execute_result"
    }
   ],
   "source": [
    "@load \"aniso_all.jl.split02merge02.jld2\"\n",
    "dic1 = copy(dic)"
   ]
  },
  {
   "cell_type": "code",
   "execution_count": 3,
   "metadata": {},
   "outputs": [
    {
     "data": {
      "text/plain": [
       "ffe6 (generic function with 1 method)"
      ]
     },
     "execution_count": 3,
     "metadata": {},
     "output_type": "execute_result"
    }
   ],
   "source": [
    "function sd(d,x)\n",
    "    #scale = exp10(ceil(log10(abs(x)))-d)\n",
    "    #return round(x/scale)*scale\n",
    "    return round(x, sigdigits=d)\n",
    "end        \n",
    "\n",
    "#constant d = 3\n",
    "ff(s) = (@sprintf \"%.3g\" sd(3,s))\n",
    "nf(s) = (@sprintf \"%d\" sd(3,s))\n",
    "\n",
    "ffK(s) = (@sprintf \"%.3g\" sd(3,s)/1000)\n",
    "nfK(s) =  round(Int64, sd(3,s)/1000)\n",
    "\n",
    "ffe8(s) = (@sprintf \"%.3g\" sd(3,s)*1e8)\n",
    "ffM(s) = (@sprintf \"%.3g\" sd(3,s)/1e6)\n",
    "nfM(s) =  round(Int64, sd(3,s)/1e6)\n",
    "ffe6(s) = (@sprintf \"%.3g\" sd(3,s)*1e6)"
   ]
  },
  {
   "cell_type": "code",
   "execution_count": 4,
   "metadata": {},
   "outputs": [
    {
     "data": {
      "text/plain": [
       "printAllLines (generic function with 1 method)"
      ]
     },
     "execution_count": 4,
     "metadata": {},
     "output_type": "execute_result"
    }
   ],
   "source": [
    "function labelTvn(tvn, err)\n",
    "    if err <= 1e-8\n",
    "        return ffe6(tvn)\n",
    "    elseif err < 1e-4\n",
    "        return string(ffe6(tvn), \"\\\\tnote{*}\")\n",
    "    elseif err < 1\n",
    "        return string(ffe6(tvn), \"\\\\tnote{**}\")\n",
    "    else\n",
    "        return \"Inf\"\n",
    "    end\n",
    "end\n",
    "\n",
    "function printSolverCell(d, solver, i)\n",
    "    if haskey(d, string(solver, \"_tot\"))\n",
    "        itr = d[string(solver, \"_its\")][i]\n",
    "        ne = d[\"ne\"][i]\n",
    "        solveVn = d[string(solver, \"_solve\")][i] / ne\n",
    "        totalVn = d[string(solver, \"_tot\")][i] / ne\n",
    "        err = d[string(solver, \"_err\")][i]\n",
    "        return string(\"&\", nf(itr), \"&\", labelTvn(solveVn, err), \"&\", labelTvn(totalVn, err), \"&\",ffe8(err))\n",
    "    else\n",
    "        return \"&N/A&N/A&N/A&N/A\"\n",
    "    end\n",
    "end\n",
    "\n",
    "function nfffswitch(val)\n",
    "    if val < 1\n",
    "        return ff(val)\n",
    "    else\n",
    "        return nf(val)\n",
    "    end\n",
    "end\n",
    "\n",
    "function printOneLine(d, solvers, i)\n",
    "    allCells = [printSolverCell(d, solver, i) for solver in solvers]\n",
    "    return string(nfffswitch(exp10(i-4)),\"&\", ffM(d[\"ne\"][i]), \"&\", ffM(d[\"nv\"][i]), join(allCells), \"\\\\\\\\\")\n",
    "end\n",
    "\n",
    "function printAllLines(d, solvers)\n",
    "    for i in 1:length(d[\"testName\"])\n",
    "        println(printOneLine(d, solvers, i))\n",
    "    end\n",
    "end"
   ]
  },
  {
   "cell_type": "code",
   "execution_count": 5,
   "metadata": {},
   "outputs": [
    {
     "name": "stdout",
     "output_type": "stream",
     "text": [
      "0.001&203&29.6&26&0.637&1.16&0.661&19&0.729&1.99&0.871&25&0.539&0.968&0.922\\\\\n",
      "0.01&200&28.8&26&0.724&1.32&0.904&20&0.864&2.26&0.592&26&0.564&0.979&0.682\\\\\n",
      "0.1&200&28.7&27&0.809&1.42&0.618&20&0.956&2.42&0.681&26&0.586&1&0.759\\\\\n",
      "1&200&28.7&26&0.811&1.44&0.906&20&0.994&2.5&0.753&28&0.64&1.05&0.591\\\\\n",
      "10&200&28.7&27&0.858&1.48&0.635&20&0.991&2.47&0.61&28&0.761&1.19&0.677\\\\\n",
      "100&196&28.6&25&0.741&1.31&0.845&19&0.837&2.12&0.842&28&0.633&1.07&0.637\\\\\n",
      "1000&189&29.9&23&0.494&0.956&0.733&18&0.502&1.39&0.454&17&0.379&0.845&0.749\\\\\n"
     ]
    }
   ],
   "source": [
    "solvers1 = [\"ac\", \"ac-s2m2\", \"cmg2\"]\n",
    "printAllLines(dic1, solvers1)"
   ]
  },
  {
   "cell_type": "code",
   "execution_count": 6,
   "metadata": {},
   "outputs": [
    {
     "name": "stdout",
     "output_type": "stream",
     "text": [
      "0.001&203&29.6&7&0.222&0.589&0.192&5&0.677&1.62&0.00366&47&0.757&0.836&0.948\\\\\n",
      "0.01&200&28.8&7&0.228&0.583&0.2&5&0.732&1.84&0.00456&81&1.26&1.35&0.981\\\\\n",
      "0.1&200&28.7&7&0.234&0.581&0.204&5&0.808&2.15&0.00618&132&2.04&2.15&0.989\\\\\n",
      "1&200&28.7&7&0.235&0.587&0.205&6&1.01&2.6&0.000371&189&2.93&3.08&0.955\\\\\n",
      "10&200&28.7&8&0.261&0.614&0.103&5&0.638&1.77&0.00414&101&1.58&1.72&0.924\\\\\n",
      "100&196&28.6&7&0.223&0.574&0.187&4&0.494&1.52&0.116&35&0.562&0.696&0.763\\\\\n",
      "1000&189&29.9&7&0.194&0.476&0.0744&4&0.545&1.41&0.00211&12&0.21&0.348&0.651\\\\\n"
     ]
    }
   ],
   "source": [
    "solvers2 = [\"hypre\", \"petsc_hypre\", \"icc2\"]\n",
    "printAllLines(dic1, solvers2)"
   ]
  }
 ],
 "metadata": {
  "kernelspec": {
   "display_name": "Julia 1.10.2",
   "language": "julia",
   "name": "julia-1.10"
  },
  "language_info": {
   "file_extension": ".jl",
   "mimetype": "application/julia",
   "name": "julia",
   "version": "1.10.2"
  }
 },
 "nbformat": 4,
 "nbformat_minor": 4
}
