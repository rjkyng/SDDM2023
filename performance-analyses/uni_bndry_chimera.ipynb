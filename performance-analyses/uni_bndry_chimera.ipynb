{
 "cells": [
  {
   "cell_type": "code",
   "execution_count": 1,
   "metadata": {},
   "outputs": [],
   "source": [
    "using JLD2\n",
    "using Statistics\n",
    "using Revise\n",
    "using Plots \n",
    "using Laplacians"
   ]
  },
  {
   "cell_type": "code",
   "execution_count": 2,
   "metadata": {},
   "outputs": [
    {
     "data": {
      "text/plain": [
       "nanErr! (generic function with 1 method)"
      ]
     },
     "execution_count": 2,
     "metadata": {},
     "output_type": "execute_result"
    }
   ],
   "source": [
    "function nanErr!(d)\n",
    "    for (key, value) in d\n",
    "        if occursin(\"err\", key)\n",
    "            for i in 1:length(value)\n",
    "                if isnan(value[i])\n",
    "                    d[key][i] = Inf\n",
    "                end\n",
    "            end\n",
    "        end\n",
    "    end\n",
    "end"
   ]
  },
  {
   "cell_type": "code",
   "execution_count": 3,
   "metadata": {},
   "outputs": [
    {
     "data": {
      "text/plain": [
       "Dict{Any,Any} with 84 entries:\n",
       "  \"lamg_build\"        => [Inf, Inf, Inf, 26.7645, 513.611, 335.11, Inf, Inf, In…\n",
       "  \"acM2C2_err\"        => [2.45124e-9, 4.06815e-9, 4.94714e-9, 4.08455e-9, 2.320…\n",
       "  \"hypre_solve\"       => [96.17, 101.79, Inf, 82.77, 224.14, 88.3, 149.98, 102.…\n",
       "  \"acM2C2_solve\"      => [87.0844, 116.931, 85.7109, 104.438, 269.125, 145.586,…\n",
       "  \"icc2_tot\"          => [98.7038, 107.56, 51.291, 108.274, 102.187, 215.613, 1…\n",
       "  \"acM2C2_tot\"        => [166.092, 272.207, 155.58, 208.63, 617.882, 344.836, 5…\n",
       "  \"ac_lst_build\"      => [81.096, 150.887, 68.8425, 106.692, 229.62, 175.711, 1…\n",
       "  \"petsc_hypre_build\" => [Inf, 961.031, Inf, 745.525, Inf, 395.394, Inf, Inf, 2…\n",
       "  \"lamg_its\"          => [Inf, Inf, Inf, 2.0, 7.0, 8.0, Inf, Inf, Inf, 9.0, Inf…\n",
       "  \"lamg_solve\"        => [Inf, Inf, Inf, 0.131158, 441.227, 271.115, Inf, Inf, …\n",
       "  \"hypre_its\"         => [10.0, 9.0, Inf, 9.0, 11.0, 9.0, 9.0, 9.0, 11.0, 8.0, …\n",
       "  \"cmg_solve\"         => [104.152, 153.832, 122.265, 99.5135, 419.037, 207.53, …\n",
       "  \"ac_tot\"            => [137.087, 220.805, 116.05, 168.041, 379.637, 319.995, …\n",
       "  \"ac1_solve\"         => [94.9614, 162.514, 86.2658, 107.543, 244.872, 120.936,…\n",
       "  \"cmg_build\"         => [52.5234, 96.9281, 54.9341, 44.7178, 286.26, 122.508, …\n",
       "  \"acM2C2_lst_tot\"    => [192.904, 328.092, 206.35, 243.777, 681.921, 371.58, 5…\n",
       "  \"icc2_solve\"        => [83.1752, 86.8736, 32.0968, 91.9656, 79.2806, 192.081,…\n",
       "  \"hypre_tot\"         => [328.02, 352.98, Inf, 295.68, 903.08, 292.12, 619.22, …\n",
       "  \"ac2_solve\"         => [78.4329, 129.924, 85.8035, 105.91, 257.06, 104.957, 2…\n",
       "  \"ac_lst_its\"        => [27.0, 24.0, 26.0, 26.0, 22.0, 29.0, 24.0, 28.0, 20.0,…\n",
       "  \"acM2C2_lst_solve\"  => [87.5879, 125.861, 99.9478, 103.106, 245.703, 129.541,…\n",
       "  \"ac-s2m2_its\"       => [19.0, 16.0, 22.0, 20.0, 19.0, 18.0, 18.0, 19.0, 17.0,…\n",
       "  \"petsc_hypre_solve\" => [Inf, 1136.82, Inf, 634.715, Inf, 480.974, Inf, Inf, 5…\n",
       "  \"ac1_its\"           => [25.0, 24.0, 26.0, 22.0, 23.0, 17.0, 22.0, 25.0, 23.0,…\n",
       "  \"ac_lst_tot\"        => [170.133, 277.384, 154.467, 215.01, 419.903, 343.386, …\n",
       "  ⋮                   => ⋮"
      ]
     },
     "execution_count": 3,
     "metadata": {},
     "output_type": "execute_result"
    }
   ],
   "source": [
    "@load \"uni_bndry_chimera_all.jl.split02merge02.n10000.h1.0.jld2\"\n",
    "dic1 = copy(dic)\n",
    "@load \"uni_bndry_chimera_all.jl.split02merge02.n100000.h2.0.jld2\"\n",
    "dic2 = copy(dic)\n",
    "@load \"uni_bndry_chimera_all.jl.split02merge02.n1000000.h4.0.jld2\"\n",
    "dic3 = copy(dic)\n",
    "@load \"uni_bndry_chimera_all.jl.split02merge02.n10000000.h8.0.jld2\"\n",
    "dic4 = copy(dic)"
   ]
  },
  {
   "cell_type": "code",
   "execution_count": 4,
   "metadata": {},
   "outputs": [],
   "source": [
    "nanErr!(dic1);\n",
    "nanErr!(dic2);\n",
    "nanErr!(dic3);\n",
    "nanErr!(dic4);"
   ]
  },
  {
   "cell_type": "code",
   "execution_count": 5,
   "metadata": {},
   "outputs": [
    {
     "data": {
      "text/plain": [
       "ffmicro (generic function with 1 method)"
      ]
     },
     "execution_count": 5,
     "metadata": {},
     "output_type": "execute_result"
    }
   ],
   "source": [
    "using Printf\n",
    "\n",
    "function sd(d,x)\n",
    "    #scale = exp10(ceil(log10(abs(x)))-d)\n",
    "    #return round(x/scale)*scale\n",
    "    return round(x, sigdigits=3)\n",
    "end        \n",
    "ff(s) = (@sprintf \"%.4g\" sd(3,s))\n",
    "nf(s) = (@sprintf \"%d\" sd(3,s))\n",
    "ffK(s) = (@sprintf \"%.4g\" sd(3,s)/1000)\n",
    "nfK(s) =  round(Int64, sd(3,s)/1000)\n",
    "ffe8(s) = (@sprintf \"%.3g\" sd(3,s)*1e8)\n",
    "ffe6(s) = (@sprintf \"%.3g\" sd(3,s)*1e6)\n",
    "ffmicro(s) = (@sprintf \"%.4g\" sd(3,s)*1e6)"
   ]
  },
  {
   "cell_type": "code",
   "execution_count": 6,
   "metadata": {},
   "outputs": [
    {
     "data": {
      "text/plain": [
       "printMax (generic function with 1 method)"
      ]
     },
     "execution_count": 6,
     "metadata": {},
     "output_type": "execute_result"
    }
   ],
   "source": [
    "function labelTvn(tvn, err)\n",
    "    if err <= 1e-8\n",
    "        return ffe6(tvn)\n",
    "    elseif err < 1e-4\n",
    "        return string(ffe6(tvn), \"\\\\tnote{*}\")\n",
    "    elseif err < 1\n",
    "        return string(ffe6(tvn), \"\\\\tnote{**}\")\n",
    "    else\n",
    "        return \"Inf\"\n",
    "    end\n",
    "end\n",
    "\n",
    "function printMedian(d, solver)\n",
    "    if haskey(d, string(solver, \"_tot\")) && length(d[string(solver, \"_tot\")]) == length(d[\"ne\"])\n",
    "        tvn = median(d[string(solver, \"_tot\")] ./ d[\"ne\"] )\n",
    "        err = median(d[string(solver, \"_err\")])\n",
    "        return labelTvn(tvn, err)\n",
    "    else\n",
    "        return \"N/A\"\n",
    "    end\n",
    "end\n",
    "\n",
    "function print75(d, solver)\n",
    "    if haskey(d, string(solver, \"_tot\")) && length(d[string(solver, \"_tot\")]) == length(d[\"ne\"])\n",
    "        tvn = quantile(d[string(solver, \"_tot\")] ./ d[\"ne\"], 0.75)\n",
    "        err = quantile(d[string(solver, \"_err\")], 0.75)\n",
    "        return labelTvn(tvn, err)\n",
    "    else\n",
    "        return \"N/A\"\n",
    "    end\n",
    "end\n",
    "\n",
    "function printMax(d, solver)\n",
    "    if haskey(d, string(solver, \"_tot\")) && length(d[string(solver, \"_tot\")]) == length(d[\"ne\"])\n",
    "        tvn = maximum(d[string(solver, \"_tot\")] ./ d[\"ne\"])\n",
    "        err = maximum(d[string(solver, \"_err\")])\n",
    "        return labelTvn(tvn, err)\n",
    "    else\n",
    "        return \"N/A\"\n",
    "    end\n",
    "end"
   ]
  },
  {
   "cell_type": "code",
   "execution_count": 11,
   "metadata": {},
   "outputs": [
    {
     "data": {
      "text/plain": [
       "printAllLines (generic function with 1 method)"
      ]
     },
     "execution_count": 11,
     "metadata": {},
     "output_type": "execute_result"
    }
   ],
   "source": [
    "function printSolverCell(d, solver) \n",
    "    return string(printMedian(d, solver), \"&\", print75(d, solver), \"&\", printMax(d, solver))\n",
    "end\n",
    "\n",
    "function printOneLine(d, solvers)\n",
    "    allCells = [printSolverCell(d, solver) for solver in solvers]\n",
    "    println(string(ffK(d[\"nv\"][1]), \"&\", length(d[\"testName\"]), \"&\", join(allCells, \"&\"), \"\\\\\\\\\"))\n",
    "end\n",
    "\n",
    "function printAllLines(dics, solvers)\n",
    "    for d in dics\n",
    "        printOneLine(d, solvers)\n",
    "    end\n",
    "end"
   ]
  },
  {
   "cell_type": "code",
   "execution_count": 12,
   "metadata": {},
   "outputs": [],
   "source": [
    "dics = [dic1, dic2, dic3, dic4];"
   ]
  },
  {
   "cell_type": "code",
   "execution_count": 13,
   "metadata": {},
   "outputs": [
    {
     "name": "stdout",
     "output_type": "stream",
     "text": [
      "9.54&103&0.379&0.391&0.42&0.543&0.6&0.739&8.23&11.1&17.7\\\\\n",
      "97.9&116&0.585&0.684&1.5&0.878&1.19&1.9&2.02&2.83&Inf\\\\\n",
      "990&29&1.43&1.62&1.8&1.58&2.01&2.83&1.86&2.52&Inf\\\\\n",
      "9950&12&2.7&2.95&3.4&2.84&3.47&5.44&3.58&4.85&7.26\\\\\n"
     ]
    }
   ],
   "source": [
    "solvers=[\"ac\", \"ac-s2m2\", \"cmg2\"]\n",
    "printAllLines(dics, solvers)"
   ]
  },
  {
   "cell_type": "code",
   "execution_count": 14,
   "metadata": {},
   "outputs": [
    {
     "name": "stdout",
     "output_type": "stream",
     "text": [
      "9.54&103&0.904&1.09&2.18&3.56&7.71&21.4&4.38&5.38&9.39\\\\\n",
      "97.9&116&1.25&1.75&4.89&11.2&35&167&1.06&1.36&3.87\\\\\n",
      "990&29&2.8&4.14&11.4&32.7&86.5&Inf&1.07&1.52&Inf\\\\\n",
      "9950&12&5.92&7.73&Inf&Inf&Inf&Inf&1.64&1.83&4.63\\\\\n"
     ]
    }
   ],
   "source": [
    "solvers = [\"hypre\", \"petsc_hypre\", \"icc2\"]\n",
    "printAllLines(dics, solvers)"
   ]
  }
 ],
 "metadata": {
  "kernelspec": {
   "display_name": "Julia 1.5.3",
   "language": "julia",
   "name": "julia-1.5"
  },
  "language_info": {
   "file_extension": ".jl",
   "mimetype": "application/julia",
   "name": "julia",
   "version": "1.5.3"
  }
 },
 "nbformat": 4,
 "nbformat_minor": 4
}
