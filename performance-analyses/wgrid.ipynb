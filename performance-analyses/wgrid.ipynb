{
 "cells": [
  {
   "cell_type": "code",
   "execution_count": 1,
   "metadata": {},
   "outputs": [],
   "source": [
    "using JLD2\n",
    "using Statistics\n",
    "using Revise\n",
    "using Plots\n",
    "using Laplacians\n",
    "using Printf"
   ]
  },
  {
   "cell_type": "code",
   "execution_count": 2,
   "metadata": {},
   "outputs": [
    {
     "data": {
      "text/plain": [
       "Dict{Any, Any} with 84 entries:\n",
       "  \"lamg_build\"        => [363.211, 350.476, 324.422, 329.775, 337.111, 277.833,…\n",
       "  \"acM2C2_err\"        => [6.0718e-9, 9.48525e-9, 6.55088e-9, 6.11278e-9, 5.1397…\n",
       "  \"hypre_solve\"       => [59.37, 59.74, 64.19, 47.03, 64.66, 56.32, 44.69]\n",
       "  \"acM2C2_solve\"      => [298.573, 259.155, 243.942, 271.495, 180.748, 107.17, …\n",
       "  \"icc2_tot\"          => [680.159, 604.273, 555.115, 530.482, 462.795, 261.693,…\n",
       "  \"acM2C2_tot\"        => [540.099, 504.874, 499.0, 536.09, 497.11, 299.526, 253…\n",
       "  \"ac_lst_build\"      => [214.724, 229.054, 231.638, 218.967, 285.977, 476.579,…\n",
       "  \"petsc_hypre_build\" => [107.746, 128.613, 431.093, 319.13, 293.971, 84.1446, …\n",
       "  \"lamg_its\"          => [9.0, 9.0, 9.0, 8.0, 10.0, 13.0, 14.0]\n",
       "  \"lamg_solve\"        => [458.241, 439.766, 413.963, 361.416, 478.587, 572.141,…\n",
       "  \"hypre_its\"         => [7.0, 7.0, 8.0, 7.0, 7.0, 8.0, 7.0]\n",
       "  \"cmg_solve\"         => [97.1844, 98.3972, 98.4658, 100.537, 102.408, 110.121,…\n",
       "  \"ac_tot\"            => [334.537, 306.484, 274.221, 304.897, 242.946, 183.251,…\n",
       "  \"ac1_solve\"         => [316.238, 284.106, 250.112, 276.201, 196.173, 91.9486,…\n",
       "  \"cmg_build\"         => [23.013, 23.2588, 23.0735, 23.2308, 25.1187, 24.615, 2…\n",
       "  \"acM2C2_lst_tot\"    => [814.765, 770.079, 723.824, 706.016, 1049.44, 1178.61,…\n",
       "  \"icc2_solve\"        => [650.243, 574.4, 525.117, 500.341, 432.705, 231.808, 9…\n",
       "  \"hypre_tot\"         => [132.43, 136.66, 154.35, 117.69, 124.98, 89.88, 66.47]\n",
       "  \"ac2_solve\"         => [300.969, 305.852, 287.873, 309.908, 207.933, 102.618,…\n",
       "  \"ac_lst_its\"        => [33.0, 29.0, 22.0, 26.0, 17.0, 10.0, 12.0]\n",
       "  \"acM2C2_lst_solve\"  => [345.224, 324.723, 281.326, 284.089, 175.395, 200.072,…\n",
       "  \"ac-s2m2_its\"       => [25.0, 23.0, 20.0, 20.0, 15.0, 12.0, 10.0]\n",
       "  \"petsc_hypre_solve\" => [124.167, 146.665, 552.9, 172.288, 217.307, 125.748, 1…\n",
       "  \"ac1_its\"           => [32.0, 29.0, 23.0, 24.0, 17.0, 10.0, 7.0]\n",
       "  \"ac_lst_tot\"        => [512.435, 499.33, 439.424, 442.022, 437.889, 618.533, …\n",
       "  ⋮                   => ⋮"
      ]
     },
     "execution_count": 2,
     "metadata": {},
     "output_type": "execute_result"
    }
   ],
   "source": [
    "@load \"wgrid_all.jl.split02merge02.jld2\"\n",
    "dic1 = copy(dic)"
   ]
  },
  {
   "cell_type": "code",
   "execution_count": 3,
   "metadata": {},
   "outputs": [
    {
     "data": {
      "text/plain": [
       "ffe6 (generic function with 1 method)"
      ]
     },
     "execution_count": 3,
     "metadata": {},
     "output_type": "execute_result"
    }
   ],
   "source": [
    "function sd(d,x)\n",
    "    #scale = exp10(ceil(log10(abs(x)))-d)\n",
    "    #return round(x/scale)*scale\n",
    "    return round(x, sigdigits=d)\n",
    "end        \n",
    "\n",
    "#constant d = 3\n",
    "ff(s) = (@sprintf \"%.3g\" sd(3,s))\n",
    "nf(s) = (@sprintf \"%d\" sd(3,s))\n",
    "\n",
    "ffK(s) = (@sprintf \"%.3g\" sd(3,s)/1000)\n",
    "nfK(s) =  round(Int64, sd(3,s)/1000)\n",
    "\n",
    "ffe8(s) = (@sprintf \"%.3g\" sd(3,s)*1e8)\n",
    "ffM(s) = (@sprintf \"%.3g\" sd(3,s)/1e6)\n",
    "nfM(s) =  round(Int64, sd(3,s)/1e6)\n",
    "ffe6(s) = (@sprintf \"%.3g\" sd(3,s)*1e6)"
   ]
  },
  {
   "cell_type": "code",
   "execution_count": 4,
   "metadata": {},
   "outputs": [
    {
     "data": {
      "text/plain": [
       "printAllLines (generic function with 1 method)"
      ]
     },
     "execution_count": 4,
     "metadata": {},
     "output_type": "execute_result"
    }
   ],
   "source": [
    "function labelTvn(tvn, err)\n",
    "    if err <= 1e-8\n",
    "        return ffe6(tvn)\n",
    "    elseif err < 1e-4\n",
    "        return string(ffe6(tvn), \"\\\\tnote{*}\")\n",
    "    elseif err < 1\n",
    "        return string(ffe6(tvn), \"\\\\tnote{**}\")\n",
    "    else\n",
    "        return \"Inf\"\n",
    "    end\n",
    "end\n",
    "\n",
    "function printSolverCell(d, solver, i)\n",
    "    if haskey(d, string(solver, \"_tot\"))\n",
    "        itr = d[string(solver, \"_its\")][i]\n",
    "        ne = d[\"ne\"][i]\n",
    "        solveVn = d[string(solver, \"_solve\")][i] / ne\n",
    "        totalVn = d[string(solver, \"_tot\")][i] / ne\n",
    "        err = d[string(solver, \"_err\")][i]\n",
    "        return string(\"&\", nf(itr), \"&\", labelTvn(solveVn, err), \"&\", labelTvn(totalVn, err), \"&\",ffe8(err))\n",
    "    else\n",
    "        return \"&N/A&N/A&N/A&N/A\"\n",
    "    end\n",
    "end\n",
    "\n",
    "function nfffswitch(val)\n",
    "    if val < 1\n",
    "        return ff(val)\n",
    "    else\n",
    "        return nf(val)\n",
    "    end\n",
    "end\n",
    "\n",
    "function printOneLine(d, solvers, i)\n",
    "    allCells = [printSolverCell(d, solver, i) for solver in solvers]\n",
    "    return string(nfffswitch(exp10(i-4)), join(allCells), \"\\\\\\\\\")\n",
    "end\n",
    "\n",
    "function printAllLines(d, solvers)\n",
    "    for i in 1:length(d[\"testName\"])\n",
    "        println(printOneLine(d, solvers, i))\n",
    "    end\n",
    "end"
   ]
  },
  {
   "cell_type": "code",
   "execution_count": 5,
   "metadata": {},
   "outputs": [
    {
     "name": "stdout",
     "output_type": "stream",
     "text": [
      "0.001&39&1.09&1.67&0.902&25&1.09&2.48&0.657&28&0.568&0.979&0.645\\\\\n",
      "0.01&33&0.951&1.53&0.944&23&0.997&2.41&0.963&27&0.55&0.974&0.83\\\\\n",
      "0.1&26&0.778&1.37&0.992&20&0.925&2.39&0.645&28&0.573&0.983&0.619\\\\\n",
      "1&26&0.814&1.52&0.952&20&0.991&2.5&0.846&28&0.636&1.05&0.653\\\\\n",
      "10&20&0.571&1.21&0.818&15&0.63&1.95&0.413&31&0.857&1.27&0.785\\\\\n",
      "100&17&0.399&0.916&0.464&12&0.378&1.51&0.612&30&0.722&1.15&0.83\\\\\n",
      "1000&14&0.302&0.78&0.814&10&0.257&1.05&0.91&30&0.684&1.09&0.865\\\\\n"
     ]
    }
   ],
   "source": [
    "solvers1 = [\"ac\", \"ac-s2m2\", \"cmg2\"]\n",
    "printAllLines(dic1, solvers1)"
   ]
  },
  {
   "cell_type": "code",
   "execution_count": 6,
   "metadata": {},
   "outputs": [
    {
     "name": "stdout",
     "output_type": "stream",
     "text": [
      "0.001&7&0.297&0.662&0.165&6&0.621&1.16&0.000816&210&3.25&3.4&0.991\\\\\n",
      "0.01&7&0.299&0.683&0.159&6&0.733&1.38&0.000871&185&2.87&3.02&1\\\\\n",
      "0.1&8&0.321&0.772&0.134&7&2.76&4.92&0.00865&169&2.63&2.78&0.97\\\\\n",
      "1&7&0.235&0.588&0.207&5&0.861&2.46&0.00581&157&2.5&2.65&0.971\\\\\n",
      "10&7&0.323&0.625&0.618&5&1.09&2.56&0.0704&139&2.16&2.31&0.997\\\\\n",
      "100&8&0.282&0.449&0.34&5&0.629&1.05&0.0317&74&1.16&1.31&0.998\\\\\n",
      "1000&7&0.223&0.332&0.128&6&0.644&0.904&0.000392&30&0.48&0.63&0.87\\\\\n"
     ]
    }
   ],
   "source": [
    "solvers2 = [\"hypre\", \"petsc_hypre\", \"icc2\"]\n",
    "printAllLines(dic1, solvers2)"
   ]
  }
 ],
 "metadata": {
  "kernelspec": {
   "display_name": "Julia 1.10.2",
   "language": "julia",
   "name": "julia-1.10"
  },
  "language_info": {
   "file_extension": ".jl",
   "mimetype": "application/julia",
   "name": "julia",
   "version": "1.10.2"
  }
 },
 "nbformat": 4,
 "nbformat_minor": 4
}
