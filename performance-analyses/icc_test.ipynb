{
 "cells": [
  {
   "cell_type": "code",
   "execution_count": null,
   "metadata": {},
   "outputs": [],
   "source": [
    "using JLD2\n",
    "using Statistics\n",
    "using Revise\n",
    "using Plots\n",
    "using Laplacians\n",
    "using Printf"
   ]
  },
  {
   "cell_type": "code",
   "execution_count": null,
   "metadata": {},
   "outputs": [],
   "source": [
    "function sd(d,x)\n",
    "    #scale = exp10(ceil(log10(abs(x)))-d)\n",
    "    #return round(x/scale)*scale\n",
    "    return round(x, sigdigits=d)\n",
    "end        \n",
    "ff(s) = (@sprintf \"%.4g\" sd(3,s))\n",
    "ffK(s) = (@sprintf \"%.5g\" sd(3,s)/1e3)\n",
    "ffM(s) = (@sprintf \"%.3g\" sd(3,s)/1e6)\n",
    "ffmicro(s) = (@sprintf \"%.4g\" sd(3,s)*1e6)\n",
    "ffe8(s) = (@sprintf \"%.4g\" sd(3,s)*1e8)"
   ]
  },
  {
   "cell_type": "code",
   "execution_count": null,
   "metadata": {},
   "outputs": [],
   "source": [
    "@load \"icc_test_small.jl.jld2\"\n",
    "dic_icc = copy(dic)"
   ]
  },
  {
   "cell_type": "code",
   "execution_count": null,
   "metadata": {},
   "outputs": [],
   "source": [
    "uni_chimera_indices = findall(entry -> contains(entry, \"uni_chimera(10000,\"), dic[\"testName\"])\n",
    "wted_chimera_indices = findall(entry -> contains(entry, \"wted_chimera(10000,\"), dic[\"testName\"])\n",
    "uni_bndry_chimera_indices = findall(entry -> contains(entry, \"uni_bndry_chimera(10000,\"), dic[\"testName\"])\n",
    "wted_bndry_chimera_indices = findall(entry -> contains(entry, \"wted_bndry_chimera(10000,\"), dic[\"testName\"])\n",
    "suitesparse_indices = setdiff(1:length(dic[\"testName\"]), vcat(uni_chimera_indices, wted_chimera_indices, uni_bndry_chimera_indices, wted_bndry_chimera_indices)),\n"
   ]
  },
  {
   "cell_type": "code",
   "execution_count": null,
   "metadata": {},
   "outputs": [],
   "source": [
    "problem_idx = [suitesparse_indices, uni_chimera_indices, wted_chimera_indices, uni_bndry_chimera_indices, wted_bndry_chimera_indices]\n",
    "problem_names = [\"suitesparse\", \"uni_chimera\", \"wted_chimera\", \"uni_bndry_chimera\", \"wted_bndry_chimera\"]"
   ]
  },
  {
   "cell_type": "code",
   "execution_count": null,
   "metadata": {},
   "outputs": [],
   "source": [
    "ratios = []\n",
    "errors = []\n",
    "for indices in problem_idx\n",
    "    ratio = dic[\"icc_tot\"][indices] ./ dic[\"ne\"][indices]\n",
    "    push!(ratios, ratio)\n",
    "    error = dic[\"icc_err\"][indices]\n",
    "    push!(errors, error)\n",
    "end\n"
   ]
  },
  {
   "cell_type": "code",
   "execution_count": null,
   "metadata": {},
   "outputs": [],
   "source": [
    "for (name, ratio, error) in zip(problem_names, ratios, errors)\n",
    "    mean_val = mean(ratio)\n",
    "    quantile_val = quantile(ratio, 0.75)\n",
    "    max_val = maximum(ratio)\n",
    "    \n",
    "    @printf(\"%-20s - Ratio - Mean: %10s | 0.75 Quantile: %10s | Max: %10s\\n\", name, ffmicro(mean_val), ffmicro(quantile_val), ffmicro(max_val))\n",
    "    mean_error = mean(error)\n",
    "    quantile_error = quantile(error, 0.75)\n",
    "    max_error = maximum(error)\n",
    "    \n",
    "    @printf(\"%-20s - Error - Mean: %10s | 0.75 Quantile: %10s | Max: %10s\\n\", name, ffe8(mean_error), ffe8(quantile_error), ffe8(max_error))\n",
    "end"
   ]
  },
  {
   "cell_type": "code",
   "execution_count": null,
   "metadata": {},
   "outputs": [],
   "source": []
  }
 ],
 "metadata": {
  "kernelspec": {
   "display_name": "Julia 1.5.3",
   "language": "julia",
   "name": "julia-1.5"
  },
  "language_info": {
   "file_extension": ".jl",
   "mimetype": "application/julia",
   "name": "julia",
   "version": "1.5.3"
  }
 },
 "nbformat": 4,
 "nbformat_minor": 2
}
