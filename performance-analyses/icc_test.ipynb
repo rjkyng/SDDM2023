{
 "cells": [
  {
   "cell_type": "code",
   "execution_count": 1,
   "metadata": {},
   "outputs": [],
   "source": [
    "using JLD2\n",
    "using Statistics\n",
    "using Revise\n",
    "using Plots\n",
    "using Laplacians\n",
    "using Printf"
   ]
  },
  {
   "cell_type": "code",
   "execution_count": 2,
   "metadata": {},
   "outputs": [
    {
     "data": {
      "text/plain": [
       "ffe8 (generic function with 1 method)"
      ]
     },
     "execution_count": 2,
     "metadata": {},
     "output_type": "execute_result"
    }
   ],
   "source": [
    "function sd(d,x)\n",
    "    #scale = exp10(ceil(log10(abs(x)))-d)\n",
    "    #return round(x/scale)*scale\n",
    "    return round(x, sigdigits=d)\n",
    "end        \n",
    "ff(s) = (@sprintf \"%.4g\" sd(3,s))\n",
    "ffK(s) = (@sprintf \"%.5g\" sd(3,s)/1e3)\n",
    "ffM(s) = (@sprintf \"%.3g\" sd(3,s)/1e6)\n",
    "ffmicro(s) = (@sprintf \"%.4g\" sd(3,s)*1e6)\n",
    "ffe8(s) = (@sprintf \"%.4g\" sd(3,s)*1e8)"
   ]
  },
  {
   "cell_type": "code",
   "execution_count": 3,
   "metadata": {},
   "outputs": [
    {
     "data": {
      "text/plain": [
       "Dict{Any,Any} with 9 entries:\n",
       "  \"names\"     => [\"icc\"]\n",
       "  \"icc_solve\" => [0.194866, 0.18172, 0.200608, 0.220001, 0.19937, 0.32742, 0.19…\n",
       "  \"icc_its\"   => [21.0, 22.0, 33.0, 65.0, 52.0, 232.0, 40.0, 62.0, 27.0, 46.0  …\n",
       "  \"ne\"        => [53364, 90000, 35334, 60284, 90000, 46148, 30828, 41614, 96292…\n",
       "  \"testName\"  => [\"uni_chimera(10000,1)\", \"uni_chimera(10000,2)\", \"uni_chimera(…\n",
       "  \"icc_build\" => [0.016394, 0.017483, 0.016748, 0.016273, 0.018803, 0.016873, 0…\n",
       "  \"icc_err\"   => [8.6371e-9, 5.18389e-9, 8.69277e-9, 8.93221e-9, 6.58878e-9, 9.…\n",
       "  \"nv\"        => [10000, 10000, 10000, 10000, 10000, 10000, 10000, 10000, 10000…\n",
       "  \"icc_tot\"   => [0.21126, 0.199203, 0.217356, 0.236274, 0.218173, 0.344293, 0.…"
      ]
     },
     "execution_count": 3,
     "metadata": {},
     "output_type": "execute_result"
    }
   ],
   "source": [
    "@load \"icc_test_small.jl.jld2\"\n",
    "dic_icc = copy(dic)"
   ]
  },
  {
   "cell_type": "code",
   "execution_count": 4,
   "metadata": {},
   "outputs": [],
   "source": [
    "uni_chimera_indices = findall(entry -> contains(entry, \"uni_chimera(10000,\"), dic_icc[\"testName\"])\n",
    "wted_chimera_indices = findall(entry -> contains(entry, \"wted_chimera(10000,\"), dic_icc[\"testName\"])\n",
    "uni_bndry_chimera_indices = findall(entry -> contains(entry, \"uni_bndry_chimera(10000,\"), dic_icc[\"testName\"])\n",
    "wted_bndry_chimera_indices = findall(entry -> contains(entry, \"wted_bndry_chimera(10000,\"), dic_icc[\"testName\"])\n",
    "suitesparse_indices = setdiff(1:length(dic_icc[\"testName\"]), vcat(uni_chimera_indices, wted_chimera_indices, uni_bndry_chimera_indices, wted_bndry_chimera_indices));\n"
   ]
  },
  {
   "cell_type": "code",
   "execution_count": 5,
   "metadata": {},
   "outputs": [
    {
     "data": {
      "text/plain": [
       "5-element Array{String,1}:\n",
       " \"suitesparse\"\n",
       " \"uni_chimera\"\n",
       " \"wted_chimera\"\n",
       " \"uni_bndry_chimera\"\n",
       " \"wted_bndry_chimera\""
      ]
     },
     "execution_count": 5,
     "metadata": {},
     "output_type": "execute_result"
    }
   ],
   "source": [
    "problem_idx = [suitesparse_indices, uni_chimera_indices, wted_chimera_indices, uni_bndry_chimera_indices, wted_bndry_chimera_indices]\n",
    "problem_names = [\"suitesparse\", \"uni_chimera\", \"wted_chimera\", \"uni_bndry_chimera\", \"wted_bndry_chimera\"]"
   ]
  },
  {
   "cell_type": "code",
   "execution_count": 6,
   "metadata": {},
   "outputs": [],
   "source": [
    "ratios = []\n",
    "errors = []\n",
    "for indices in problem_idx\n",
    "    ratio = dic_icc[\"icc_tot\"][indices] ./ dic_icc[\"ne\"][indices]\n",
    "    push!(ratios, ratio)\n",
    "    error = dic_icc[\"icc_err\"][indices]\n",
    "    push!(errors, error)\n",
    "end\n"
   ]
  },
  {
   "cell_type": "code",
   "execution_count": 7,
   "metadata": {},
   "outputs": [
    {
     "name": "stdout",
     "output_type": "stream",
     "text": [
      "suitesparse          - Ratio - Mean:       29.8 | 0.75 Quantile:       42.2 | Max:        147\n",
      "\u001b[31msuitesparse          - Error - Mean:      0.366 | 0.75 Quantile:      0.739 | Max:      0.996\n",
      "\u001b[0muni_chimera          - Ratio - Mean:       4.22 | 0.75 Quantile:       5.17 | Max:       11.3\n",
      "\u001b[31muni_chimera          - Error - Mean:   2.91e+06 | 0.75 Quantile:      0.919 | Max:      1e+08\n",
      "\u001b[0mwted_chimera         - Ratio - Mean:       4.81 | 0.75 Quantile:        5.5 | Max:       14.3\n",
      "\u001b[31mwted_chimera         - Error - Mean:   2.91e+06 | 0.75 Quantile:      0.933 | Max:      1e+08\n",
      "\u001b[0muni_bndry_chimera    - Ratio - Mean:       4.26 | 0.75 Quantile:       5.35 | Max:       7.33\n",
      "\u001b[31muni_bndry_chimera    - Error - Mean:      0.682 | 0.75 Quantile:       0.82 | Max:      0.989\n",
      "\u001b[0mwted_bndry_chimera   - Ratio - Mean:       4.58 | 0.75 Quantile:       5.61 | Max:       10.2\n",
      "\u001b[31mwted_bndry_chimera   - Error - Mean:      0.708 | 0.75 Quantile:      0.893 | Max:      0.993\n",
      "\u001b[0m"
     ]
    }
   ],
   "source": [
    "for (name, ratio, error) in zip(problem_names, ratios, errors)\n",
    "    mean_val = mean(ratio)\n",
    "    quantile_val = quantile(ratio, 0.75)\n",
    "    max_val = maximum(ratio)\n",
    "    \n",
    "    @printf(\"%-20s - Ratio - Mean: %10s | 0.75 Quantile: %10s | Max: %10s\\n\", name, ffmicro(mean_val), ffmicro(quantile_val), ffmicro(max_val))\n",
    "    mean_error = mean(error)\n",
    "    quantile_error = quantile(error, 0.75)\n",
    "    max_error = maximum(error)\n",
    "    \n",
    "    @printf(\"\\u001b[31m%-20s - Error - Mean: %10s | 0.75 Quantile: %10s | Max: %10s\\n\\u001b[0m\", name, ffe8(mean_error), ffe8(quantile_error), ffe8(max_error))\n",
    "end"
   ]
  },
  {
   "cell_type": "code",
   "execution_count": 14,
   "metadata": {},
   "outputs": [
    {
     "data": {
      "text/plain": [
       "\"uni_chimera(10000,59)\""
      ]
     },
     "execution_count": 14,
     "metadata": {},
     "output_type": "execute_result"
    }
   ],
   "source": [
    "argmax_ratio = problem_idx[2][argmax(ratios[2])]\n",
    "dic_icc[\"testName\"][argmax_ratio]\n"
   ]
  },
  {
   "cell_type": "code",
   "execution_count": 22,
   "metadata": {},
   "outputs": [],
   "source": [
    "a = uni_chimera(10000,59)\n",
    "b = randn(10000)\n",
    "b = (b .- mean(b))\n",
    "b = b./ norm(b);"
   ]
  },
  {
   "cell_type": "code",
   "execution_count": 18,
   "metadata": {},
   "outputs": [
    {
     "data": {
      "text/plain": [
       "timeLimitRchol (generic function with 1 method)"
      ]
     },
     "execution_count": 18,
     "metadata": {},
     "output_type": "execute_result"
    },
    {
     "name": "stderr",
     "output_type": "stream",
     "text": [
      "WARNING: both LinearAlgebra and Plots export \"rotate!\"; uses of it in module Main must be qualified\n"
     ]
    }
   ],
   "source": [
    "include(\"../julia-files/compareSolvers.jl\")\n",
    "include(\"../julia-files/matlabSafe.jl\")"
   ]
  },
  {
   "cell_type": "code",
   "execution_count": 24,
   "metadata": {},
   "outputs": [
    {
     "name": "stdout",
     "output_type": "stream",
     "text": [
      "MATLAB is selecting SOFTWARE OPENGL rendering.\n",
      "\n",
      "                                                                              < M A T L A B (R) >\n",
      "                                                                    Copyright 1984-2020 The MathWorks, Inc.\n",
      "                                                                R2020b Update 3 (9.9.0.1538559) 64-bit (glnxa64)\n",
      "                                                                               November 23, 2020\n",
      "\n",
      "Warning: Function matches has the same name as a MATLAB builtin. We suggest you rename the function to avoid a potential name conflict. \n",
      " \n",
      "For online documentation, see https://www.mathworks.com/support\n",
      "For product information, visit www.mathworks.com.\n",
      " \n",
      ">> >> >> >> >> >> >> >> >> >> >> \n",
      "n =\n",
      "\n",
      "       10000\n",
      "\n",
      ">> >> >> >> >> >> >> >> >> >> >> >> >> \n",
      "relres =\n",
      "\n",
      "   8.7245e-09\n",
      "\n",
      ">> >> >> >> >> Build Time: 0.157044\n",
      "Solve Time: 0.482753\n",
      "Iterations: 413\n",
      "error: 8.724502358764304e-9\n",
      "Time to load and start Matlab: 6866 milliseconds/1000)\n"
     ]
    },
    {
     "data": {
      "text/plain": [
       "(0.482753, 0.157044, 413, 8.724502358764304e-9)"
      ]
     },
     "execution_count": 24,
     "metadata": {},
     "output_type": "execute_result"
    }
   ],
   "source": [
    "timeLimitIcc(Inf, lap(a), b; verbose=true)"
   ]
  },
  {
   "cell_type": "code",
   "execution_count": 26,
   "metadata": {},
   "outputs": [
    {
     "data": {
      "text/plain": [
       "\"20.7\""
      ]
     },
     "execution_count": 26,
     "metadata": {},
     "output_type": "execute_result"
    }
   ],
   "source": [
    "ffmicro((0.157044 + 0.482753) / nnz(lap(a)))"
   ]
  },
  {
   "cell_type": "code",
   "execution_count": 27,
   "metadata": {},
   "outputs": [
    {
     "data": {
      "text/plain": [
       "\"uni_chimera(10000,25)\""
      ]
     },
     "execution_count": 27,
     "metadata": {},
     "output_type": "execute_result"
    }
   ],
   "source": [
    "argmax_err = problem_idx[2][argmax(errors[2])]\n",
    "dic_icc[\"testName\"][argmax_err]"
   ]
  },
  {
   "cell_type": "code",
   "execution_count": 28,
   "metadata": {},
   "outputs": [],
   "source": [
    "a = uni_chimera(10000,25)\n",
    "b = randn(10000)\n",
    "b = (b .- mean(b))\n",
    "b = b./ norm(b);"
   ]
  },
  {
   "cell_type": "code",
   "execution_count": 29,
   "metadata": {},
   "outputs": [
    {
     "name": "stdout",
     "output_type": "stream",
     "text": [
      "MATLAB is selecting SOFTWARE OPENGL rendering.\n",
      "\n",
      "                                                                              < M A T L A B (R) >\n",
      "                                                                    Copyright 1984-2020 The MathWorks, Inc.\n",
      "                                                                R2020b Update 3 (9.9.0.1538559) 64-bit (glnxa64)\n",
      "                                                                               November 23, 2020\n",
      "\n",
      "Warning: Function matches has the same name as a MATLAB builtin. We suggest you rename the function to avoid a potential name conflict. \n",
      " \n",
      "For online documentation, see https://www.mathworks.com/support\n",
      "For product information, visit www.mathworks.com.\n",
      " \n",
      ">> >> >> >> >> >> >> >> >> >> >> \n",
      "n =\n",
      "\n",
      "       10000\n",
      "\n",
      ">> >> >> >> >> >> >> >> "
     ]
    },
    {
     "name": "stderr",
     "output_type": "stream",
     "text": [
      "Error using ichol\n",
      "Encountered nonpositive pivot.\n",
      " \n"
     ]
    },
    {
     "name": "stdout",
     "output_type": "stream",
     "text": [
      ">> >> >> >> >> "
     ]
    },
    {
     "name": "stderr",
     "output_type": "stream",
     "text": [
      "Unrecognized function or variable 'L'.\n",
      " \n",
      "Unrecognized function or variable 'xs'.\n",
      " \n"
     ]
    },
    {
     "name": "stdout",
     "output_type": "stream",
     "text": [
      "\n",
      "relres =\n",
      "\n",
      "     1\n",
      "\n",
      ">> >> >> >> >> Build Time: 0.033863\n",
      "Solve Time: 0.102437\n",
      "Iterations: Inf\n",
      "error: 1.0\n",
      "Time to load and start Matlab: 7458 milliseconds/1000)\n"
     ]
    },
    {
     "data": {
      "text/plain": [
       "(0.102437, 0.033863, Inf, 1.0)"
      ]
     },
     "execution_count": 29,
     "metadata": {},
     "output_type": "execute_result"
    }
   ],
   "source": [
    "timeLimitIcc(Inf, lap(a), b; verbose=true)"
   ]
  },
  {
   "cell_type": "code",
   "execution_count": null,
   "metadata": {},
   "outputs": [],
   "source": []
  }
 ],
 "metadata": {
  "kernelspec": {
   "display_name": "Julia 1.5.3",
   "language": "julia",
   "name": "julia-1.5"
  },
  "language_info": {
   "file_extension": ".jl",
   "mimetype": "application/julia",
   "name": "julia",
   "version": "1.5.3"
  }
 },
 "nbformat": 4,
 "nbformat_minor": 2
}
