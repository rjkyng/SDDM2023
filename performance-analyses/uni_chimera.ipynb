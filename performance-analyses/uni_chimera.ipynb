{
 "cells": [
  {
   "cell_type": "code",
   "execution_count": 1,
   "metadata": {},
   "outputs": [],
   "source": [
    "using JLD2\n",
    "using Statistics\n",
    "using Revise\n",
    "using Plots \n",
    "using Laplacians"
   ]
  },
  {
   "cell_type": "code",
   "execution_count": 2,
   "metadata": {},
   "outputs": [
    {
     "data": {
      "text/plain": [
       "nanErr! (generic function with 1 method)"
      ]
     },
     "execution_count": 2,
     "metadata": {},
     "output_type": "execute_result"
    }
   ],
   "source": [
    "function nanErr!(d)\n",
    "    for (key, value) in d\n",
    "        if occursin(\"err\", key)\n",
    "            for i in 1:length(value)\n",
    "                if isnan(value[i])\n",
    "                    d[key][i] = Inf\n",
    "                end\n",
    "            end\n",
    "        end\n",
    "    end\n",
    "end"
   ]
  },
  {
   "cell_type": "code",
   "execution_count": 3,
   "metadata": {},
   "outputs": [
    {
     "data": {
      "text/plain": [
       "Dict{Any, Any} with 84 entries:\n",
       "  \"lamg_build\"        => [Inf, Inf, Inf, 11.5191, 250.959, 164.867, Inf, Inf]\n",
       "  \"acM2C2_err\"        => [5.3766e-9, 6.22972e-9, 5.10428e-9, 8.3241e-9, 7.35432…\n",
       "  \"hypre_solve\"       => [114.8, 163.99, Inf, 125.44, 319.06, 115.77, 181.56, 2…\n",
       "  \"acM2C2_solve\"      => [90.5187, 124.18, 106.85, 101.285, 314.261, 149.967, 2…\n",
       "  \"icc2_tot\"          => [566.791, 110.233, 101.325, 197.025, 436.94, 4998.89, …\n",
       "  \"acM2C2_tot\"        => [166.28, 274.749, 202.467, 188.58, 819.113, 298.232, 5…\n",
       "  \"ac_lst_build\"      => [70.4133, 128.218, 106.649, 82.4338, 293.434, 119.623,…\n",
       "  \"petsc_hypre_build\" => [Inf, 985.023, Inf, 767.596, Inf, 402.708, Inf, Inf]\n",
       "  \"lamg_its\"          => [Inf, Inf, Inf, 2.0, 9.0, 9.0, Inf, Inf]\n",
       "  \"lamg_solve\"        => [Inf, Inf, Inf, 0.027887, 286.42, 154.003, Inf, Inf]\n",
       "  \"hypre_its\"         => [12.0, 15.0, Inf, 14.0, 16.0, 12.0, 11.0, 20.0]\n",
       "  \"cmg_solve\"         => [173.181, 198.855, 267.181, 171.128, 2058.44, 231.881,…\n",
       "  \"ac_tot\"            => [129.36, 202.406, 137.042, 160.754, 444.75, 312.313, 3…\n",
       "  \"ac1_solve\"         => [99.3219, 194.874, 98.998, 116.085, 302.259, 126.996, …\n",
       "  \"cmg_build\"         => [53.2062, 95.827, 53.5071, 45.8141, 283.319, 122.957, …\n",
       "  \"acM2C2_lst_tot\"    => [197.328, 331.924, 346.233, 242.224, 1011.15, 336.32, …\n",
       "  \"icc2_solve\"        => [532.335, 78.997, 79.1097, 150.048, 401.907, 3301.69, …\n",
       "  \"hypre_tot\"         => [349.75, 417.66, Inf, 341.62, 1007.01, 321.5, 653.95, …\n",
       "  \"ac2_solve\"         => [85.5285, 144.184, 107.694, 111.596, 323.452, 108.352,…\n",
       "  \"ac_lst_its\"        => [28.0, 25.0, 26.0, 27.0, 23.0, 27.0, 24.0, 28.0]\n",
       "  \"acM2C2_lst_solve\"  => [89.1492, 125.377, 151.829, 110.912, 365.821, 128.358,…\n",
       "  \"ac-s2m2_its\"       => [21.0, 17.0, 21.0, 19.0, 19.0, 20.0, 18.0, 20.0]\n",
       "  \"petsc_hypre_solve\" => [Inf, 1659.16, Inf, 1202.91, Inf, 885.125, Inf, Inf]\n",
       "  \"ac1_its\"           => [25.0, 28.0, 27.0, 23.0, 25.0, 17.0, 22.0, 24.0]\n",
       "  \"ac_lst_tot\"        => [166.831, 267.651, 224.408, 196.865, 530.262, 277.383,…\n",
       "  ⋮                   => ⋮"
      ]
     },
     "execution_count": 3,
     "metadata": {},
     "output_type": "execute_result"
    }
   ],
   "source": [
    "@load \"uni_chimera_all.jl.split02merge02.n10000.h1.0.jld2\"\n",
    "dic1 = copy(dic)\n",
    "@load \"uni_chimera_all.jl.split02merge02.n100000.h2.0.jld2\"\n",
    "dic2 = copy(dic)\n",
    "@load \"uni_chimera_all.jl.split02merge02.n1000000.h4.0.jld2\"\n",
    "dic3 = copy(dic)\n",
    "@load \"uni_chimera_all.jl.split02merge02.n10000000.h8.0.jld2\"\n",
    "dic4 = copy(dic)"
   ]
  },
  {
   "cell_type": "code",
   "execution_count": 4,
   "metadata": {},
   "outputs": [],
   "source": [
    "nanErr!(dic1);\n",
    "nanErr!(dic2);\n",
    "nanErr!(dic3);\n",
    "nanErr!(dic4);"
   ]
  },
  {
   "cell_type": "code",
   "execution_count": 5,
   "metadata": {},
   "outputs": [
    {
     "data": {
      "text/plain": [
       "ffmicro (generic function with 1 method)"
      ]
     },
     "execution_count": 5,
     "metadata": {},
     "output_type": "execute_result"
    }
   ],
   "source": [
    "using Printf\n",
    "\n",
    "function sd(d,x)\n",
    "    #scale = exp10(ceil(log10(abs(x)))-d)\n",
    "    #return round(x/scale)*scale\n",
    "    return round(x, sigdigits=3)\n",
    "end        \n",
    "ff(s) = (@sprintf \"%.4g\" sd(3,s))\n",
    "nf(s) = (@sprintf \"%d\" sd(3,s))\n",
    "ffK(s) = (@sprintf \"%.4g\" sd(3,s)/1000)\n",
    "nfK(s) =  round(Int64, sd(3,s)/1000)\n",
    "ffe8(s) = (@sprintf \"%.3g\" sd(3,s)*1e8)\n",
    "ffe6(s) = (@sprintf \"%.3g\" sd(3,s)*1e6)\n",
    "ffmicro(s) = (@sprintf \"%.4g\" sd(3,s)*1e6)"
   ]
  },
  {
   "cell_type": "code",
   "execution_count": 6,
   "metadata": {},
   "outputs": [
    {
     "data": {
      "text/plain": [
       "printMax (generic function with 1 method)"
      ]
     },
     "execution_count": 6,
     "metadata": {},
     "output_type": "execute_result"
    }
   ],
   "source": [
    "function labelTvn(tvn, err)\n",
    "    if err <= 1e-8\n",
    "        return ffe6(tvn)\n",
    "    elseif err < 1e-4\n",
    "        return string(ffe6(tvn), \"\\\\tnote{*}\")\n",
    "    elseif err < 1\n",
    "        return string(ffe6(tvn), \"\\\\tnote{**}\")\n",
    "    else\n",
    "        return \"Inf\"\n",
    "    end\n",
    "end\n",
    "\n",
    "function printMedian(d, solver)\n",
    "    if haskey(d, string(solver, \"_tot\")) && length(d[string(solver, \"_tot\")]) == length(d[\"ne\"])\n",
    "        tvn = median(d[string(solver, \"_tot\")] ./ d[\"ne\"] )\n",
    "        err = median(d[string(solver, \"_err\")])\n",
    "        return labelTvn(tvn, err)\n",
    "    else\n",
    "        return \"N/A\"\n",
    "    end\n",
    "end\n",
    "\n",
    "function print75(d, solver)\n",
    "    if haskey(d, string(solver, \"_tot\")) && length(d[string(solver, \"_tot\")]) == length(d[\"ne\"])\n",
    "        tvn = quantile(d[string(solver, \"_tot\")] ./ d[\"ne\"], 0.75)\n",
    "        err = quantile(d[string(solver, \"_err\")], 0.75)\n",
    "        return labelTvn(tvn, err)\n",
    "    else\n",
    "        return \"N/A\"\n",
    "    end\n",
    "end\n",
    "\n",
    "function printMax(d, solver)\n",
    "    if haskey(d, string(solver, \"_tot\")) && length(d[string(solver, \"_tot\")]) == length(d[\"ne\"])\n",
    "        tvn = maximum(d[string(solver, \"_tot\")] ./ d[\"ne\"])\n",
    "        err = maximum(d[string(solver, \"_err\")])\n",
    "        return labelTvn(tvn, err)\n",
    "    else\n",
    "        return \"N/A\"\n",
    "    end\n",
    "end"
   ]
  },
  {
   "cell_type": "code",
   "execution_count": 7,
   "metadata": {},
   "outputs": [
    {
     "data": {
      "text/plain": [
       "printAllLines (generic function with 1 method)"
      ]
     },
     "execution_count": 7,
     "metadata": {},
     "output_type": "execute_result"
    }
   ],
   "source": [
    "function printSolverCell(d, solver) \n",
    "    return string(printMedian(d, solver), \"&\", print75(d, solver), \"&\", printMax(d, solver))\n",
    "end\n",
    "\n",
    "function printOneLine(d, solvers)\n",
    "    allCells = [printSolverCell(d, solver) for solver in solvers]\n",
    "    println(string(nfK(d[\"nv\"][1]), \"&\", length(d[\"testName\"]), \"&\", join(allCells, \"&\"), \"\\\\\\\\\"))\n",
    "end\n",
    "\n",
    "function printAllLines(dics, solvers)\n",
    "    for d in dics\n",
    "        printOneLine(d, solvers)\n",
    "    end\n",
    "end"
   ]
  },
  {
   "cell_type": "code",
   "execution_count": 8,
   "metadata": {},
   "outputs": [],
   "source": [
    "dics = [dic1, dic2, dic3, dic4];"
   ]
  },
  {
   "cell_type": "code",
   "execution_count": 9,
   "metadata": {},
   "outputs": [
    {
     "name": "stdout",
     "output_type": "stream",
     "text": [
      "10&103&0.421&0.467&0.576&0.687&0.804&1.24&8.36&10.8&25.3\\\\\n",
      "100&105&0.676&0.87&1.56&1.08&1.44&3.18&2.06&2.74&Inf\\\\\n",
      "1000&23&1.5&1.73&2.39&1.72&2.83&3.58&2.18&2.94&12.9\\\\\n",
      "10000&8&2.79&3.4&3.95&3.57&5.06&7.19&3.35&4.97&Inf\\\\\n"
     ]
    }
   ],
   "source": [
    "solvers=[\"ac\", \"ac-s2m2\", \"cmg2\"]\n",
    "printAllLines(dics, solvers)"
   ]
  },
  {
   "cell_type": "code",
   "execution_count": 10,
   "metadata": {},
   "outputs": [
    {
     "name": "stdout",
     "output_type": "stream",
     "text": [
      "10&103&0.919&1.31&2.86\\tnote{**}&5.86&11.9&38.8\\tnote{*}&8.43&10.8&17.8\\tnote{*}\\\\\n",
      "100&105&1.38&2.29&6.23\\tnote{**}&18.9&48.9&182\\tnote{*}&3.35&4.9&19.2\\tnote{*}\\\\\n",
      "1000&23&3.19&5.73&15.4&97.6&370\\tnote{*}&Inf&6.92&11.3\\tnote{*}&28.4\\tnote{*}\\\\\n",
      "10000&8&6.7&7.8&Inf&Inf&Inf&Inf&4.3&9.52\\tnote{*}&41\\tnote{*}\\\\\n"
     ]
    }
   ],
   "source": [
    "solvers = [\"hypre\", \"petsc_hypre\", \"icc2\"]\n",
    "printAllLines(dics, solvers)"
   ]
  }
 ],
 "metadata": {
  "kernelspec": {
   "display_name": "Julia 1.10.2",
   "language": "julia",
   "name": "julia-1.10"
  },
  "language_info": {
   "file_extension": ".jl",
   "mimetype": "application/julia",
   "name": "julia",
   "version": "1.10.2"
  }
 },
 "nbformat": 4,
 "nbformat_minor": 4
}
