{
 "cells": [
  {
   "cell_type": "code",
   "execution_count": 1,
   "metadata": {},
   "outputs": [],
   "source": [
    "using JLD2\n",
    "using Statistics\n",
    "using Revise\n",
    "using Plots\n",
    "using Laplacians\n",
    "using Printf"
   ]
  },
  {
   "cell_type": "code",
   "execution_count": 2,
   "metadata": {},
   "outputs": [
    {
     "data": {
      "text/plain": [
       "ffe8 (generic function with 1 method)"
      ]
     },
     "execution_count": 2,
     "metadata": {},
     "output_type": "execute_result"
    }
   ],
   "source": [
    "function sd(d,x)\n",
    "    #scale = exp10(ceil(log10(abs(x)))-d)\n",
    "    #return round(x/scale)*scale\n",
    "    return round(x, sigdigits=d)\n",
    "end        \n",
    "ff(s) = (@sprintf \"%.4g\" sd(3,s))\n",
    "ffK(s) = (@sprintf \"%.5g\" sd(3,s)/1e3)\n",
    "ffM(s) = (@sprintf \"%.3g\" sd(3,s)/1e6)\n",
    "ffmicro(s) = (@sprintf \"%.4g\" sd(3,s)*1e6)\n",
    "ffe8(s) = (@sprintf \"%.4g\" sd(3,s)*1e8)"
   ]
  },
  {
   "cell_type": "code",
   "execution_count": 3,
   "metadata": {},
   "outputs": [
    {
     "data": {
      "text/plain": [
       "Dict{Any,Any} with 9 entries:\n",
       "  \"cmg_solve\" => [3.02144, 0.315614, 0.312859, 0.148132, 0.261944, 0.290326, 0.…\n",
       "  \"names\"     => [\"cmg\"]\n",
       "  \"cmg_build\" => [0.847754, 0.400594, 0.333275, 0.087946, 0.239077, 0.349053, 0…\n",
       "  \"ne\"        => [4996000, 327680, 197608, 3240, 87025, 197608, 4617, 7744, 313…\n",
       "  \"testName\"  => [\"McRae/ecology1\", \"MaxPlanck/shallow_water2\", \"GHS_psdef/tors…\n",
       "  \"cmg_tot\"   => [3.86919, 0.716208, 0.646134, 0.236078, 0.501021, 0.639379, 0.…\n",
       "  \"nv\"        => [1000000, 81920, 40000, 3240, 9801, 40000, 729, 900, 3134, 356…\n",
       "  \"cmg_its\"   => [28.0, 15.0, 19.0, 2.0, 22.0, 19.0, 19.0, 22.0, 2.0, 2.0  …  2…\n",
       "  \"cmg_err\"   => [6.12387e-9, 5.72918e-9, 9.70493e-9, 1.33409e-16, 9.4121e-9, 9…"
      ]
     },
     "execution_count": 3,
     "metadata": {},
     "output_type": "execute_result"
    }
   ],
   "source": [
    "@load \"cmg2_test_small.jl.jld2\"\n",
    "dic_cmg2 = copy(dic)"
   ]
  },
  {
   "cell_type": "code",
   "execution_count": 4,
   "metadata": {},
   "outputs": [],
   "source": [
    "uni_chimera_indices = findall(entry -> contains(entry, \"uni_chimera(10000,\"), dic_cmg2[\"testName\"])\n",
    "wted_chimera_indices = findall(entry -> contains(entry, \"wted_chimera(10000,\"), dic_cmg2[\"testName\"])\n",
    "uni_bndry_chimera_indices = findall(entry -> contains(entry, \"uni_bndry_chimera(10000,\"), dic_cmg2[\"testName\"])\n",
    "wted_bndry_chimera_indices = findall(entry -> contains(entry, \"wted_bndry_chimera(10000,\"), dic_cmg2[\"testName\"])\n",
    "suitesparse_indices = setdiff(1:length(dic_cmg2[\"testName\"]), vcat(uni_chimera_indices, wted_chimera_indices, uni_bndry_chimera_indices, wted_bndry_chimera_indices));\n"
   ]
  },
  {
   "cell_type": "code",
   "execution_count": 5,
   "metadata": {},
   "outputs": [
    {
     "data": {
      "text/plain": [
       "5-element Array{String,1}:\n",
       " \"suitesparse\"\n",
       " \"uni_chimera\"\n",
       " \"wted_chimera\"\n",
       " \"uni_bndry_chimera\"\n",
       " \"wted_bndry_chimera\""
      ]
     },
     "execution_count": 5,
     "metadata": {},
     "output_type": "execute_result"
    }
   ],
   "source": [
    "problem_idx = [suitesparse_indices, uni_chimera_indices, wted_chimera_indices, uni_bndry_chimera_indices, wted_bndry_chimera_indices]\n",
    "problem_names = [\"suitesparse\", \"uni_chimera\", \"wted_chimera\", \"uni_bndry_chimera\", \"wted_bndry_chimera\"]"
   ]
  },
  {
   "cell_type": "code",
   "execution_count": 6,
   "metadata": {},
   "outputs": [
    {
     "name": "stdout",
     "output_type": "stream",
     "text": [
      "length(indices) = 28\n",
      "length(indices) = 5\n",
      "length(indices) = 0\n",
      "length(indices) = 0\n",
      "length(indices) = 0\n"
     ]
    }
   ],
   "source": [
    "ratios = []\n",
    "errors = []\n",
    "for indices in problem_idx\n",
    "    @show length(indices)\n",
    "    ratio = dic_cmg2[\"cmg_tot\"][indices] ./ dic_cmg2[\"ne\"][indices]\n",
    "    push!(ratios, ratio)\n",
    "    error = dic_cmg2[\"cmg_err\"][indices]\n",
    "    push!(errors, error)\n",
    "end\n"
   ]
  },
  {
   "cell_type": "code",
   "execution_count": 7,
   "metadata": {},
   "outputs": [
    {
     "name": "stdout",
     "output_type": "stream",
     "text": [
      "suitesparse          - Ratio - Mean:       45.2 | 0.75 Quantile:       63.3 | Max:        207\n",
      "\u001b[31msuitesparse          - Error - Mean:      0.419 | 0.75 Quantile:      0.875 | Max:      0.985\n",
      "\u001b[0muni_chimera          - Ratio - Mean:       8.02 | 0.75 Quantile:       10.8 | Max:         14\n",
      "\u001b[31muni_chimera          - Error - Mean:      0.643 | 0.75 Quantile:      0.808 | Max:      0.864\n",
      "\u001b[0m"
     ]
    },
    {
     "ename": "LoadError",
     "evalue": "\u001b[91mArgumentError: empty data vector\u001b[39m",
     "output_type": "error",
     "traceback": [
      "\u001b[91mArgumentError: empty data vector\u001b[39m",
      "",
      "Stacktrace:",
      " [1] _quantilesort!(::Array{Float64,1}, ::Bool, ::Float64, ::Float64) at /buildworker/worker/package_linux64/build/usr/share/julia/stdlib/v1.5/Statistics/src/Statistics.jl:948",
      " [2] #quantile!#52 at /buildworker/worker/package_linux64/build/usr/share/julia/stdlib/v1.5/Statistics/src/Statistics.jl:943 [inlined]",
      " [3] #quantile#55 at /buildworker/worker/package_linux64/build/usr/share/julia/stdlib/v1.5/Statistics/src/Statistics.jl:1052 [inlined]",
      " [4] quantile(::Array{Float64,1}, ::Float64) at /buildworker/worker/package_linux64/build/usr/share/julia/stdlib/v1.5/Statistics/src/Statistics.jl:1052",
      " [5] top-level scope at ./In[7]:3",
      " [6] include_string(::Function, ::Module, ::String, ::String) at ./loading.jl:1091"
     ]
    }
   ],
   "source": [
    "for (name, ratio, error) in zip(problem_names, ratios, errors)\n",
    "    mean_val = mean(ratio)\n",
    "    quantile_val = quantile(ratio, 0.75)\n",
    "    max_val = maximum(ratio)\n",
    "    \n",
    "    @printf(\"%-20s - Ratio - Mean: %10s | 0.75 Quantile: %10s | Max: %10s\\n\", name, ffmicro(mean_val), ffmicro(quantile_val), ffmicro(max_val))\n",
    "    \n",
    "    mean_error = mean(error)\n",
    "    quantile_error = quantile(error, 0.75)\n",
    "    max_error = maximum(error)\n",
    "    \n",
    "    @printf(\"\\u001b[31m%-20s - Error - Mean: %10s | 0.75 Quantile: %10s | Max: %10s\\n\\u001b[0m\", name, ffe8(mean_error), ffe8(quantile_error), ffe8(max_error))\n",
    "end"
   ]
  },
  {
   "cell_type": "code",
   "execution_count": 8,
   "metadata": {},
   "outputs": [
    {
     "data": {
      "text/plain": [
       "String[]"
      ]
     },
     "execution_count": 8,
     "metadata": {},
     "output_type": "execute_result"
    }
   ],
   "source": [
    "failure_idx = findall(entry -> entry == 1.0 || entry == Inf, dic_cmg2[\"cmg_err\"])\n",
    "failure_names = dic_cmg2[\"testName\"][failure_idx]\n"
   ]
  },
  {
   "cell_type": "code",
   "execution_count": null,
   "metadata": {},
   "outputs": [],
   "source": []
  }
 ],
 "metadata": {
  "kernelspec": {
   "display_name": "Julia 1.5.3",
   "language": "julia",
   "name": "julia-1.5"
  },
  "language_info": {
   "file_extension": ".jl",
   "mimetype": "application/julia",
   "name": "julia",
   "version": "1.5.3"
  }
 },
 "nbformat": 4,
 "nbformat_minor": 2
}
