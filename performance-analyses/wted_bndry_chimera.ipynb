{
 "cells": [
  {
   "cell_type": "code",
   "execution_count": 1,
   "metadata": {},
   "outputs": [],
   "source": [
    "using JLD2\n",
    "using Statistics\n",
    "using Revise\n",
    "using Plots \n",
    "using Laplacians"
   ]
  },
  {
   "cell_type": "code",
   "execution_count": 2,
   "metadata": {},
   "outputs": [
    {
     "data": {
      "text/plain": [
       "nanErr! (generic function with 1 method)"
      ]
     },
     "execution_count": 2,
     "metadata": {},
     "output_type": "execute_result"
    }
   ],
   "source": [
    "function nanErr!(d)\n",
    "    for (key, value) in d\n",
    "        if occursin(\"err\", key)\n",
    "            for i in 1:length(value)\n",
    "                if isnan(value[i])\n",
    "                    d[key][i] = Inf\n",
    "                end\n",
    "            end\n",
    "        end\n",
    "    end\n",
    "end"
   ]
  },
  {
   "cell_type": "code",
   "execution_count": 4,
   "metadata": {},
   "outputs": [
    {
     "data": {
      "text/plain": [
       "Dict{Any,Any} with 44 entries:\n",
       "  \"hypre_solve\" => [261.05, 99.43, Inf, 72.28, 188.39, 85.58, 158.43, 115.97]\n",
       "  \"icc2_tot\"    => [500.419, 104.342, 47.5152, 1076.5, 227.689, 211.438, 262.14…\n",
       "  \"lamg_its\"    => [Inf, Inf, Inf, 9.0, 9.0, 8.0, 9.0, Inf]\n",
       "  \"ac_tot\"      => [215.737, 232.003, 117.224, 196.134, 440.152, 306.406, 414.5…\n",
       "  \"icc2_solve\"  => [485.394, 84.8441, 29.9954, 1059.8, 205.836, 189.837, 239.75…\n",
       "  \"hypre_tot\"   => [484.44, 349.89, Inf, 186.12, 528.59, 284.14, 406.41, 346.23]\n",
       "  \"ac-s2m2_its\" => [33.0, 16.0, 21.0, 26.0, 27.0, 18.0, 34.0, 21.0]\n",
       "  \"icc_solve\"   => [449.715, 77.3485, 23.1996, 919.366, 218.206, 147.946, 194.5…\n",
       "  \"icc2_its\"    => [435.0, 58.0, 24.0, 989.0, 133.0, 114.0, 138.0, 131.0]\n",
       "  \"cmg2_solve\"  => [148.448, 219.033, 128.671, 182.472, 250.316, 298.207, 227.4…\n",
       "  \"icc_build\"   => [19.8824, 29.7492, 21.6895, 22.2964, 35.1043, 35.4509, 34.02…\n",
       "  \"cmg_err\"     => [6.89038e-9, 7.30111e-9, 8.72864e-9, 6.7019e-9, 8.24937e-9, …\n",
       "  \"lamg_err\"    => [Inf, Inf, Inf, 0.000367939, 0.00020088, 0.00122774, 1.61977…\n",
       "  \"ac_build\"    => [57.3299, 115.963, 44.3807, 63.1943, 138.961, 119.735, 115.4…\n",
       "  \"cmg2_its\"    => [45.0, 35.0, 49.0, 36.0, 36.0, 33.0, 39.0, 31.0]\n",
       "  \"hypre_build\" => [223.39, 250.46, Inf, 113.84, 340.2, 198.56, 247.98, 230.26]\n",
       "  \"hypre_err\"   => [6.74119e-9, 2.78133e-9, Inf, 1.91031e-9, 9.42879e-9, 6.6408…\n",
       "  \"icc_tot\"     => [469.598, 107.098, 44.8892, 941.663, 253.31, 183.397, 228.59…\n",
       "  \"icc2_err\"    => [9.73158e-9, 9.80466e-9, 9.02104e-9, 6.08102e-8, 9.77094e-9,…\n",
       "  \"testName\"    => [\"wted_bndry_chimera(10000000,1)\", \"wted_bndry_chimera(10000…\n",
       "  \"cmg2_err\"    => [8.2784e-9, 8.34344e-9, 8.64194e-9, 9.85152e-9, 9.48432e-9, …\n",
       "  \"icc2_build\"  => [15.0245, 19.4976, 17.5198, 16.6977, 21.8533, 21.601, 22.387…\n",
       "  \"lamg_build\"  => [Inf, Inf, Inf, 240.756, 446.312, 343.738, 341.245, Inf]\n",
       "  \"lamg_solve\"  => [Inf, Inf, Inf, 256.498, 544.379, 290.139, 399.051, Inf]\n",
       "  \"hypre_its\"   => [27.0, 9.0, Inf, 9.0, 10.0, 9.0, 9.0, 9.0]\n",
       "  ⋮             => ⋮"
      ]
     },
     "execution_count": 4,
     "metadata": {},
     "output_type": "execute_result"
    }
   ],
   "source": [
    "@load \"wted_bndry_chimera_nopetsc.jl.split02merge02.n10000.h1.0.jld2\"\n",
    "dic1 = copy(dic)\n",
    "@load \"wted_bndry_chimera_nopetsc.jl.split02merge02.n100000.h2.0.jld2\"\n",
    "dic2 = copy(dic)\n",
    "@load \"wted_bndry_chimera_nopetsc.jl.split02merge02.n1000000.h4.0.jld2\"\n",
    "dic3 = copy(dic)\n",
    "@load \"wted_bndry_chimera_nopetsc.jl.split02merge02.n10000000.h8.0.jld2\"\n",
    "dic4 = copy(dic)"
   ]
  },
  {
   "cell_type": "code",
   "execution_count": 5,
   "metadata": {},
   "outputs": [],
   "source": [
    "nanErr!(dic1);\n",
    "nanErr!(dic2);\n",
    "nanErr!(dic3);\n",
    "nanErr!(dic4);"
   ]
  },
  {
   "cell_type": "code",
   "execution_count": 6,
   "metadata": {},
   "outputs": [
    {
     "data": {
      "text/plain": [
       "ffmicro (generic function with 1 method)"
      ]
     },
     "execution_count": 6,
     "metadata": {},
     "output_type": "execute_result"
    }
   ],
   "source": [
    "using Printf\n",
    "\n",
    "function sd(d,x)\n",
    "    #scale = exp10(ceil(log10(abs(x)))-d)\n",
    "    #return round(x/scale)*scale\n",
    "    return round(x, sigdigits=3)\n",
    "end        \n",
    "ff(s) = (@sprintf \"%.4g\" sd(3,s))\n",
    "nf(s) = (@sprintf \"%d\" sd(3,s))\n",
    "ffK(s) = (@sprintf \"%.4g\" sd(3,s)/1000)\n",
    "nfK(s) =  round(Int64, sd(3,s)/1000)\n",
    "ffe8(s) = (@sprintf \"%.3g\" sd(3,s)*1e8)\n",
    "ffe6(s) = (@sprintf \"%.3g\" sd(3,s)*1e6)\n",
    "ffmicro(s) = (@sprintf \"%.4g\" sd(3,s)*1e6)"
   ]
  },
  {
   "cell_type": "code",
   "execution_count": 7,
   "metadata": {},
   "outputs": [
    {
     "data": {
      "text/plain": [
       "printMax (generic function with 1 method)"
      ]
     },
     "execution_count": 7,
     "metadata": {},
     "output_type": "execute_result"
    }
   ],
   "source": [
    "function labelTvn(tvn, err)\n",
    "    if err <= 1e-8\n",
    "        return ffe6(tvn)\n",
    "    elseif err < 1e-4\n",
    "        return string(ffe6(tvn), \"\\\\tnote{*}\")\n",
    "    elseif err < 1\n",
    "        return string(ffe6(tvn), \"\\\\tnote{**}\")\n",
    "    else\n",
    "        return \"Inf\"\n",
    "    end\n",
    "end\n",
    "\n",
    "function printMedian(d, solver)\n",
    "    if haskey(d, string(solver, \"_tot\")) && length(d[string(solver, \"_tot\")]) == length(d[\"ne\"])\n",
    "        tvn = median(d[string(solver, \"_tot\")] ./ d[\"ne\"] )\n",
    "        err = median(d[string(solver, \"_err\")])\n",
    "        return labelTvn(tvn, err)\n",
    "    else\n",
    "        return \"N/A\"\n",
    "    end\n",
    "end\n",
    "\n",
    "function print75(d, solver)\n",
    "    if haskey(d, string(solver, \"_tot\")) && length(d[string(solver, \"_tot\")]) == length(d[\"ne\"])\n",
    "        tvn = quantile(d[string(solver, \"_tot\")] ./ d[\"ne\"], 0.75)\n",
    "        err = quantile(d[string(solver, \"_err\")], 0.75)\n",
    "        return labelTvn(tvn, err)\n",
    "    else\n",
    "        return \"N/A\"\n",
    "    end\n",
    "end\n",
    "\n",
    "function printMax(d, solver)\n",
    "    if haskey(d, string(solver, \"_tot\")) && length(d[string(solver, \"_tot\")]) == length(d[\"ne\"])\n",
    "        tvn = maximum(d[string(solver, \"_tot\")] ./ d[\"ne\"])\n",
    "        err = maximum(d[string(solver, \"_err\")])\n",
    "        return labelTvn(tvn, err)\n",
    "    else\n",
    "        return \"N/A\"\n",
    "    end\n",
    "end"
   ]
  },
  {
   "cell_type": "code",
   "execution_count": 8,
   "metadata": {},
   "outputs": [
    {
     "data": {
      "text/plain": [
       "printAllLines (generic function with 1 method)"
      ]
     },
     "execution_count": 8,
     "metadata": {},
     "output_type": "execute_result"
    }
   ],
   "source": [
    "function printSolverCell(d, solver) \n",
    "    return string(printMedian(d, solver), \"&\", print75(d, solver), \"&\", printMax(d, solver))\n",
    "end\n",
    "\n",
    "function printOneLine(d, solvers)\n",
    "    allCells = [printSolverCell(d, solver) for solver in solvers]\n",
    "    println(string(ffK(d[\"nv\"][1]), \"&\", length(d[\"testName\"]), \"&\", join(allCells, \"&\"), \"\\\\\\\\\"))\n",
    "end\n",
    "\n",
    "function printAllLines(dics, solvers)\n",
    "    for d in dics\n",
    "        printOneLine(d, solvers)\n",
    "    end\n",
    "end"
   ]
  },
  {
   "cell_type": "code",
   "execution_count": 9,
   "metadata": {},
   "outputs": [],
   "source": [
    "dics = [dic1, dic2, dic3, dic4];"
   ]
  },
  {
   "cell_type": "code",
   "execution_count": 10,
   "metadata": {},
   "outputs": [
    {
     "name": "stdout",
     "output_type": "stream",
     "text": [
      "9.54&103&0.375&0.385&0.431&0.537&0.592&0.714&8.58&10.5&16.8\\\\\n",
      "97.9&105&0.606&0.701&1.43&0.909&1.11&1.82&1.88&2.46&3.83\\tnote{*}\\\\\n",
      "990&23&1.4&1.59&2.16&1.66&2.14&2.42&1.84&2.57&Inf\\\\\n",
      "9950&8&3.07&3.99&4.34&3.34&4.18&4.36&2.91&3.56&4.19\\\\\n"
     ]
    }
   ],
   "source": [
    "solvers=[\"ac\", \"ac-s2m2\", \"cmg2\"]\n",
    "printAllLines(dics, solvers)"
   ]
  },
  {
   "cell_type": "code",
   "execution_count": 11,
   "metadata": {},
   "outputs": [
    {
     "name": "stdout",
     "output_type": "stream",
     "text": [
      "9.54&103&0.873&1.26&2.4&N/A&N/A&N/A&4.68&5.73&9.3\\\\\n",
      "97.9&105&0.946&1.66&4.73&N/A&N/A&N/A&1.14&1.72&10.7\\tnote{*}\\\\\n",
      "990&23&2.61&4.29&11.4\\tnote{*}&N/A&N/A&N/A&1.36&3.37&Inf\\\\\n",
      "9950&8&4.39&6.4&Inf&N/A&N/A&N/A&2.31&4.47&16.6\\tnote{*}\\\\\n"
     ]
    }
   ],
   "source": [
    "solvers = [\"hypre\", \"petsc_hypre\", \"icc2\"]\n",
    "printAllLines(dics, solvers)"
   ]
  }
 ],
 "metadata": {
  "kernelspec": {
   "display_name": "Julia 1.5.3",
   "language": "julia",
   "name": "julia-1.5"
  },
  "language_info": {
   "file_extension": ".jl",
   "mimetype": "application/julia",
   "name": "julia",
   "version": "1.5.3"
  }
 },
 "nbformat": 4,
 "nbformat_minor": 4
}
