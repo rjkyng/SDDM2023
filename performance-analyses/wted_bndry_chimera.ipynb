{
 "cells": [
  {
   "cell_type": "code",
   "execution_count": 1,
   "metadata": {},
   "outputs": [],
   "source": [
    "using JLD2\n",
    "using Statistics\n",
    "using Revise\n",
    "using Plots \n",
    "using Laplacians"
   ]
  },
  {
   "cell_type": "code",
   "execution_count": 2,
   "metadata": {},
   "outputs": [
    {
     "data": {
      "text/plain": [
       "nanErr! (generic function with 1 method)"
      ]
     },
     "execution_count": 2,
     "metadata": {},
     "output_type": "execute_result"
    }
   ],
   "source": [
    "function nanErr!(d)\n",
    "    for (key, value) in d\n",
    "        if occursin(\"err\", key)\n",
    "            for i in 1:length(value)\n",
    "                if isnan(value[i])\n",
    "                    d[key][i] = Inf\n",
    "                end\n",
    "            end\n",
    "        end\n",
    "    end\n",
    "end"
   ]
  },
  {
   "cell_type": "code",
   "execution_count": 3,
   "metadata": {},
   "outputs": [
    {
     "data": {
      "text/plain": [
       "Dict{Any, Any} with 44 entries:\n",
       "  \"lamg_build\"    => [Inf, Inf, Inf, 240.756, 446.312, 343.738, 341.245, Inf]\n",
       "  \"hypre_solve\"   => [261.05, 99.43, Inf, 72.28, 188.39, 85.58, 158.43, 115.97]\n",
       "  \"icc2_tot\"      => [926.774, 51.474, 62.579, 96.0824, 118.887, 20.404, 84.455…\n",
       "  \"lamg_its\"      => [Inf, Inf, Inf, 9.0, 9.0, 8.0, 9.0, Inf]\n",
       "  \"lamg_solve\"    => [Inf, Inf, Inf, 256.498, 544.379, 290.139, 399.051, Inf]\n",
       "  \"hypre_its\"     => [27.0, 9.0, Inf, 9.0, 10.0, 9.0, 9.0, 9.0]\n",
       "  \"cmg_solve\"     => [129.428, 161.038, 173.982, 96.0553, 215.098, 203.56, 168.…\n",
       "  \"ac_tot\"        => [215.737, 232.003, 117.224, 196.134, 440.152, 306.406, 414…\n",
       "  \"cmg_build\"     => [53.5463, 93.6143, 52.4846, 43.6402, 79.9469, 118.644, 82.…\n",
       "  \"icc2_solve\"    => [910.359, 32.7137, 48.7333, 71.607, 102.014, 0.510183, 70.…\n",
       "  \"hypre_tot\"     => [484.44, 349.89, Inf, 186.12, 528.59, 284.14, 406.41, 346.…\n",
       "  \"ac-s2m2_its\"   => [33.0, 16.0, 21.0, 26.0, 27.0, 18.0, 34.0, 21.0]\n",
       "  \"icc_solve\"     => [449.715, 77.3485, 23.1996, 919.366, 218.206, 147.946, 194…\n",
       "  \"ac_err\"        => [9.04086e-9, 7.0767e-9, 6.35969e-9, 8.39772e-9, 9.31771e-9…\n",
       "  \"icc2_its\"      => [928.0, 17.0, 71.0, 28.0, 86.0, Inf, 81.0, 88.0]\n",
       "  \"cmg2_solve\"    => [141.044, 71.0921, 148.98, 131.543, 292.612, 10.1551, 91.9…\n",
       "  \"ac-s2m2_build\" => [93.0316, 169.552, 68.592, 81.3469, 228.017, 180.778, 191.…\n",
       "  \"icc_err\"       => [9.92449e-9, 9.20885e-9, 4.71794e-9, 2.69527e-7, 9.93837e-…\n",
       "  \"cmg2_tot\"      => [185.584, 117.547, 186.813, 184.713, 339.18, 64.7853, 128.…\n",
       "  \"icc_build\"     => [19.8824, 29.7492, 21.6895, 22.2964, 35.1043, 35.4509, 34.…\n",
       "  \"cmg_err\"       => [6.89038e-9, 7.30111e-9, 8.72864e-9, 6.7019e-9, 8.24937e-9…\n",
       "  \"lamg_tot\"      => [Inf, Inf, Inf, 497.254, 990.691, 633.877, 740.296, Inf]\n",
       "  \"lamg_err\"      => [Inf, Inf, Inf, 0.000367939, 0.00020088, 0.00122774, 1.619…\n",
       "  \"icc_its\"       => [465.0, 61.0, 24.0, 992.0, 159.0, 125.0, 155.0, 111.0]\n",
       "  \"ac_build\"      => [57.3299, 115.963, 44.3807, 63.1943, 138.961, 119.735, 115…\n",
       "  ⋮               => ⋮"
      ]
     },
     "execution_count": 3,
     "metadata": {},
     "output_type": "execute_result"
    }
   ],
   "source": [
    "@load \"wted_bndry_chimera_nopetsc.jl.split02merge02.n10000.h1.0.jld2\"\n",
    "dic1 = copy(dic)\n",
    "@load \"wted_bndry_chimera_nopetsc.jl.split02merge02.n100000.h2.0.jld2\"\n",
    "dic2 = copy(dic)\n",
    "@load \"wted_bndry_chimera_nopetsc.jl.split02merge02.n1000000.h4.0.jld2\"\n",
    "dic3 = copy(dic)\n",
    "@load \"wted_bndry_chimera_nopetsc.jl.split02merge02.n10000000.h8.0.jld2\"\n",
    "dic4 = copy(dic)"
   ]
  },
  {
   "cell_type": "code",
   "execution_count": 4,
   "metadata": {},
   "outputs": [],
   "source": [
    "nanErr!(dic1);\n",
    "nanErr!(dic2);\n",
    "nanErr!(dic3);\n",
    "nanErr!(dic4);"
   ]
  },
  {
   "cell_type": "code",
   "execution_count": 5,
   "metadata": {},
   "outputs": [
    {
     "data": {
      "text/plain": [
       "ffmicro (generic function with 1 method)"
      ]
     },
     "execution_count": 5,
     "metadata": {},
     "output_type": "execute_result"
    }
   ],
   "source": [
    "using Printf\n",
    "\n",
    "function sd(d,x)\n",
    "    #scale = exp10(ceil(log10(abs(x)))-d)\n",
    "    #return round(x/scale)*scale\n",
    "    return round(x, sigdigits=3)\n",
    "end        \n",
    "ff(s) = (@sprintf \"%.4g\" sd(3,s))\n",
    "nf(s) = (@sprintf \"%d\" sd(3,s))\n",
    "ffK(s) = (@sprintf \"%.4g\" sd(3,s)/1000)\n",
    "nfK(s) =  round(Int64, sd(3,s)/1000)\n",
    "ffe8(s) = (@sprintf \"%.3g\" sd(3,s)*1e8)\n",
    "ffe6(s) = (@sprintf \"%.3g\" sd(3,s)*1e6)\n",
    "ffmicro(s) = (@sprintf \"%.4g\" sd(3,s)*1e6)"
   ]
  },
  {
   "cell_type": "code",
   "execution_count": 6,
   "metadata": {},
   "outputs": [
    {
     "data": {
      "text/plain": [
       "printMax (generic function with 1 method)"
      ]
     },
     "execution_count": 6,
     "metadata": {},
     "output_type": "execute_result"
    }
   ],
   "source": [
    "function labelTvn(tvn, err)\n",
    "    if err <= 1e-8\n",
    "        return ffe6(tvn)\n",
    "    elseif err < 1e-4\n",
    "        return string(ffe6(tvn), \"\\\\tnote{*}\")\n",
    "    elseif err < 1\n",
    "        return string(ffe6(tvn), \"\\\\tnote{**}\")\n",
    "    else\n",
    "        return \"Inf\"\n",
    "    end\n",
    "end\n",
    "\n",
    "function printMedian(d, solver)\n",
    "    if haskey(d, string(solver, \"_tot\")) && length(d[string(solver, \"_tot\")]) == length(d[\"ne\"])\n",
    "        tvn = median(d[string(solver, \"_tot\")] ./ d[\"ne\"] )\n",
    "        err = median(d[string(solver, \"_err\")])\n",
    "        return labelTvn(tvn, err)\n",
    "    else\n",
    "        return \"N/A\"\n",
    "    end\n",
    "end\n",
    "\n",
    "function print75(d, solver)\n",
    "    if haskey(d, string(solver, \"_tot\")) && length(d[string(solver, \"_tot\")]) == length(d[\"ne\"])\n",
    "        tvn = quantile(d[string(solver, \"_tot\")] ./ d[\"ne\"], 0.75)\n",
    "        err = quantile(d[string(solver, \"_err\")], 0.75)\n",
    "        return labelTvn(tvn, err)\n",
    "    else\n",
    "        return \"N/A\"\n",
    "    end\n",
    "end\n",
    "\n",
    "function printMax(d, solver)\n",
    "    if haskey(d, string(solver, \"_tot\")) && length(d[string(solver, \"_tot\")]) == length(d[\"ne\"])\n",
    "        tvn = maximum(d[string(solver, \"_tot\")] ./ d[\"ne\"])\n",
    "        err = maximum(d[string(solver, \"_err\")])\n",
    "        return labelTvn(tvn, err)\n",
    "    else\n",
    "        return \"N/A\"\n",
    "    end\n",
    "end"
   ]
  },
  {
   "cell_type": "code",
   "execution_count": 7,
   "metadata": {},
   "outputs": [
    {
     "data": {
      "text/plain": [
       "printAllLines (generic function with 1 method)"
      ]
     },
     "execution_count": 7,
     "metadata": {},
     "output_type": "execute_result"
    }
   ],
   "source": [
    "function printSolverCell(d, solver) \n",
    "    return string(printMedian(d, solver), \"&\", print75(d, solver), \"&\", printMax(d, solver))\n",
    "end\n",
    "\n",
    "function printOneLine(d, solvers)\n",
    "    allCells = [printSolverCell(d, solver) for solver in solvers]\n",
    "    println(string(ffK(d[\"nv\"][1]), \"&\", length(d[\"testName\"]), \"&\", join(allCells, \"&\"), \"\\\\\\\\\"))\n",
    "end\n",
    "\n",
    "function printAllLines(dics, solvers)\n",
    "    for d in dics\n",
    "        printOneLine(d, solvers)\n",
    "    end\n",
    "end"
   ]
  },
  {
   "cell_type": "code",
   "execution_count": 8,
   "metadata": {},
   "outputs": [],
   "source": [
    "dics = [dic1, dic2, dic3, dic4];"
   ]
  },
  {
   "cell_type": "code",
   "execution_count": 9,
   "metadata": {},
   "outputs": [
    {
     "name": "stdout",
     "output_type": "stream",
     "text": [
      "9.54&103&0.375&0.385&0.431&0.537&0.592&0.714&8.68&10.5&20.7\\\\\n",
      "97.9&105&0.606&0.701&1.43&0.909&1.11&1.82&2.06&3.02&Inf\\\\\n",
      "990&23&1.4&1.59&2.16&1.66&2.14&2.42&2.36&3.13&17.3\\\\\n",
      "9950&8&3.07&3.99&4.34&3.34&4.18&4.36&2.94&3.71&Inf\\\\\n"
     ]
    }
   ],
   "source": [
    "solvers=[\"ac\", \"ac-s2m2\", \"cmg2\"]\n",
    "printAllLines(dics, solvers)"
   ]
  },
  {
   "cell_type": "code",
   "execution_count": 10,
   "metadata": {},
   "outputs": [
    {
     "name": "stdout",
     "output_type": "stream",
     "text": [
      "9.54&103&0.873&1.26&2.4&N/A&N/A&N/A&4.52&5.66&10.2\\\\\n",
      "97.9&105&0.946&1.66&4.73&N/A&N/A&N/A&1.1&2.02&Inf\\\\\n",
      "990&23&2.61&4.29&11.4\\tnote{*}&N/A&N/A&N/A&1.96&4.35&31.6\\\\\n",
      "9950&8&4.39&6.4&Inf&N/A&N/A&N/A&1.27&1.72&Inf\\\\\n"
     ]
    }
   ],
   "source": [
    "solvers = [\"hypre\", \"petsc_hypre\", \"icc2\"]\n",
    "printAllLines(dics, solvers)"
   ]
  }
 ],
 "metadata": {
  "kernelspec": {
   "display_name": "Julia 1.10.2",
   "language": "julia",
   "name": "julia-1.10"
  },
  "language_info": {
   "file_extension": ".jl",
   "mimetype": "application/julia",
   "name": "julia",
   "version": "1.10.2"
  }
 },
 "nbformat": 4,
 "nbformat_minor": 4
}
