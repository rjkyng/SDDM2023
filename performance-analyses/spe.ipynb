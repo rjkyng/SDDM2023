{
 "cells": [
  {
   "cell_type": "code",
   "execution_count": 1,
   "metadata": {},
   "outputs": [],
   "source": [
    "using JLD2\n",
    "using Statistics\n",
    "using Revise\n",
    "using Plots\n",
    "using Laplacians\n",
    "using Printf\n"
   ]
  },
  {
   "cell_type": "code",
   "execution_count": 2,
   "metadata": {},
   "outputs": [
    {
     "data": {
      "text/plain": [
       "replace_byinf! (generic function with 1 method)"
      ]
     },
     "execution_count": 2,
     "metadata": {},
     "output_type": "execute_result"
    }
   ],
   "source": [
    "# replace all the total time and solve time by inf if its corresponding error is too large\n",
    "function replace_byinf!(dic)\n",
    "    for (key, value) in dic\n",
    "        if findfirst(\"tot\", key) == nothing && findfirst(\"solve\", key) == nothing\n",
    "            continue\n",
    "        end\n",
    "        splits = split(key, \"_\")\n",
    "        solver = join(splits[1:length(splits) - 1], \"_\")\n",
    "        for i in 1:length(value)\n",
    "            if isnan(dic[string(solver, \"_err\")][i]) || dic[string(solver, \"_err\")][i] > 1e-8\n",
    "                dic[key][i] = Inf\n",
    "            end\n",
    "        end\n",
    "    end\n",
    "end"
   ]
  },
  {
   "cell_type": "code",
   "execution_count": 3,
   "metadata": {},
   "outputs": [
    {
     "data": {
      "text/plain": [
       "Dict{Any, Any} with 84 entries:\n",
       "  \"lamg_build\"        => [4.36221, 23.2889, 46.2032, 92.5763, 184.174]\n",
       "  \"acM2C2_err\"        => [5.65863e-9, 2.80717e-9, 3.63631e-9, 2.76652e-9, 3.417…\n",
       "  \"hypre_solve\"       => [0.58, 3.11, 6.12, 18.94, 38.15]\n",
       "  \"acM2C2_solve\"      => [0.8393, 5.27383, 12.5595, 53.8824, 126.37]\n",
       "  \"icc2_tot\"          => [2.19096, 14.1166, 27.249, 335.866, 676.257]\n",
       "  \"acM2C2_tot\"        => [3.92265, 23.1905, 43.8394, 112.546, 257.258]\n",
       "  \"ac_lst_build\"      => [2.77645, 14.6445, 28.9514, 60.193, 148.172]\n",
       "  \"petsc_hypre_build\" => [2.17686, 10.9238, 21.7574, 44.1507, 89.5073]\n",
       "  \"lamg_its\"          => [3.0, 4.0, 3.0, 21.0, 21.0]\n",
       "  \"lamg_solve\"        => [1.50967, 10.8469, 14.3096, 303.567, 615.076]\n",
       "  \"hypre_its\"         => [6.0, 6.0, 6.0, 10.0, 10.0]\n",
       "  \"cmg_solve\"         => [0.647711, 2.68126, 5.54134, 18.7138, 37.7887]\n",
       "  \"ac_tot\"            => [2.09137, 14.0933, 26.4701, 82.8764, 180.749]\n",
       "  \"ac1_solve\"         => [0.97268, 5.68778, 14.1516, 65.5923, 149.548]\n",
       "  \"cmg_build\"         => [0.622255, 2.61834, 4.84098, 9.71619, 19.211]\n",
       "  \"acM2C2_lst_tot\"    => [5.24858, 27.9268, 58.5405, 147.889, 421.309]\n",
       "  \"icc2_solve\"        => [1.96547, 12.5248, 24.0435, 329.188, 661.413]\n",
       "  \"hypre_tot\"         => [1.48, 7.55, 14.79, 36.02, 72.31]\n",
       "  \"ac2_solve\"         => [0.848965, 5.49744, 11.5724, 50.1441, 125.293]\n",
       "  \"ac_lst_its\"        => [10.0, 14.0, 13.0, 21.0, 23.0]\n",
       "  \"acM2C2_lst_solve\"  => [0.714578, 4.42428, 11.6539, 51.0935, 112.3]\n",
       "  \"ac-s2m2_its\"       => [13.0, 14.0, 14.0, 27.0, 26.0]\n",
       "  \"petsc_hypre_solve\" => [4.74702, 24.9331, 49.395, 98.9148, 198.518]\n",
       "  \"ac1_its\"           => [15.0, 17.0, 19.0, 34.0, 35.0]\n",
       "  \"ac_lst_tot\"        => [3.46954, 19.85, 39.7321, 102.455, 250.94]\n",
       "  ⋮                   => ⋮"
      ]
     },
     "execution_count": 3,
     "metadata": {},
     "output_type": "execute_result"
    }
   ],
   "source": [
    "@load \"spe_all.jl.split02merge02.jld2\"\n",
    "dicAll = copy(dic)"
   ]
  },
  {
   "cell_type": "code",
   "execution_count": 4,
   "metadata": {},
   "outputs": [
    {
     "data": {
      "text/plain": [
       "ffe6 (generic function with 1 method)"
      ]
     },
     "execution_count": 4,
     "metadata": {},
     "output_type": "execute_result"
    }
   ],
   "source": [
    "function sd(d,x)\n",
    "    #scale = exp10(ceil(log10(abs(x)))-d)\n",
    "    #return round(x/scale)*scale\n",
    "    return round(x, sigdigits=d)\n",
    "end        \n",
    "\n",
    "#constant d = 3\n",
    "ff(s) = (@sprintf \"%.3g\" sd(3,s))\n",
    "nf(s) = (@sprintf \"%d\" sd(3,s))\n",
    "\n",
    "ffK(s) = (@sprintf \"%.3g\" sd(3,s)/1000)\n",
    "nfK(s) =  round(Int64, sd(3,s)/1000)\n",
    "\n",
    "ffe8(s) = (@sprintf \"%.3g\" sd(3,s)*1e8)\n",
    "ffM(s) = (@sprintf \"%.3g\" sd(3,s)/1e6)\n",
    "nfM(s) =  round(Int64, sd(3,s)/1e6)\n",
    "ffe6(s) = (@sprintf \"%.3g\" sd(3,s)*1e6)"
   ]
  },
  {
   "cell_type": "code",
   "execution_count": 5,
   "metadata": {},
   "outputs": [
    {
     "data": {
      "text/plain": [
       "printAllLines (generic function with 1 method)"
      ]
     },
     "execution_count": 5,
     "metadata": {},
     "output_type": "execute_result"
    }
   ],
   "source": [
    "function labelTvn(tvn, err)\n",
    "    if err <= 1e-8\n",
    "        return ffe6(tvn)\n",
    "    elseif err < 1e-4\n",
    "        return string(ffe6(tvn), \"\\\\tnote{*}\")\n",
    "    elseif err < 1\n",
    "        return string(ffe6(tvn), \"\\\\tnote{**}\")\n",
    "    else\n",
    "        return \"Inf\"\n",
    "    end\n",
    "end\n",
    "\n",
    "function printSolverCell(d, solver, i)\n",
    "    if haskey(d, string(solver, \"_tot\"))\n",
    "        itr = d[string(solver, \"_its\")][i]\n",
    "        ne = d[\"ne\"][i]\n",
    "        solveVn = d[string(solver, \"_solve\")][i] / ne\n",
    "        totalVn = d[string(solver, \"_tot\")][i] / ne\n",
    "        err = d[string(solver, \"_err\")][i]\n",
    "        return string(\"&\", nf(itr), \"&\", labelTvn(solveVn, err), \"&\", labelTvn(totalVn, err), \"&\",ffe8(err))\n",
    "    else\n",
    "        return \"&N/A&N/A&N/A&N/A\"\n",
    "    end\n",
    "end\n",
    "\n",
    "function printOneLine(d, solvers, i)\n",
    "    allCells = [printSolverCell(d, solver, i) for solver in solvers]\n",
    "    return string(nfK(d[\"ne\"][i]), \"&\", nfK(d[\"nv\"][i]), join(allCells), \"\\\\\\\\\")\n",
    "end\n",
    "\n",
    "function printAllLines(d, solvers)\n",
    "    for i in 1:length(d[\"testName\"])\n",
    "        println(printOneLine(d, solvers, i))\n",
    "    end\n",
    "end"
   ]
  },
  {
   "cell_type": "code",
   "execution_count": 6,
   "metadata": {},
   "outputs": [
    {
     "name": "stdout",
     "output_type": "stream",
     "text": [
      "2910&422&17&0.24&0.718&0.433&13&0.23&1.07&0.288&15&0.306&1.07&0.709\\\\\n",
      "14600&2100&22&0.359&0.967&0.337&14&0.291&1.31&0.315&15&0.294&0.882&0.644\\\\\n",
      "28500&4100&22&0.404&0.928&0.474&14&0.337&1.34&0.416&15&0.312&0.873&0.957\\\\\n",
      "55800&8000&39&0.893&1.49&0.495&27&0.796&1.79&0.256&23&0.52&1.1&0.981\\\\\n",
      "112000&16000&41&1.03&1.62&0.331&26&0.868&1.91&0.28&23&0.531&1.1&0.663\\\\\n"
     ]
    }
   ],
   "source": [
    "solvers1 = [\"ac\", \"ac-s2m2\", \"cmg2\"]\n",
    "printAllLines(dicAll, solvers1)"
   ]
  },
  {
   "cell_type": "code",
   "execution_count": 7,
   "metadata": {},
   "outputs": [
    {
     "name": "stdout",
     "output_type": "stream",
     "text": [
      "2910&422&6&0.199&0.508&0.0937&9&1.63&2.38&1e-06&38&0.675&0.752&0.882\\\\\n",
      "14600&2100&6&0.213&0.518&0.378&9&1.71&2.46&4.33e-06&59&0.859&0.968&0.931\\\\\n",
      "28500&4100&6&0.215&0.519&0.384&9&1.73&2.49&5.78e-06&57&0.843&0.955&0.938\\\\\n",
      "55800&8000&10&0.34&0.646&0.287&9&1.77&2.57&0.00928&380&5.9&6.02&0.96\\\\\n",
      "112000&16000&10&0.342&0.648&0.301&9&1.78&2.58&0.00939&383&5.92&6.06&0.992\\\\\n"
     ]
    }
   ],
   "source": [
    "solvers2 = [\"hypre\", \"petsc_hypre\", \"icc2\"]\n",
    "printAllLines(dicAll, solvers2)"
   ]
  }
 ],
 "metadata": {
  "kernelspec": {
   "display_name": "Julia 1.10.2",
   "language": "julia",
   "name": "julia-1.10"
  },
  "language_info": {
   "file_extension": ".jl",
   "mimetype": "application/julia",
   "name": "julia",
   "version": "1.10.2"
  }
 },
 "nbformat": 4,
 "nbformat_minor": 4
}
