{
 "cells": [
  {
   "cell_type": "code",
   "execution_count": 1,
   "metadata": {},
   "outputs": [],
   "source": [
    "using JLD2\n",
    "using Statistics\n",
    "using Revise\n",
    "using Plots\n",
    "using Laplacians\n",
    "using Printf\n"
   ]
  },
  {
   "cell_type": "code",
   "execution_count": 2,
   "metadata": {},
   "outputs": [
    {
     "data": {
      "text/plain": [
       "Dict{Any, Any} with 84 entries:\n",
       "  \"lamg_build\"        => [0.24798, 0.439223, 0.957284, 1.4367, 2.21285, 3.53374…\n",
       "  \"acM2C2_err\"        => [6.76857e-9, 9.6469e-9, 6.93641e-9, 7.47933e-9, 6.5201…\n",
       "  \"hypre_solve\"       => [0.22, 0.76, 2.77, 6.66, 11.46, 18.32, 26.95, 38.82, 5…\n",
       "  \"acM2C2_solve\"      => [0.0453529, 0.215648, 0.664904, 1.43216, 2.38298, 4.25…\n",
       "  \"icc2_tot\"          => [0.271866, 0.383913, 0.707252, 1.24781, 2.06733, 3.282…\n",
       "  \"acM2C2_tot\"        => [0.259798, 1.0003, 2.5187, 5.65618, 9.69102, 15.9491, …\n",
       "  \"ac_lst_build\"      => [0.0976722, 0.478637, 1.09675, 2.8267, 4.88578, 7.4235…\n",
       "  \"petsc_hypre_build\" => [0.526289, 2.42528, 7.55318, 18.2163, 37.366, 68.7379,…\n",
       "  \"lamg_its\"          => [4.0, 4.0, 6.0, 4.0, 13.0, 10.0, 6.0, 11.0, 8.0, 8.0, …\n",
       "  \"lamg_solve\"        => [0.085986, 0.137766, 0.332293, 0.368882, 1.79307, 2.09…\n",
       "  \"hypre_its\"         => [100.0, 100.0, 100.0, 100.0, 100.0, 100.0, 100.0, 100.…\n",
       "  \"cmg_solve\"         => [0.215778, 0.305125, 0.497897, 0.836569, 1.29838, 1.94…\n",
       "  \"ac_tot\"            => [0.199225, 1.26267, 3.72605, 11.1725, 21.4418, 42.2118…\n",
       "  \"ac1_solve\"         => [0.120024, 0.810763, 2.46999, 7.62216, 17.2003, 27.245…\n",
       "  \"cmg_build\"         => [0.218387, 0.514242, 1.1212, 2.61913, 4.5821, 7.19641,…\n",
       "  \"acM2C2_lst_tot\"    => [0.265588, 0.918713, 2.89389, 5.0686, 8.99463, 14.1268…\n",
       "  \"icc2_solve\"        => [0.214271, 0.211015, 0.259521, 0.31215, 0.424602, 0.56…\n",
       "  \"hypre_tot\"         => [0.42, 1.68, 5.6, 13.48, 25.51, 44.29, 71.16, 109.14, …\n",
       "  \"ac2_solve\"         => [0.0431211, 0.189837, 0.539933, 1.15511, 2.10017, 3.80…\n",
       "  \"ac_lst_its\"        => [17.0, 18.0, 18.0, 17.0, 19.0, 20.0, 18.0, 19.0, 21.0,…\n",
       "  \"acM2C2_lst_solve\"  => [0.0239511, 0.103978, 0.267813, 0.589741, 0.966594, 1.…\n",
       "  \"ac-s2m2_its\"       => [28.0, 34.0, 37.0, 38.0, 39.0, 40.0, 40.0, 43.0, 43.0,…\n",
       "  \"petsc_hypre_solve\" => [0.0159965, 0.0575623, 0.150537, 0.320071, 0.57604, 2.…\n",
       "  \"ac1_its\"           => [74.0, 121.0, 136.0, 199.0, 258.0, 254.0, 296.0, 358.0…\n",
       "  \"ac_lst_tot\"        => [0.123845, 0.596363, 1.42428, 3.46102, 6.13672, 9.5257…\n",
       "  ⋮                   => ⋮"
      ]
     },
     "execution_count": 2,
     "metadata": {},
     "output_type": "execute_result"
    }
   ],
   "source": [
    "@load \"sachdeva_star_all.jl.split02merge02.jld2\"\n",
    "dic1 = copy(dic)"
   ]
  },
  {
   "cell_type": "code",
   "execution_count": 3,
   "metadata": {},
   "outputs": [
    {
     "data": {
      "text/plain": [
       "ffe5 (generic function with 1 method)"
      ]
     },
     "execution_count": 3,
     "metadata": {},
     "output_type": "execute_result"
    }
   ],
   "source": [
    "function sd(d,x)\n",
    "    #scale = exp10(ceil(log10(abs(x)))-d)\n",
    "    #return round(x/scale)*scale\n",
    "    return round(x, sigdigits=d)\n",
    "end        \n",
    "\n",
    "#constant d = 3\n",
    "ff(s) = (@sprintf \"%.3g\" sd(3,s))\n",
    "nf(s) = (@sprintf \"%d\" sd(3,s))\n",
    "\n",
    "ffK(s) = (@sprintf \"%.3g\" sd(3,s)/1000)\n",
    "nfK(s) =  round(Int64, sd(3,s)/1000)\n",
    "\n",
    "ffe8(s) = (@sprintf \"%.3g\" sd(3,s)*1e8)\n",
    "ffM(s) = (@sprintf \"%.3g\" sd(3,s)/1e6)\n",
    "nfM(s) =  round(Int64, sd(3,s)/1e6)\n",
    "ffe6(s) = (@sprintf \"%.3g\" sd(3,s)*1e6)\n",
    "ffe5(s) = (@sprintf \"%.3g\" sd(3,s)*1e5)\n"
   ]
  },
  {
   "cell_type": "code",
   "execution_count": 4,
   "metadata": {},
   "outputs": [
    {
     "data": {
      "text/plain": [
       "printAllLines (generic function with 1 method)"
      ]
     },
     "execution_count": 4,
     "metadata": {},
     "output_type": "execute_result"
    }
   ],
   "source": [
    "function labelTvn(tvn, err)\n",
    "    if err <= 1e-8\n",
    "        return ffe6(tvn)\n",
    "    elseif err < 1e-4\n",
    "        return string(ffe6(tvn), \"\\\\tnote{*}\")\n",
    "    elseif err < 1\n",
    "        return string(ffe6(tvn), \"\\\\tnote{**}\")\n",
    "    else\n",
    "        return \"Inf\"\n",
    "    end\n",
    "end\n",
    "\n",
    "function printSolverCell(d, solver, i)\n",
    "    if haskey(d, string(solver, \"_tot\"))\n",
    "        itr = d[string(solver, \"_its\")][i]\n",
    "        ne = d[\"ne\"][i]\n",
    "        solveVn = d[string(solver, \"_solve\")][i] / ne\n",
    "        totalVn = d[string(solver, \"_tot\")][i] / ne\n",
    "        err = d[string(solver, \"_err\")][i]\n",
    "        return string(\"&\", nf(itr), \"&\", labelTvn(solveVn, err), \"&\", labelTvn(totalVn, err), \"&\",ffe8(err))\n",
    "    else\n",
    "        return \"&N/A&N/A&N/A&N/A\"\n",
    "    end\n",
    "end\n",
    "\n",
    "function printOneLine(d, solvers, i)\n",
    "    allCells = [printSolverCell(d, solver, i) for solver in solvers]\n",
    "    return string(100 + 50*(i-1),\"&\",nfK(d[\"ne\"][i]), \"&\", nfK(d[\"nv\"][i]), join(allCells), \"\\\\\\\\\")\n",
    "end\n",
    "\n",
    "function printAllLines(d, solvers)\n",
    "    for i in 1:length(d[\"testName\"])\n",
    "        println(printOneLine(d, solvers, i))\n",
    "    end\n",
    "end"
   ]
  },
  {
   "cell_type": "code",
   "execution_count": 5,
   "metadata": {},
   "outputs": [
    {
     "data": {
      "text/plain": [
       "\"188\\\\tnote{**}\""
      ]
     },
     "execution_count": 5,
     "metadata": {},
     "output_type": "execute_result"
    }
   ],
   "source": [
    "string(ffe6(dic1[\"ac_err\"][10]), \"\\\\tnote{**}\")"
   ]
  },
  {
   "cell_type": "code",
   "execution_count": 6,
   "metadata": {},
   "outputs": [
    {
     "name": "stdout",
     "output_type": "stream",
     "text": [
      "100&500&5&83&0.226&0.398&0.9&28&0.0793&0.478&0.64&7&0.4&1.18&0.000943\\\\\n",
      "150&1690&11&149&0.502&0.748&0.96&34&0.117&0.581&0.632&7&0.18&0.62&0.000857\\\\\n",
      "200&4000&20&167&0.682&0.931&0.955&37&0.155&0.716&0.877&7&0.149&0.487&0.00102\\\\\n",
      "250&7810&31&241&1.07&1.43&0.998&38&0.169&0.703&0.98&7&0.136&0.475&0.00131\\\\\n",
      "300&13500&45&289&1.33&1.59&0.88&39&0.179&0.719&0.854&7&0.125&0.436&0.00173\\\\\n",
      "350&21400&61&355&1.65&1.97&0.99&40&0.188&0.733&0.996&7&0.122&0.424&0.00177\\\\\n",
      "400&32000&80&459&2.12&2.44&0.967&40&0.186&0.718&0.985&7&0.12&0.41&0.00197\\\\\n",
      "450&45600&101&486&2.27&2.58&0.999&43&0.202&0.745&0.902&7&0.119&0.401&0.00177\\\\\n",
      "500&62500&125&452&2.08&2.4&0.944&43&0.198&0.747&0.808&7&0.118&0.399&0.00193\\\\\n",
      "550&83200&151&149&0.698\\tnote{**}&1.02\\tnote{**}&1.88e+04&41&0.192&0.753&0.792&7&0.118&0.4&0.00315\\\\\n",
      "600&108000&180&773&3.55&3.93&0.997&45&0.208&0.849&0.741&7&0.117&0.395&0.00251\\\\\n",
      "650&137000&211&953&4.43\\tnote{*}&4.76\\tnote{*}&2.4&44&0.201&1.04&0.687&7&0.118&0.404&0.00319\\\\\n",
      "700&172000&245&478&2.19\\tnote{*}&2.62\\tnote{*}&126&45&0.207&0.859&0.882&7&0.117&0.4&0.00222\\\\\n",
      "750&211000&281&905&4.15\\tnote{*}&4.47\\tnote{*}&2.33&43&0.198&0.855&0.916&7&0.117&0.39&0.00378\\\\\n",
      "800&256000&320&669&3.07\\tnote{*}&3.39\\tnote{*}&32.9&45&0.207&0.883&0.956&7&0.116&0.386&0.00274\\\\\n"
     ]
    }
   ],
   "source": [
    "solvers1 = [\"ac\", \"ac-s2m2\", \"cmg2\"]\n",
    "printAllLines(dic1, solvers1)"
   ]
  },
  {
   "cell_type": "code",
   "execution_count": 7,
   "metadata": {},
   "outputs": [
    {
     "name": "stdout",
     "output_type": "stream",
     "text": [
      "100&500&5&100&0.44\\tnote{*}&0.84\\tnote{*}&225&2&0.032\\tnote{**}&1.08\\tnote{**}&2.76e+04&1&0.428&0.544&4.44e-06\\\\\n",
      "150&1690&11&100&0.45\\tnote{*}&0.995\\tnote{*}&493&2&0.0341\\tnote{**}&1.47\\tnote{**}&2.63e+04&1&0.125&0.227&8.25e-08\\\\\n",
      "200&4000&20&100&0.692\\tnote{*}&1.4\\tnote{*}&2.87e+03&2&0.0376\\tnote{**}&1.93\\tnote{**}&2.09e+04&1&0.0649&0.177&5.42e-07\\\\\n",
      "250&7810&31&100&0.852\\tnote{*}&1.73\\tnote{*}&15.2&1&0.041\\tnote{**}&2.37\\tnote{**}&1.68e+04&1&0.04&0.16&8.73e-07\\\\\n",
      "300&13500&45&100&0.849\\tnote{**}&1.89\\tnote{**}&3.91e+04&2&0.0427\\tnote{**}&2.81\\tnote{**}&1.56e+04&1&0.0315&0.153&1.37e-05\\\\\n",
      "350&21400&61&100&0.855\\tnote{**}&2.07\\tnote{**}&1.14e+06&5&0.106\\tnote{*}&3.31\\tnote{*}&4.21e+03&1&0.0265&0.153&1.38e-06\\\\\n",
      "400&32000&80&100&0.842\\tnote{*}&2.22\\tnote{*}&1.54e+03&1&0.0394\\tnote{**}&3.69\\tnote{**}&1.2e+04&1&0.0243&0.163&1.54e-05\\\\\n",
      "450&45600&101&100&0.852\\tnote{**}&2.4\\tnote{**}&2.71e+06&2&0.0388\\tnote{**}&4.13\\tnote{**}&1.21e+04&1&0.0224&0.168&3.07e-06\\\\\n",
      "500&62500&125&100&0.848\\tnote{**}&2.55\\tnote{**}&1.47e+05&1&0.0374\\tnote{**}&4.57\\tnote{**}&1.03e+04&1&0.0213&0.178&1.01e-05\\\\\n",
      "550&83200&151&100&0.834\\tnote{*}&2.7\\tnote{*}&3.36e+03&2&0.0371\\tnote{*}&5.05\\tnote{*}&9.35e+03&1&0.0211&0.208&0.00015\\\\\n",
      "600&108000&180&47&0.396&2.42&0.562&2&0.0572\\tnote{*}&5.47\\tnote{*}&9.17e+03&1&0.0204&0.204&1.08e-05\\\\\n",
      "650&137000&211&100&0.831\\tnote{*}&3.02\\tnote{*}&4.37e+03&2&0.0568\\tnote{*}&5.93\\tnote{*}&8.53e+03&1&0.0201&0.221&6.21e-06\\\\\n",
      "700&172000&245&100&0.831\\tnote{*}&3.19\\tnote{*}&236&3&0.0567\\tnote{*}&6.35\\tnote{*}&8.93e+03&1&0.0198&0.223&5.28e-06\\\\\n",
      "750&211000&281&100&0.828\\tnote{**}&3.35\\tnote{**}&5.89e+04&2&0.0371\\tnote{*}&6.77\\tnote{*}&8.59e+03&1&0.0194&0.235&5.19e-05\\\\\n",
      "800&256000&320&100&0.821\\tnote{*}&3.52\\tnote{*}&2.44e+03&2&0.0388\\tnote{*}&7.22\\tnote{*}&8.43e+03&1&0.0193&0.246&1.11e-05\\\\\n"
     ]
    }
   ],
   "source": [
    "solvers2 = [\"hypre\", \"petsc_hypre\", \"icc2\"]\n",
    "printAllLines(dic1, solvers2)"
   ]
  }
 ],
 "metadata": {
  "kernelspec": {
   "display_name": "Julia 1.10.2",
   "language": "julia",
   "name": "julia-1.10"
  },
  "language_info": {
   "file_extension": ".jl",
   "mimetype": "application/julia",
   "name": "julia",
   "version": "1.10.2"
  }
 },
 "nbformat": 4,
 "nbformat_minor": 4
}
