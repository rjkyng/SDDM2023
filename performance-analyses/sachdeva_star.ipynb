{
 "cells": [
  {
   "cell_type": "code",
   "execution_count": null,
   "metadata": {},
   "outputs": [],
   "source": [
    "using JLD2\n",
    "using Statistics\n",
    "using Revise\n",
    "using Plots\n",
    "using Laplacians\n",
    "using Printf\n"
   ]
  },
  {
   "cell_type": "code",
   "execution_count": null,
   "metadata": {},
   "outputs": [],
   "source": [
    "@load \"sachdeva_star_all.jl.split02merge02.jld2\"\n",
    "dic1 = copy(dic)"
   ]
  },
  {
   "cell_type": "code",
   "execution_count": null,
   "metadata": {},
   "outputs": [],
   "source": [
    "function sd(d,x)\n",
    "    #scale = exp10(ceil(log10(abs(x)))-d)\n",
    "    #return round(x/scale)*scale\n",
    "    return round(x, sigdigits=d)\n",
    "end        \n",
    "\n",
    "#constant d = 3\n",
    "ff(s) = (@sprintf \"%.3g\" sd(3,s))\n",
    "nf(s) = (@sprintf \"%d\" sd(3,s))\n",
    "\n",
    "ffK(s) = (@sprintf \"%.3g\" sd(3,s)/1000)\n",
    "nfK(s) =  round(Int64, sd(3,s)/1000)\n",
    "\n",
    "ffe8(s) = (@sprintf \"%.3g\" sd(3,s)*1e8)\n",
    "ffM(s) = (@sprintf \"%.3g\" sd(3,s)/1e6)\n",
    "nfM(s) =  round(Int64, sd(3,s)/1e6)\n",
    "ffe6(s) = (@sprintf \"%.3g\" sd(3,s)*1e6)\n",
    "ffe5(s) = (@sprintf \"%.3g\" sd(3,s)*1e5)\n"
   ]
  },
  {
   "cell_type": "code",
   "execution_count": null,
   "metadata": {},
   "outputs": [],
   "source": [
    "function labelTvn(tvn, err)\n",
    "    if err <= 1e-8\n",
    "        return ffe6(tvn)\n",
    "    elseif err < 1e-4\n",
    "        return string(ffe6(tvn), \"\\\\tnote{*}\")\n",
    "    elseif err < 1\n",
    "        return string(ffe6(tvn), \"\\\\tnote{**}\")\n",
    "    else\n",
    "        return \"Inf\"\n",
    "    end\n",
    "end\n",
    "\n",
    "function printSolverCell(d, solver, i)\n",
    "    if haskey(d, string(solver, \"_tot\"))\n",
    "        itr = d[string(solver, \"_its\")][i]\n",
    "        ne = d[\"ne\"][i]\n",
    "        solveVn = d[string(solver, \"_solve\")][i] / ne\n",
    "        totalVn = d[string(solver, \"_tot\")][i] / ne\n",
    "        err = d[string(solver, \"_err\")][i]\n",
    "        return string(\"&\", nf(itr), \"&\", labelTvn(solveVn, err), \"&\", labelTvn(totalVn, err), \"&\",ffe8(err))\n",
    "    else\n",
    "        return \"&N/A&N/A&N/A&N/A\"\n",
    "    end\n",
    "end\n",
    "\n",
    "function printOneLine(d, solvers, i)\n",
    "    allCells = [printSolverCell(d, solver, i) for solver in solvers]\n",
    "    return string(100 + 50*(i-1),\"&\",nfK(d[\"ne\"][i]), \"&\", nfK(d[\"nv\"][i]), join(allCells), \"\\\\\\\\\")\n",
    "end\n",
    "\n",
    "function printAllLines(d, solvers)\n",
    "    for i in 1:length(d[\"testName\"])\n",
    "        println(printOneLine(d, solvers, i))\n",
    "    end\n",
    "end"
   ]
  },
  {
   "cell_type": "code",
   "execution_count": null,
   "metadata": {},
   "outputs": [],
   "source": [
    "string(ffe6(dic1[\"ac_err\"][10]), \"\\\\tnote{**}\")"
   ]
  },
  {
   "cell_type": "code",
   "execution_count": null,
   "metadata": {},
   "outputs": [],
   "source": [
    "solvers1 = [\"ac\", \"ac-s2m2\", \"cmg2\"]\n",
    "printAllLines(dic1, solvers1)"
   ]
  },
  {
   "cell_type": "code",
   "execution_count": null,
   "metadata": {},
   "outputs": [],
   "source": [
    "solvers2 = [\"hypre\", \"petsc_hypre\", \"icc2\"]\n",
    "printAllLines(dic1, solvers2)"
   ]
  }
 ],
 "metadata": {
  "kernelspec": {
   "display_name": "Julia 1.10.2",
   "language": "julia",
   "name": "julia-1.10"
  },
  "language_info": {
   "file_extension": ".jl",
   "mimetype": "application/julia",
   "name": "julia",
   "version": "1.10.2"
  }
 },
 "nbformat": 4,
 "nbformat_minor": 4
}
