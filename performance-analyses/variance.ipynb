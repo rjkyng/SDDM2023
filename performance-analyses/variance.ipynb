{
 "cells": [
  {
   "cell_type": "code",
   "execution_count": null,
   "metadata": {},
   "outputs": [],
   "source": [
    "using JLD2\n",
    "using Statistics\n",
    "using Revise\n",
    "using Plots\n",
    "using Laplacians\n",
    "using Printf"
   ]
  },
  {
   "cell_type": "code",
   "execution_count": null,
   "metadata": {},
   "outputs": [],
   "source": [
    "function sd(d,x)\n",
    "    #scale = exp10(ceil(log10(abs(x)))-d)\n",
    "    #return round(x/scale)*scale\n",
    "    return round(x, sigdigits=d)\n",
    "end        \n",
    "ff(s) = (@sprintf \"%.4g\" sd(3,s))\n",
    "ffK(s) = (@sprintf \"%.5g\" sd(3,s)/1e3)\n",
    "ffM(s) = (@sprintf \"%.3g\" sd(3,s)/1e6)\n",
    "ffmicro(s) = (@sprintf \"%.4g\" sd(3,s)*1e6)\n",
    "ffe6(s) = (@sprintf \"%.3g\" sd(3,s)*1e6)\n",
    "ffe8(s) = (@sprintf \"%.4g\" sd(3,s)*1e8)"
   ]
  },
  {
   "cell_type": "code",
   "execution_count": null,
   "metadata": {},
   "outputs": [],
   "source": [
    "@load \"variances.jld2\"\n",
    "dic1 = copy(dic);"
   ]
  },
  {
   "cell_type": "code",
   "execution_count": null,
   "metadata": {},
   "outputs": [],
   "source": [
    "wted_chimera_indices = findall(entry -> contains(entry, \"wted_chimera(10000000,1)\"), dic1[\"testName\"])\n",
    "sachedeva_indices = findall(entry -> contains(entry, \"star_join(complete_graph(700), 350)\"), dic1[\"testName\"])\n",
    "wted_bndry_chimera_indices = findall(entry -> contains(entry, \"wted_bndry_chimera(10000000,1)\"), dic1[\"testName\"])\n",
    "checkered_grid_indices = findall(entry -> contains(entry, \"checkered_grid_sddm(2.0e8, 32, 32, 32, 1.0e7)\"), dic1[\"testName\"])\n",
    "wgrid_indices = findall(entry -> contains(entry, \"wgrid_sddm(2.0e8, 0.001)\"), dic1[\"testName\"]);"
   ]
  },
  {
   "cell_type": "code",
   "execution_count": null,
   "metadata": {},
   "outputs": [],
   "source": [
    "problem_idx = [wted_chimera_indices, wted_bndry_chimera_indices, sachedeva_indices, checkered_grid_indices, wgrid_indices]\n",
    "instanceNames = [\"Weighted chimera\", \"Weighted SDDM chimera\", \"Sachdeva Star\", \"High contrast coefficient Poisson grid\", \"Anisotropic coef. Poisson grid, variable weight\"];\n"
   ]
  },
  {
   "cell_type": "code",
   "execution_count": null,
   "metadata": {},
   "outputs": [],
   "source": [
    "function extractSlice(dic, slice)\n",
    "    dicSlice = Dict()\n",
    "    numepxr = length(dic[\"ne\"])\n",
    "    for (key, value) in dic\n",
    "        if length(value) == numepxr\n",
    "            dicSlice[key] = value[slice]\n",
    "        else\n",
    "            dicSlice[key] = value\n",
    "        end\n",
    "    end\n",
    "    return dicSlice\n",
    "end"
   ]
  },
  {
   "cell_type": "code",
   "execution_count": null,
   "metadata": {},
   "outputs": [],
   "source": [
    "dics = [extractSlice(dic1, idx) for idx in problem_idx];"
   ]
  },
  {
   "cell_type": "code",
   "execution_count": null,
   "metadata": {},
   "outputs": [],
   "source": [
    "instanceNnzs = [maximum(dic1[\"ne\"][indices]) for indices in problem_idx]\n"
   ]
  },
  {
   "cell_type": "code",
   "execution_count": null,
   "metadata": {},
   "outputs": [],
   "source": [
    "function labelTvn(tvn, err)\n",
    "    if err <= 1e-8\n",
    "        return ffe6(tvn)\n",
    "    elseif err < 1e-4\n",
    "        return string(ffe6(tvn), \"\\\\tnote{*}\")\n",
    "    elseif err < 1\n",
    "        return string(ffe6(tvn), \"\\\\tnote{**}\")\n",
    "    else\n",
    "        return \"Inf\"\n",
    "    end\n",
    "end\n",
    "\n",
    "function printMedian(d, solver, category)\n",
    "    if haskey(d, string(solver, category)) && length(d[string(solver, category)]) == length(d[\"ne\"])\n",
    "        tvn = median(d[string(solver, category)] ./ d[\"ne\"] )\n",
    "        err = median(d[string(solver, \"_err\")])\n",
    "        return labelTvn(tvn, err)\n",
    "    else\n",
    "        return \"N/A\"\n",
    "    end\n",
    "end\n",
    "\n",
    "function print75(d, solver, category)\n",
    "    if haskey(d, string(solver, category)) && length(d[string(solver, category)]) == length(d[\"ne\"])\n",
    "        tvn = quantile(d[string(solver, category)] ./ d[\"ne\"], 0.75)\n",
    "        err = quantile(d[string(solver, \"_err\")], 0.75)\n",
    "        return labelTvn(tvn, err)\n",
    "    else\n",
    "        return \"N/A\"\n",
    "    end\n",
    "end\n",
    "\n",
    "function printMax(d, solver, category)\n",
    "    if haskey(d, string(solver, category)) && length(d[string(solver, category)]) == length(d[\"ne\"])\n",
    "        tvn = maximum(d[string(solver, category)] ./ d[\"ne\"])\n",
    "        err = maximum(d[string(solver, \"_err\")])\n",
    "        return labelTvn(tvn, err)\n",
    "    else\n",
    "        return \"N/A\"\n",
    "    end\n",
    "end"
   ]
  },
  {
   "cell_type": "code",
   "execution_count": null,
   "metadata": {},
   "outputs": [],
   "source": [
    "function printSolverCell(d, solver, category) \n",
    "    return string(printMedian(d, solver, category), \"&\", print75(d, solver, category), \"&\", printMax(d, solver, category))\n",
    "end\n",
    "\n",
    "function printOneLine(d, solvers)\n",
    "    allSolveCells = [printSolverCell(d, solver, \"_solve\") for solver in solvers]\n",
    "    allTotCells = [printSolverCell(d, solver, \"_tot\") for solver in solvers]\n",
    "    return string(join(allSolveCells, \"&\"), \"&\", join(allTotCells, \"&\"), \"\\\\\\\\\")\n",
    "end\n",
    "\n",
    "function printAllLines(instanceNames, instanceNnzs, dics, solvers)\n",
    "    for i in 1:length(dics)\n",
    "        println(instanceNames[i], \"&\", ffM(instanceNnzs[i]) , \"&\", printOneLine(dics[i], solvers))\n",
    "    end\n",
    "end"
   ]
  },
  {
   "cell_type": "code",
   "execution_count": null,
   "metadata": {},
   "outputs": [],
   "source": [
    "solvers = [\"ac\", \"ac-s2m2\"]\n",
    "printAllLines(instanceNames, instanceNnzs, dics, solvers)"
   ]
  },
  {
   "cell_type": "code",
   "execution_count": null,
   "metadata": {},
   "outputs": [],
   "source": [
    "solvers = [\"ac\", \"ac-random\"]\n",
    "printAllLines(instanceNames, instanceNnzs, dics, solvers)"
   ]
  },
  {
   "cell_type": "code",
   "execution_count": null,
   "metadata": {},
   "outputs": [],
   "source": []
  }
 ],
 "metadata": {
  "kernelspec": {
   "display_name": "Julia 1.10.2",
   "language": "julia",
   "name": "julia-1.10"
  },
  "language_info": {
   "file_extension": ".jl",
   "mimetype": "application/julia",
   "name": "julia",
   "version": "1.10.2"
  }
 },
 "nbformat": 4,
 "nbformat_minor": 2
}
