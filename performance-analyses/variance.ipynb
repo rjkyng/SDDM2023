{
 "cells": [
  {
   "cell_type": "code",
   "execution_count": 1,
   "metadata": {},
   "outputs": [],
   "source": [
    "using JLD2\n",
    "using Statistics\n",
    "using Revise\n",
    "using Plots\n",
    "using Laplacians\n",
    "using Printf"
   ]
  },
  {
   "cell_type": "code",
   "execution_count": 2,
   "metadata": {},
   "outputs": [
    {
     "data": {
      "text/plain": [
       "ffe8 (generic function with 1 method)"
      ]
     },
     "execution_count": 2,
     "metadata": {},
     "output_type": "execute_result"
    }
   ],
   "source": [
    "function sd(d,x)\n",
    "    #scale = exp10(ceil(log10(abs(x)))-d)\n",
    "    #return round(x/scale)*scale\n",
    "    return round(x, sigdigits=d)\n",
    "end        \n",
    "ff(s) = (@sprintf \"%.4g\" sd(3,s))\n",
    "ffK(s) = (@sprintf \"%.5g\" sd(3,s)/1e3)\n",
    "ffM(s) = (@sprintf \"%.3g\" sd(3,s)/1e6)\n",
    "ffmicro(s) = (@sprintf \"%.4g\" sd(3,s)*1e6)\n",
    "ffe6(s) = (@sprintf \"%.3g\" sd(3,s)*1e6)\n",
    "ffe8(s) = (@sprintf \"%.4g\" sd(3,s)*1e8)"
   ]
  },
  {
   "cell_type": "code",
   "execution_count": 3,
   "metadata": {},
   "outputs": [],
   "source": [
    "@load \"variances.jld2\"\n",
    "dic1 = copy(dic);"
   ]
  },
  {
   "cell_type": "code",
   "execution_count": 4,
   "metadata": {},
   "outputs": [],
   "source": [
    "wted_chimera_indices = findall(entry -> contains(entry, \"wted_chimera(10000000,1)\"), dic1[\"testName\"])\n",
    "sachedeva_indices = findall(entry -> contains(entry, \"star_join(complete_graph(700), 350)\"), dic1[\"testName\"])\n",
    "wted_bndry_chimera_indices = findall(entry -> contains(entry, \"wted_bndry_chimera(10000000,1)\"), dic1[\"testName\"])\n",
    "checkered_grid_indices = findall(entry -> contains(entry, \"checkered_grid_sddm(2.0e8, 32, 32, 32, 1.0e7)\"), dic1[\"testName\"])\n",
    "wgrid_indices = findall(entry -> contains(entry, \"wgrid_sddm(2.0e8, 0.001)\"), dic1[\"testName\"]);"
   ]
  },
  {
   "cell_type": "code",
   "execution_count": 5,
   "metadata": {},
   "outputs": [],
   "source": [
    "problem_idx = [wted_chimera_indices, wted_bndry_chimera_indices, sachedeva_indices, checkered_grid_indices, wgrid_indices]\n",
    "instanceNames = [\"Weighted chimera\", \"Weighted SDDM chimera\", \"Sachdeva Star\", \"High contrast coefficient Poisson grid\", \"Anisotropic coef. Poisson grid, variable weight\"];\n"
   ]
  },
  {
   "cell_type": "code",
   "execution_count": 6,
   "metadata": {},
   "outputs": [
    {
     "data": {
      "text/plain": [
       "extractSlice (generic function with 1 method)"
      ]
     },
     "execution_count": 6,
     "metadata": {},
     "output_type": "execute_result"
    }
   ],
   "source": [
    "function extractSlice(dic, slice)\n",
    "    dicSlice = Dict()\n",
    "    numepxr = length(dic[\"ne\"])\n",
    "    for (key, value) in dic\n",
    "        if length(value) == numepxr\n",
    "            dicSlice[key] = value[slice]\n",
    "        else\n",
    "            dicSlice[key] = value\n",
    "        end\n",
    "    end\n",
    "    return dicSlice\n",
    "end"
   ]
  },
  {
   "cell_type": "code",
   "execution_count": 7,
   "metadata": {},
   "outputs": [],
   "source": [
    "dics = [extractSlice(dic1, idx) for idx in problem_idx];"
   ]
  },
  {
   "cell_type": "code",
   "execution_count": 8,
   "metadata": {},
   "outputs": [
    {
     "data": {
      "text/plain": [
       "5-element Vector{Int64}:\n",
       "  50163366\n",
       "  49746425\n",
       " 171500701\n",
       " 200006496\n",
       " 200006496"
      ]
     },
     "execution_count": 8,
     "metadata": {},
     "output_type": "execute_result"
    }
   ],
   "source": [
    "instanceNnzs = [maximum(dic1[\"ne\"][indices]) for indices in problem_idx]\n"
   ]
  },
  {
   "cell_type": "code",
   "execution_count": 9,
   "metadata": {},
   "outputs": [
    {
     "data": {
      "text/plain": [
       "printMax (generic function with 1 method)"
      ]
     },
     "execution_count": 9,
     "metadata": {},
     "output_type": "execute_result"
    }
   ],
   "source": [
    "function labelTvn(tvn, err)\n",
    "    if err <= 1e-8\n",
    "        return ffe6(tvn)\n",
    "    elseif err < 1e-4\n",
    "        return string(ffe6(tvn), \"\\\\tnote{*}\")\n",
    "    elseif err < 1\n",
    "        return string(ffe6(tvn), \"\\\\tnote{**}\")\n",
    "    else\n",
    "        return \"Inf\"\n",
    "    end\n",
    "end\n",
    "\n",
    "function printMedian(d, solver, category)\n",
    "    if haskey(d, string(solver, category)) && length(d[string(solver, category)]) == length(d[\"ne\"])\n",
    "        tvn = median(d[string(solver, category)] ./ d[\"ne\"] )\n",
    "        err = median(d[string(solver, \"_err\")])\n",
    "        return labelTvn(tvn, err)\n",
    "    else\n",
    "        return \"N/A\"\n",
    "    end\n",
    "end\n",
    "\n",
    "function print75(d, solver, category)\n",
    "    if haskey(d, string(solver, category)) && length(d[string(solver, category)]) == length(d[\"ne\"])\n",
    "        tvn = quantile(d[string(solver, category)] ./ d[\"ne\"], 0.75)\n",
    "        err = quantile(d[string(solver, \"_err\")], 0.75)\n",
    "        return labelTvn(tvn, err)\n",
    "    else\n",
    "        return \"N/A\"\n",
    "    end\n",
    "end\n",
    "\n",
    "function printMax(d, solver, category)\n",
    "    if haskey(d, string(solver, category)) && length(d[string(solver, category)]) == length(d[\"ne\"])\n",
    "        tvn = maximum(d[string(solver, category)] ./ d[\"ne\"])\n",
    "        err = maximum(d[string(solver, \"_err\")])\n",
    "        return labelTvn(tvn, err)\n",
    "    else\n",
    "        return \"N/A\"\n",
    "    end\n",
    "end"
   ]
  },
  {
   "cell_type": "code",
   "execution_count": 10,
   "metadata": {},
   "outputs": [
    {
     "data": {
      "text/plain": [
       "printAllLines (generic function with 1 method)"
      ]
     },
     "execution_count": 10,
     "metadata": {},
     "output_type": "execute_result"
    }
   ],
   "source": [
    "function printSolverCell(d, solver, category) \n",
    "    return string(printMedian(d, solver, category), \"&\", print75(d, solver, category), \"&\", printMax(d, solver, category))\n",
    "end\n",
    "\n",
    "function printOneLine(d, solvers)\n",
    "    allSolveCells = [printSolverCell(d, solver, \"_solve\") for solver in solvers]\n",
    "    allTotCells = [printSolverCell(d, solver, \"_tot\") for solver in solvers]\n",
    "    return string(join(allSolveCells, \"&\"), \"&\", join(allTotCells, \"&\"), \"\\\\\\\\\")\n",
    "end\n",
    "\n",
    "function printAllLines(instanceNames, instanceNnzs, dics, solvers)\n",
    "    for i in 1:length(dics)\n",
    "        println(instanceNames[i], \"&\", ffM(instanceNnzs[i]) , \"&\", printOneLine(dics[i], solvers))\n",
    "    end\n",
    "end"
   ]
  },
  {
   "cell_type": "code",
   "execution_count": 11,
   "metadata": {},
   "outputs": [
    {
     "name": "stdout",
     "output_type": "stream",
     "text": [
      "Weighted chimera&50.2&3.78&3.87&3.95&2.59&2.6&2.68&4.65&4.74&4.82&4.09&4.11&4.18\\\\\n",
      "Weighted SDDM chimera&49.7&3.3&3.38&3.48&2.44&2.5&2.58&4.45&4.53&4.64&4.26&4.33&4.4\\\\\n",
      "Sachdeva Star&172&4.04&4.48\\tnote{*}&4.55\\tnote{**}&0.198&0.201&0.209&4.46&4.9\\tnote{*}&4.97\\tnote{**}&0.832&0.836&0.846\\\\\n",
      "High contrast coefficient Poisson grid&200&1.71&1.73&1.77&2.14&2.15&2.25&2.6&2.62&2.66&3.34&3.35&3.45\\\\\n",
      "Anisotropic coef. Poisson grid, variable weight&200&1.12&1.14&1.18&1.15&1.16&1.2&1.72&1.75&1.82&2.33&2.34&2.38\\\\\n"
     ]
    }
   ],
   "source": [
    "solvers = [\"ac\", \"ac-s2m2\"]\n",
    "printAllLines(instanceNames, instanceNnzs, dics, solvers)"
   ]
  },
  {
   "cell_type": "code",
   "execution_count": 12,
   "metadata": {},
   "outputs": [],
   "source": [
    "ratios = []\n",
    "errors = []\n",
    "for indices in problem_idx\n",
    "    ratio = dic1[\"rchol_tot\"][indices] ./ dic1[\"ne\"][indices]\n",
    "    push!(ratios, ratio)\n",
    "    error = dic1[\"rchol_err\"][indices]\n",
    "    push!(errors, error)\n",
    "end\n"
   ]
  },
  {
   "cell_type": "code",
   "execution_count": 13,
   "metadata": {},
   "outputs": [
    {
     "name": "stdout",
     "output_type": "stream",
     "text": [
      "Weighted chimera     - Ratio - Mean:       2.92 | 0.75 Quantile:       2.93 | Max:       3.04\n",
      "\u001b[31mWeighted chimera     - Error - Mean:      1e+08 | 0.75 Quantile:      1e+08 | Max:      1e+08\n",
      "\u001b[0mWeighted SDDM chimera - Ratio - Mean:       6.27 | 0.75 Quantile:       6.35 | Max:       6.46\n",
      "\u001b[31mWeighted SDDM chimera - Error - Mean:      0.965 | 0.75 Quantile:      0.979 | Max:       0.99\n",
      "\u001b[0mSachdeva Star        - Ratio - Mean:      0.255 | 0.75 Quantile:      0.256 | Max:      0.258\n",
      "\u001b[31mSachdeva Star        - Error - Mean:      1e+08 | 0.75 Quantile:      1e+08 | Max:      1e+08\n",
      "\u001b[0mHigh contrast coefficient Poisson grid - Ratio - Mean:       5.76 | 0.75 Quantile:       5.93 | Max:       6.04\n",
      "\u001b[31mHigh contrast coefficient Poisson grid - Error - Mean:      0.963 | 0.75 Quantile:      0.996 | Max:      0.998\n",
      "\u001b[0mAnisotropic coef. Poisson grid, variable weight - Ratio - Mean:        2.3 | 0.75 Quantile:       2.32 | Max:        2.4\n",
      "\u001b[31mAnisotropic coef. Poisson grid, variable weight - Error - Mean:       0.89 | 0.75 Quantile:      0.943 | Max:      0.979\n",
      "\u001b[0m"
     ]
    }
   ],
   "source": [
    "for (name, ratio, error) in zip(instanceNames, ratios, errors)\n",
    "    mean_val = mean(ratio)\n",
    "    quantile_val = quantile(ratio, 0.75)\n",
    "    max_val = maximum(ratio)\n",
    "    \n",
    "    @printf(\"%-20s - Ratio - Mean: %10s | 0.75 Quantile: %10s | Max: %10s\\n\", name, ffmicro(mean_val), ffmicro(quantile_val), ffmicro(max_val))\n",
    "    \n",
    "    mean_error = mean(error)\n",
    "    quantile_error = quantile(error, 0.75)\n",
    "    max_error = maximum(error)\n",
    "    \n",
    "    @printf(\"\\u001b[31m%-20s - Error - Mean: %10s | 0.75 Quantile: %10s | Max: %10s\\n\\u001b[0m\", name, ffe8(mean_error), ffe8(quantile_error), ffe8(max_error))\n",
    "end"
   ]
  },
  {
   "cell_type": "code",
   "execution_count": null,
   "metadata": {},
   "outputs": [],
   "source": []
  }
 ],
 "metadata": {
  "kernelspec": {
   "display_name": "Julia 1.10.2",
   "language": "julia",
   "name": "julia-1.10"
  },
  "language_info": {
   "file_extension": ".jl",
   "mimetype": "application/julia",
   "name": "julia",
   "version": "1.10.2"
  }
 },
 "nbformat": 4,
 "nbformat_minor": 2
}
