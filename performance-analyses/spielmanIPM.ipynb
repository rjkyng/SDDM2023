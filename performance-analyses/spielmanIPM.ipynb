{
 "cells": [
  {
   "cell_type": "code",
   "execution_count": 1,
   "metadata": {},
   "outputs": [],
   "source": [
    "using JLD2\n",
    "using Statistics\n",
    "using Revise\n",
    "using Plots\n",
    "using Laplacians"
   ]
  },
  {
   "cell_type": "code",
   "execution_count": 2,
   "metadata": {},
   "outputs": [
    {
     "data": {
      "text/plain": [
       "Dict{Any,Any} with 49 entries:\n",
       "  \"hypre_solve\"       => [0.24, 0.24, 0.22, 0.2, 0.2, 0.3, 0.21, 0.2, 0.21, 0.2…\n",
       "  \"icc2_tot\"          => [6.37777, 5.6349, 5.95233, 6.46598, 8.00571, 5.48614, …\n",
       "  \"petsc_hypre_build\" => [0.387031, 0.386556, 0.383702, 0.409836, 0.383895, 0.3…\n",
       "  \"lamg_its\"          => [2.0, 2.0, 2.0, 2.0, 2.0, 2.0, 2.0, 2.0, 2.0, 2.0  …  …\n",
       "  \"ac_tot\"            => [0.253683, 0.210542, 0.165944, 0.166443, 0.166224, 0.1…\n",
       "  \"icc2_solve\"        => [6.18821, 5.4554, 5.76543, 6.27385, 7.8149, 5.28723, 5…\n",
       "  \"hypre_tot\"         => [0.37, 0.37, 0.36, 0.35, 0.35, 0.46, 0.34, 0.35, 0.37,…\n",
       "  \"ac-s2m2_its\"       => [7.0, 5.0, 4.0, 4.0, 4.0, 4.0, 4.0, 5.0, 4.0, 4.0  …  …\n",
       "  \"petsc_hypre_solve\" => [1.41793, 0.614656, 0.384447, 0.711038, 1.47429, 0.310…\n",
       "  \"petsc_hypre_its\"   => [17.0, 7.0, 5.0, 9.0, 19.0, 4.0, 5.0, 5.0, 5.0, 5.0  ……\n",
       "  \"icc_solve\"         => [3.40171, 3.93851, 3.52589, 3.27953, 3.27106, 3.59101,…\n",
       "  \"icc2_its\"          => [322.0, 287.0, 307.0, 323.0, 342.0, 284.0, 280.0, 288.…\n",
       "  \"cmg2_solve\"        => [1.08767, 1.08332, 1.0999, 1.10252, 1.06485, 1.10322, …\n",
       "  \"icc_build\"         => [0.159624, 0.152468, 0.152749, 0.151107, 0.175822, 0.1…\n",
       "  \"petsc_hypre_tot\"   => [1.80496, 1.00121, 0.768149, 1.12087, 1.85819, 0.69253…\n",
       "  \"cmg_err\"           => [8.46501e-9, 7.36666e-9, 7.30758e-9, 7.87402e-9, 8.869…\n",
       "  \"lamg_err\"          => [4.68065e-16, 3.76265e-16, 2.19304e-16, 1.89908e-16, 1…\n",
       "  \"ac_build\"          => [0.153643, 0.157924, 0.123152, 0.122969, 0.123043, 0.1…\n",
       "  \"cmg2_its\"          => [38.0, 39.0, 39.0, 39.0, 39.0, 39.0, 39.0, 39.0, 39.0,…\n",
       "  \"hypre_build\"       => [0.13, 0.13, 0.14, 0.15, 0.15, 0.16, 0.13, 0.15, 0.16,…\n",
       "  \"petsc_hypre_err\"   => [4.45758e-16, 3.0389e-16, 5.31429e-11, 3.30806e-9, 2.7…\n",
       "  \"hypre_err\"         => [1.95482e-9, 1.91876e-9, 6.22193e-9, 4.20383e-9, 4.450…\n",
       "  \"icc_tot\"           => [3.56134, 4.09097, 3.67864, 3.43063, 3.44689, 3.74304,…\n",
       "  \"icc2_err\"          => [9.27629e-9, 9.94175e-9, 9.06177e-9, 9.28749e-9, 6.991…\n",
       "  \"testName\"          => [\"ipmR.k100.low0.25.up1.0e-6.i1\", \"ipmR.k100.low0.25.u…\n",
       "  ⋮                   => ⋮"
      ]
     },
     "execution_count": 2,
     "metadata": {},
     "output_type": "execute_result"
    }
   ],
   "source": [
    "@load \"spielmanIPM_all.jl.split02merge02.jld2\"\n",
    "dic1 = copy(dic)"
   ]
  },
  {
   "cell_type": "code",
   "execution_count": 3,
   "metadata": {},
   "outputs": [],
   "source": [
    "import Laplacians.initDictCol!\n",
    "dics = [Dict(),Dict(),Dict(),Dict(),Dict(),Dict()]\n",
    "\n",
    "for key in keys(dic1)\n",
    "    for i in 1:length(dics)\n",
    "        initDictCol!(dics[i], key, typeof(dic1[key][1]))\n",
    "        #@show dics[i]\n",
    "    end\n",
    "end\n",
    "\n",
    "\n",
    "for i in 1:length(dic1[\"testName\"])\n",
    "    tn = dic1[\"testName\"][i]\n",
    "    curK = parse(Int64, (split(tn, \".\")[2][2:end]))\n",
    "    kInd = round(Int64, curK / 100)\n",
    "    for key in keys(dic1)\n",
    "        if key == \"names\"\n",
    "            continue\n",
    "        end\n",
    "        push!(dics[kInd][key], dic1[key][i])\n",
    "    end\n",
    "end\n",
    "\n",
    "for i in 1:length(dics)\n",
    "    dics[i][\"names\"] = dic1[\"names\"]\n",
    "end"
   ]
  },
  {
   "cell_type": "code",
   "execution_count": 4,
   "metadata": {},
   "outputs": [
    {
     "data": {
      "text/plain": [
       "nanErr! (generic function with 1 method)"
      ]
     },
     "execution_count": 4,
     "metadata": {},
     "output_type": "execute_result"
    }
   ],
   "source": [
    "function nanErr!(d)\n",
    "    for (key, value) in d\n",
    "        if occursin(\"err\", key)\n",
    "            for i in 1:length(value)\n",
    "                if isnan(value[i])\n",
    "                    d[key][i] = Inf\n",
    "                end\n",
    "            end\n",
    "        end\n",
    "    end\n",
    "end"
   ]
  },
  {
   "cell_type": "code",
   "execution_count": 5,
   "metadata": {},
   "outputs": [],
   "source": [
    "nanErr!.(dics);"
   ]
  },
  {
   "cell_type": "code",
   "execution_count": 6,
   "metadata": {},
   "outputs": [
    {
     "data": {
      "text/plain": [
       "ffe3 (generic function with 1 method)"
      ]
     },
     "execution_count": 6,
     "metadata": {},
     "output_type": "execute_result"
    }
   ],
   "source": [
    "using Printf\n",
    "\n",
    "function sd(d,x)\n",
    "    #scale = exp10(ceil(log10(abs(x)))-d)\n",
    "    #return round(x/scale)*scale\n",
    "    return round(x, sigdigits=3)\n",
    "end        \n",
    "ff(s) = (@sprintf \"%.4g\" sd(3,s))\n",
    "nf(s) = (@sprintf \"%d\" sd(3,s))\n",
    "ffK(s) = (@sprintf \"%.4g\" sd(3,s)/1000)\n",
    "nfK(s) =  round(Int64, sd(3,s)/1000)\n",
    "ffe8(s) = (@sprintf \"%.3g\" sd(3,s)*1e8)\n",
    "ffe6(s) = (@sprintf \"%.3g\" sd(3,s)*1e6)\n",
    "ffmicro(s) = (@sprintf \"%.4g\" sd(3,s)*1e6)\n",
    "ffe3(s) = (@sprintf \"%.3g\" sd(3,s)*1e3)"
   ]
  },
  {
   "cell_type": "code",
   "execution_count": 7,
   "metadata": {},
   "outputs": [
    {
     "data": {
      "text/plain": [
       "printMax (generic function with 1 method)"
      ]
     },
     "execution_count": 7,
     "metadata": {},
     "output_type": "execute_result"
    }
   ],
   "source": [
    "function labelTvn(tvn, err)\n",
    "    if err <= 1e-8\n",
    "        return ffe6(tvn)\n",
    "    elseif err < 1e-4\n",
    "        return string(ffe6(tvn), \"\\\\tnote{*}\")\n",
    "    elseif err < 1\n",
    "        return string(ffe6(tvn), \"\\\\tnote{**}\")\n",
    "    else\n",
    "        return \"Inf\"\n",
    "    end\n",
    "end\n",
    "\n",
    "function printMedian(d, solver)\n",
    "    if haskey(d, string(solver, \"_tot\")) && length(d[string(solver, \"_tot\")]) == length(d[\"ne\"])\n",
    "        tvn = median(d[string(solver, \"_tot\")] ./ d[\"ne\"] )\n",
    "        err = median(d[string(solver, \"_err\")])\n",
    "        return labelTvn(tvn, err)\n",
    "    else\n",
    "        return \"N/A\"\n",
    "    end\n",
    "end\n",
    "\n",
    "function print75(d, solver)\n",
    "    if haskey(d, string(solver, \"_tot\")) && length(d[string(solver, \"_tot\")]) == length(d[\"ne\"])\n",
    "        tvn = quantile(d[string(solver, \"_tot\")] ./ d[\"ne\"], 0.75)\n",
    "        err = quantile(d[string(solver, \"_err\")], 0.75)\n",
    "        return labelTvn(tvn, err)\n",
    "    else\n",
    "        return \"N/A\"\n",
    "    end\n",
    "end\n",
    "\n",
    "function printMax(d, solver)\n",
    "    if haskey(d, string(solver, \"_tot\")) && length(d[string(solver, \"_tot\")]) == length(d[\"ne\"])\n",
    "        tvn = maximum(d[string(solver, \"_tot\")] ./ d[\"ne\"])\n",
    "        err = maximum(d[string(solver, \"_err\")])\n",
    "        return labelTvn(tvn, err)\n",
    "    else\n",
    "        return \"N/A\"\n",
    "    end\n",
    "end"
   ]
  },
  {
   "cell_type": "code",
   "execution_count": 8,
   "metadata": {},
   "outputs": [
    {
     "data": {
      "text/plain": [
       "printAllLines (generic function with 1 method)"
      ]
     },
     "execution_count": 8,
     "metadata": {},
     "output_type": "execute_result"
    }
   ],
   "source": [
    "function printSolverCell(d, solver) \n",
    "    return string(printMedian(d, solver), \"&\", print75(d, solver), \"&\", printMax(d, solver))\n",
    "end\n",
    "\n",
    "function printOneLine(d, solvers, i)\n",
    "    allCells = [printSolverCell(d, solver) for solver in solvers]\n",
    "    println(string(ffK(d[\"ne\"][1]),\"&\", length(d[\"testName\"]), \"&\", join(allCells, \"&\"), \"\\\\\\\\\"))\n",
    "end\n",
    "\n",
    "function printAllLines(dics, solvers)\n",
    "    for i in 1:length(dics)\n",
    "        printOneLine(dics[i], solvers, i)\n",
    "    end\n",
    "end"
   ]
  },
  {
   "cell_type": "code",
   "execution_count": 9,
   "metadata": {},
   "outputs": [
    {
     "name": "stdout",
     "output_type": "stream",
     "text": [
      "1030&10&0.162&0.172&0.247&0.28&0.287&0.313&1.96&1.98&2.05\\\\\n",
      "8100&10&0.194&0.195&0.223&0.296&0.305&0.369&2&2.07&2.22\\\\\n",
      "2.72e+04&10&0.229&0.25&0.286&0.346&0.354&0.389&2.35&2.37&2.4\\\\\n",
      "6.44e+04&10&0.247&0.268&0.291&0.357&0.367&0.396&2.48&2.53&2.65\\\\\n",
      "1.26e+05&10&0.264&0.279&0.362&0.422&0.428&0.428&2.55&2.55&3.07\\\\\n",
      "2.17e+05&11&0.418&0.437&0.735&0.502&0.51&0.809&2.64&2.72&3.29\\\\\n"
     ]
    }
   ],
   "source": [
    "solvers=[\"ac\", \"ac-s2m2\", \"cmg2\"]\n",
    "printAllLines(dics, solvers)"
   ]
  },
  {
   "cell_type": "code",
   "execution_count": 10,
   "metadata": {},
   "outputs": [
    {
     "name": "stdout",
     "output_type": "stream",
     "text": [
      "1030&10&0.346&0.361&0.449&0.76&1.06&1.81\\tnote{*}&5.65&6.13&7.81\\\\\n",
      "8100&10&0.454&0.48&1.22&1.22&1.85&3.32\\tnote{*}&12&12.1&12.3\\\\\n",
      "2.72e+04&10&0.533&0.551&0.621&1.84&2.47&2.61&18.4&20.3&22.8\\tnote{*}\\\\\n",
      "6.44e+04&10&0.583&0.62&0.725&1.68&2.05&3.27&21\\tnote{*}&22.3\\tnote{*}&23.7\\tnote{*}\\\\\n",
      "1.26e+05&10&0.633&0.665&0.768&2.38&2.6&3.24&14.7&20.6&22.4\\tnote{*}\\\\\n",
      "2.17e+05&11&0.643&0.693&0.811&2.31&2.82&3.98&22.7\\tnote{*}&22.7\\tnote{*}&23\\tnote{*}\\\\\n"
     ]
    }
   ],
   "source": [
    "solvers = [\"hypre\", \"petsc_hypre\", \"icc2\"]\n",
    "printAllLines(dics, solvers)"
   ]
  }
 ],
 "metadata": {
  "kernelspec": {
   "display_name": "Julia 1.5.3",
   "language": "julia",
   "name": "julia-1.5"
  },
  "language_info": {
   "file_extension": ".jl",
   "mimetype": "application/julia",
   "name": "julia",
   "version": "1.5.3"
  }
 },
 "nbformat": 4,
 "nbformat_minor": 4
}
