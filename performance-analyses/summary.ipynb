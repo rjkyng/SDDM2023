{
 "cells": [
  {
   "cell_type": "code",
   "execution_count": null,
   "metadata": {},
   "outputs": [],
   "source": [
    "using JLD2\n",
    "using Statistics\n",
    "using Printf\n",
    "using Laplacians\n",
    "using SparseArrays\n",
    "using LinearAlgebra"
   ]
  },
  {
   "attachments": {},
   "cell_type": "markdown",
   "metadata": {},
   "source": [
    "## This notebook outputs the summary tables"
   ]
  },
  {
   "cell_type": "code",
   "execution_count": null,
   "metadata": {},
   "outputs": [],
   "source": [
    "function combine(a, b)\n",
    "    return [a; b]\n",
    "end"
   ]
  },
  {
   "attachments": {},
   "cell_type": "markdown",
   "metadata": {},
   "source": [
    "function extractSlice(dic, slice)\n",
    "    dicSlice = Dict()\n",
    "    numepxr = length(dic[\"ne\"])\n",
    "    for (key, value) in dic\n",
    "        if length(value) == numepxr\n",
    "            dicSlice[key] = value[slice]\n",
    "        else\n",
    "            dicSlice[key] = value\n",
    "        end\n",
    "    end\n",
    "    return dicSlice\n",
    "end"
   ]
  },
  {
   "cell_type": "code",
   "execution_count": null,
   "metadata": {},
   "outputs": [],
   "source": [
    "# SuiteSparse \n",
    "@load \"suitesparse_all.jl.split02merge02.jld2\"\n",
    "dic_suitesparse = copy(dic);\n"
   ]
  },
  {
   "cell_type": "code",
   "execution_count": null,
   "metadata": {},
   "outputs": [],
   "source": [
    "function hasZeroDiag(M::SparseMatrixCSC{Tv, Ti}) where {Tv, Ti}\n",
    "    for i in 1:size(M,1)\n",
    "        if M[i,i] == zero(Tv)\n",
    "            return true\n",
    "        end\n",
    "    end\n",
    "    return false\n",
    "end\n",
    "\n",
    "function hasZeroDiag(name::String)\n",
    "    M = downloadSS(name)\n",
    "    return hasZeroDiag(M)\n",
    "end"
   ]
  },
  {
   "cell_type": "code",
   "execution_count": null,
   "metadata": {},
   "outputs": [],
   "source": [
    "function extractSlice(dic, slice)\n",
    "    dicSlice = Dict()\n",
    "    numepxr = length(dic[\"ne\"])\n",
    "    for (key, value) in dic\n",
    "        if length(value) == numepxr\n",
    "            dicSlice[key] = value[slice]\n",
    "        else\n",
    "            dicSlice[key] = value\n",
    "        end\n",
    "    end\n",
    "    return dicSlice\n",
    "end"
   ]
  },
  {
   "cell_type": "code",
   "execution_count": null,
   "metadata": {},
   "outputs": [],
   "source": [
    "sizeSlice = findall(dic_suitesparse[\"ne\"] .> 1000)\n",
    "dic_suitesparse = extractSlice(dic_suitesparse, sizeSlice);"
   ]
  },
  {
   "cell_type": "code",
   "execution_count": null,
   "metadata": {},
   "outputs": [],
   "source": [
    "include(\"../julia-files/downloadSS.jl\")\n",
    "zeroDiagSlice = findall(hasZeroDiag, dic_suitesparse[\"testName\"]);\n",
    "noZeroDiagSlice = setdiff(1:length(sizeSlice), zeroDiagSlice);"
   ]
  },
  {
   "cell_type": "code",
   "execution_count": null,
   "metadata": {},
   "outputs": [],
   "source": [
    "dic_suitesparse = extractSlice(dic_suitesparse, noZeroDiagSlice);"
   ]
  },
  {
   "cell_type": "code",
   "execution_count": null,
   "metadata": {},
   "outputs": [],
   "source": [
    "# unweighted chimera\n",
    "@load \"uni_chimera_all.jl.split02merge02.n10000.h1.0.jld2\"\n",
    "dic_uniChimera = copy(dic);\n",
    "@load \"uni_chimera_all.jl.split02merge02.n100000.h2.0.jld2\"\n",
    "dic_uniChimera = merge(combine, dic_uniChimera, dic);\n",
    "@load \"uni_chimera_all.jl.split02merge02.n1000000.h4.0.jld2\"\n",
    "dic_uniChimera = merge(combine, dic_uniChimera, dic);\n",
    "@load \"uni_chimera_all.jl.split02merge02.n10000000.h8.0.jld2\"\n",
    "dic_uniChimera = merge(combine, dic_uniChimera, dic);"
   ]
  },
  {
   "cell_type": "code",
   "execution_count": null,
   "metadata": {},
   "outputs": [],
   "source": [
    "# weighted chimera\n",
    "@load \"wted_chimera_nopetsc.jl.split02merge02.n10000.h1.0.jld2\"\n",
    "dic_wtedChimera = copy(dic);\n",
    "@load \"wted_chimera_nopetsc.jl.split02merge02.n100000.h2.0.jld2\"\n",
    "dic_wtedChimera = merge(combine, dic_wtedChimera, dic);\n",
    "@load \"wted_chimera_nopetsc.jl.split02merge02.n1000000.h4.0.jld2\"\n",
    "dic_wtedChimera = merge(combine, dic_wtedChimera, dic);\n",
    "@load \"wted_chimera_nopetsc.jl.split02merge02.n10000000.h8.0.jld2\"\n",
    "dic_wtedChimera = merge(combine, dic_wtedChimera, dic);"
   ]
  },
  {
   "cell_type": "code",
   "execution_count": null,
   "metadata": {},
   "outputs": [],
   "source": [
    "# unweighted boundary chimera\n",
    "@load \"uni_bndry_chimera_all.jl.split02merge02.n10000.h1.0.jld2\"\n",
    "dic_uniBndryChimera = copy(dic);\n",
    "@load \"uni_bndry_chimera_all.jl.split02merge02.n100000.h2.0.jld2\"\n",
    "dic_uniBndryChimera = merge(combine, dic_uniBndryChimera, dic);\n",
    "@load \"uni_bndry_chimera_all.jl.split02merge02.n1000000.h4.0.jld2\"\n",
    "dic_uniBndryChimera = merge(combine, dic_uniBndryChimera, dic);\n",
    "@load \"uni_bndry_chimera_all.jl.split02merge02.n10000000.h8.0.jld2\"\n",
    "dic_uniBndryChimera = merge(combine, dic_uniBndryChimera, dic);"
   ]
  },
  {
   "cell_type": "code",
   "execution_count": null,
   "metadata": {},
   "outputs": [],
   "source": [
    "# weighted boundary chimera\n",
    "@load \"wted_bndry_chimera_nopetsc.jl.split02merge02.n10000.h1.0.jld2\"\n",
    "dic_wtedBndryChimera = copy(dic)\n",
    "@load \"wted_bndry_chimera_nopetsc.jl.split02merge02.n100000.h2.0.jld2\"\n",
    "dic_wtedBndryChimera = merge(combine, dic_wtedBndryChimera, dic);\n",
    "@load \"wted_bndry_chimera_nopetsc.jl.split02merge02.n1000000.h4.0.jld2\"\n",
    "dic_wtedBndryChimera = merge(combine, dic_wtedBndryChimera, dic);\n",
    "@load \"wted_bndry_chimera_nopetsc.jl.split02merge02.n10000000.h8.0.jld2\"\n",
    "dic_wtedBndryChimera = merge(combine, dic_wtedBndryChimera, dic);"
   ]
  },
  {
   "cell_type": "code",
   "execution_count": null,
   "metadata": {},
   "outputs": [],
   "source": [
    "dic_chimera = copy(dic_uniChimera);\n",
    "dic_chimera = merge(combine, dic_chimera, dic_wtedChimera);\n",
    "dic_chimera = merge(combine, dic_chimera, dic_uniBndryChimera);\n",
    "dic_chimera = merge(combine, dic_chimera, dic_wtedBndryChimera);"
   ]
  },
  {
   "cell_type": "code",
   "execution_count": null,
   "metadata": {},
   "outputs": [],
   "source": [
    "# max flow \n",
    "@load \"chimeraIPM_nopetsc.jl.split02merge02.jld2\"\n",
    "dic_maxFlow = copy(dic);\n",
    "@load \"spielmanIPM_all.jl.split02merge02.jld2\"\n",
    "dic_maxFlow = merge(combine, dic_maxFlow, dic);"
   ]
  },
  {
   "cell_type": "code",
   "execution_count": null,
   "metadata": {},
   "outputs": [],
   "source": [
    "# Sachdeva star \n",
    "@load \"sachdeva_star_all.jl.split02merge02.jld2\"\n",
    "dic_sachdevaStar = copy(dic);"
   ]
  },
  {
   "cell_type": "code",
   "execution_count": null,
   "metadata": {},
   "outputs": [],
   "source": [
    "# SPE \n",
    "@load \"spe_all.jl.split02merge02.jld2\"\n",
    "dic_spe = copy(dic);"
   ]
  },
  {
   "cell_type": "code",
   "execution_count": null,
   "metadata": {},
   "outputs": [],
   "source": [
    "# uniform grid\n",
    "@load \"uniform_grid_all.jl.split02merge02.jld2\"\n",
    "dic_uniGrid = copy(dic);"
   ]
  },
  {
   "cell_type": "code",
   "execution_count": null,
   "metadata": {},
   "outputs": [],
   "source": [
    "# checkered grid (high contrast grid)\n",
    "@load \"checkered_all.jl.split02merge02.jld2\"\n",
    "dic_checkeredGrid = copy(dic);"
   ]
  },
  {
   "cell_type": "code",
   "execution_count": null,
   "metadata": {},
   "outputs": [],
   "source": [
    "# aniso grid \n",
    "@load \"aniso_all.jl.split02merge02.jld2\"\n",
    "dic_anisoGrid = copy(dic);"
   ]
  },
  {
   "cell_type": "code",
   "execution_count": null,
   "metadata": {},
   "outputs": [],
   "source": [
    "# weighted grid \n",
    "@load \"wgrid_all.jl.split02merge02.jld2\"\n",
    "dic_wtedGrid = copy(dic);"
   ]
  },
  {
   "cell_type": "code",
   "execution_count": null,
   "metadata": {},
   "outputs": [],
   "source": [
    "dic_grid = copy(dic_uniGrid);\n",
    "dic_grid = merge(combine, dic_grid, dic_checkeredGrid);\n",
    "dic_grid = merge(combine, dic_grid, dic_anisoGrid);\n",
    "dic_grid = merge(combine, dic_grid, dic_wtedGrid);"
   ]
  },
  {
   "attachments": {},
   "cell_type": "markdown",
   "metadata": {},
   "source": [
    "### done"
   ]
  },
  {
   "cell_type": "code",
   "execution_count": null,
   "metadata": {},
   "outputs": [],
   "source": [
    "# dicAll = [dic_suitesparse, dic_uniChimera, dic_wtedChimera, dic_uniBndryChimera, dic_wtedBndryChimera, dic_maxFlow, dic_sachdevaStar, dic_spe, dic_uniGrid, dic_checkeredGrid,dic_anisoGrid,dic_wtedGrid]\n",
    "dicAll = [dic_suitesparse, dic_spe, dic_grid, dic_chimera, dic_sachdevaStar]"
   ]
  },
  {
   "cell_type": "code",
   "execution_count": null,
   "metadata": {},
   "outputs": [],
   "source": [
    "# instanceNames = [\"SuiteSparse Matrix Collection\",  \"Unweighted Chimeras\", \"Weighted Chimeras\", \"Unweighted SDDM Chimeras\", \"Weighted SDDM Chimeras\", \"Maximum flow IPMs\", \"Sachdeva stars\", \"SPE benchmark\", \"Uniform coefficient Poisson grid\", \"High contrast coefficient Poisson grid\", \"Anisotropic coef. Poisson grid, variable discretization\", \"Anisotropic coef. Poisson grid, variable weight\"];\n",
    "instanceNames = [\"SuiteSparse Matrix Collection\", \"SPE benchmark\", \"Poisson grid problems\", \"Chimeras\", \"Sachdeva stars\"]"
   ]
  },
  {
   "cell_type": "code",
   "execution_count": null,
   "metadata": {},
   "outputs": [],
   "source": [
    "function sd(d,x)\n",
    "    #scale = exp10(ceil(log10(abs(x)))-d)\n",
    "    #return round(x/scale)*scale\n",
    "    return round(x, sigdigits=3)\n",
    "end        \n",
    "ff(s) = (@sprintf \"%.4g\" sd(3,s))\n",
    "nf(s) = (@sprintf \"%d\" sd(3,s))\n",
    "ffK(s) = (@sprintf \"%.4g\" sd(3,s)/1000)\n",
    "nfK(s) =  round(Int64, sd(3,s)/1000)\n",
    "ffe8(s) = (@sprintf \"%.3g\" sd(3,s)*1e8)\n",
    "ffe6(s) = (@sprintf \"%.4g\" sd(3,s)*1e6)"
   ]
  },
  {
   "cell_type": "code",
   "execution_count": null,
   "metadata": {},
   "outputs": [],
   "source": [
    "solvers=[\"ac\", \"ac-s2m2\", \"cmg2\", \"hypre\", \"petsc_hypre\",  \"icc2\"];"
   ]
  },
  {
   "cell_type": "code",
   "execution_count": null,
   "metadata": {},
   "outputs": [],
   "source": [
    "function get_tvn_max(d, solvers)\n",
    "    \n",
    "    results_array = []\n",
    "    for solver in solvers \n",
    "        if haskey(d, string(solver, \"_tot\")) && length(d[string(solver, \"_tot\")]) == length(d[\"ne\"])\n",
    "            cur_err = maximum(d[string(solver, \"_err\")])\n",
    "            tvn = maximum((d[string(solver, \"_tot\")] ./ d[\"ne\"]))\n",
    "            if cur_err <= 1e-8\n",
    "                push!(results_array, (solver, ffe6(tvn)))\n",
    "            elseif cur_err < 1e-4\n",
    "                push!(results_array, (solver, string(ffe6(tvn), \"\\\\tnote{*}\")))\n",
    "            elseif cur_err < 1\n",
    "                push!(results_array, (solver, string(ffe6(tvn), \"\\\\tnote{**}\")))\n",
    "            else\n",
    "                push!(results_array, (solver, \"Inf\"))\n",
    "            end\n",
    "        else\n",
    "            push!(results_array, (solver, \"N/A\"))\n",
    "        end\n",
    "    end\n",
    "\n",
    "    results = Dict(results_array)\n",
    "    return results\n",
    "end"
   ]
  },
  {
   "cell_type": "code",
   "execution_count": null,
   "metadata": {},
   "outputs": [],
   "source": [
    "for (index, d) in enumerate(dicAll)\n",
    "    max_tvns = get_tvn_max(d, solvers)\n",
    "    line = string(\"{\", instanceNames[index], \"}&\", join([max_tvns[solver] for solver in solvers], \"&\"), \"\\\\\\\\\")\n",
    "    println(line)\n",
    "end"
   ]
  },
  {
   "cell_type": "markdown",
   "metadata": {},
   "source": [
    "## CMG problems"
   ]
  },
  {
   "cell_type": "code",
   "execution_count": null,
   "metadata": {},
   "outputs": [],
   "source": [
    "cmg_failures = []\n",
    "for (index, d) in enumerate(dicAll)\n",
    "    for i in 1:length(d[\"testName\"])\n",
    "        if d[\"cmg_err\"][i] == 1.0 || d[\"cmg_err\"][i] == Inf\n",
    "            push!(cmg_failures, d[\"testName\"][i])\n",
    "        end\n",
    "    end\n",
    "end\n"
   ]
  },
  {
   "cell_type": "code",
   "execution_count": null,
   "metadata": {},
   "outputs": [],
   "source": [
    "cmg_failures"
   ]
  },
  {
   "cell_type": "code",
   "execution_count": null,
   "metadata": {},
   "outputs": [],
   "source": [
    "cmg2_failures = []\n",
    "for (index, d) in enumerate(dicAll)\n",
    "    for i in 1:length(d[\"testName\"])\n",
    "        if d[\"cmg2_err\"][i] == 1.0 || d[\"cmg2_err\"][i] == Inf\n",
    "            push!(cmg2_failures, d[\"testName\"][i])\n",
    "        end\n",
    "    end\n",
    "end"
   ]
  },
  {
   "cell_type": "code",
   "execution_count": null,
   "metadata": {},
   "outputs": [],
   "source": [
    "cmg2_failures"
   ]
  },
  {
   "cell_type": "markdown",
   "metadata": {},
   "source": [
    "## ICC Failure"
   ]
  },
  {
   "cell_type": "code",
   "execution_count": null,
   "metadata": {},
   "outputs": [],
   "source": [
    "icc_failures = []\n",
    "for (index, d) in enumerate(dicAll)\n",
    "    for i in 1:length(d[\"testName\"])\n",
    "        if d[\"icc_err\"][i] == 1.0 || d[\"icc_err\"][i] == Inf\n",
    "            push!(icc_failures, d[\"testName\"][i])\n",
    "        end\n",
    "    end\n",
    "end\n"
   ]
  },
  {
   "cell_type": "code",
   "execution_count": null,
   "metadata": {},
   "outputs": [],
   "source": [
    "icc_failures"
   ]
  },
  {
   "cell_type": "code",
   "execution_count": null,
   "metadata": {},
   "outputs": [],
   "source": [
    "icc2_failures = []\n",
    "for (index, d) in enumerate(dicAll)\n",
    "    for i in 1:length(d[\"testName\"])\n",
    "        # if d[\"icc2_err\"][i] == 1.0 || d[\"icc2_err\"][i] == Inf\n",
    "        if d[\"icc2_err\"][i] > 1e-8\n",
    "            push!(icc2_failures, d[\"testName\"][i])\n",
    "        end\n",
    "    end\n",
    "end\n"
   ]
  },
  {
   "cell_type": "code",
   "execution_count": null,
   "metadata": {},
   "outputs": [],
   "source": [
    "icc2_failures"
   ]
  },
  {
   "cell_type": "code",
   "execution_count": null,
   "metadata": {},
   "outputs": [],
   "source": [
    "M = uni_bndry_chimera(100000,35);\n",
    "b = randn(size(M,1))\n",
    "b = M * b\n",
    "b = b ./ norm(b);\n"
   ]
  },
  {
   "cell_type": "code",
   "execution_count": null,
   "metadata": {},
   "outputs": [],
   "source": [
    "include(\"../julia-files/matlabSafe.jl\")"
   ]
  },
  {
   "cell_type": "code",
   "execution_count": null,
   "metadata": {},
   "outputs": [],
   "source": [
    "timeLimitIcc(Inf, M, b)"
   ]
  },
  {
   "cell_type": "code",
   "execution_count": null,
   "metadata": {},
   "outputs": [],
   "source": [
    "for d in dicAll\n",
    "    if maximum(d[\"icc2_err\"]) > 1e-8\n",
    "        println(\"Found a failure\")\n",
    "        @show d[\"testName\"][argmax(d[\"icc2_err\"])]\n",
    "        @show maximum(d[\"icc2_err\"])\n",
    "    end\n",
    "end"
   ]
  },
  {
   "cell_type": "code",
   "execution_count": null,
   "metadata": {},
   "outputs": [],
   "source": [
    "a = uni_chimera(10000000,7)\n",
    "c = components(a)\n",
    "@show length(unique(c))"
   ]
  },
  {
   "cell_type": "code",
   "execution_count": null,
   "metadata": {},
   "outputs": [],
   "source": [
    "include(\"../julia-files/downloadSS.jl\")\n",
    "include(\"../julia-files/isLap.jl\")\n",
    "include(\"../julia-files/compareSolvers.jl\")\n",
    "include(\"../julia-files/matlabSafe.jl\")"
   ]
  },
  {
   "cell_type": "code",
   "execution_count": null,
   "metadata": {},
   "outputs": [],
   "source": [
    "M = downloadSS(\"McRae/ecology1\")\n",
    "a, _ = adj(M)\n",
    "c = components(a)\n",
    "@show length(unique(c))\n",
    "\n",
    "b = randn(size(M,1))\n",
    "b = M * b\n",
    "b = b ./ norm(b);"
   ]
  },
  {
   "cell_type": "code",
   "execution_count": null,
   "metadata": {},
   "outputs": [],
   "source": [
    "isLap(M)"
   ]
  },
  {
   "cell_type": "code",
   "execution_count": null,
   "metadata": {},
   "outputs": [],
   "source": [
    "# timeLimitIcc(Inf, M, b)\n",
    "timeLimitIccLap(Inf, M, b)"
   ]
  },
  {
   "cell_type": "code",
   "execution_count": null,
   "metadata": {},
   "outputs": [],
   "source": [
    "dic_test = Dict()\n",
    "\n",
    "testLap([], dic_test, M, b; test_icc=true)"
   ]
  },
  {
   "cell_type": "code",
   "execution_count": null,
   "metadata": {},
   "outputs": [],
   "source": []
  }
 ],
 "metadata": {
  "kernelspec": {
   "display_name": "Julia 1.10.2",
   "language": "julia",
   "name": "julia-1.10"
  },
  "language_info": {
   "file_extension": ".jl",
   "mimetype": "application/julia",
   "name": "julia",
   "version": "1.10.2"
  }
 },
 "nbformat": 4,
 "nbformat_minor": 2
}
