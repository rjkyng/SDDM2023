{
 "cells": [
  {
   "cell_type": "code",
   "execution_count": 1,
   "metadata": {},
   "outputs": [],
   "source": [
    "using JLD2\n",
    "using Statistics\n",
    "using Printf\n",
    "using Laplacians\n",
    "using SparseArrays\n",
    "using LinearAlgebra"
   ]
  },
  {
   "attachments": {},
   "cell_type": "markdown",
   "metadata": {},
   "source": [
    "## This notebook outputs the summary tables"
   ]
  },
  {
   "cell_type": "code",
   "execution_count": 2,
   "metadata": {},
   "outputs": [
    {
     "data": {
      "text/plain": [
       "combine (generic function with 1 method)"
      ]
     },
     "execution_count": 2,
     "metadata": {},
     "output_type": "execute_result"
    }
   ],
   "source": [
    "function combine(a, b)\n",
    "    return [a; b]\n",
    "end"
   ]
  },
  {
   "attachments": {},
   "cell_type": "markdown",
   "metadata": {},
   "source": [
    "function extractSlice(dic, slice)\n",
    "    dicSlice = Dict()\n",
    "    numepxr = length(dic[\"ne\"])\n",
    "    for (key, value) in dic\n",
    "        if length(value) == numepxr\n",
    "            dicSlice[key] = value[slice]\n",
    "        else\n",
    "            dicSlice[key] = value\n",
    "        end\n",
    "    end\n",
    "    return dicSlice\n",
    "end"
   ]
  },
  {
   "cell_type": "code",
   "execution_count": 3,
   "metadata": {},
   "outputs": [],
   "source": [
    "# SuiteSparse \n",
    "@load \"suitesparse_all.jl.split02merge02.jld2\"\n",
    "dic_suitesparse = copy(dic);\n"
   ]
  },
  {
   "cell_type": "code",
   "execution_count": 4,
   "metadata": {},
   "outputs": [
    {
     "data": {
      "text/plain": [
       "hasZeroDiag (generic function with 2 methods)"
      ]
     },
     "execution_count": 4,
     "metadata": {},
     "output_type": "execute_result"
    }
   ],
   "source": [
    "function hasZeroDiag(M::SparseMatrixCSC{Tv, Ti}) where {Tv, Ti}\n",
    "    for i in 1:size(M,1)\n",
    "        if M[i,i] == zero(Tv)\n",
    "            return true\n",
    "        end\n",
    "    end\n",
    "    return false\n",
    "end\n",
    "\n",
    "function hasZeroDiag(name::String)\n",
    "    M = downloadSS(name)\n",
    "    return hasZeroDiag(M)\n",
    "end"
   ]
  },
  {
   "cell_type": "code",
   "execution_count": 5,
   "metadata": {},
   "outputs": [
    {
     "data": {
      "text/plain": [
       "extractSlice (generic function with 1 method)"
      ]
     },
     "execution_count": 5,
     "metadata": {},
     "output_type": "execute_result"
    }
   ],
   "source": [
    "function extractSlice(dic, slice)\n",
    "    dicSlice = Dict()\n",
    "    numepxr = length(dic[\"ne\"])\n",
    "    for (key, value) in dic\n",
    "        if length(value) == numepxr\n",
    "            dicSlice[key] = value[slice]\n",
    "        else\n",
    "            dicSlice[key] = value\n",
    "        end\n",
    "    end\n",
    "    return dicSlice\n",
    "end"
   ]
  },
  {
   "cell_type": "code",
   "execution_count": 6,
   "metadata": {},
   "outputs": [],
   "source": [
    "sizeSlice = findall(dic_suitesparse[\"ne\"] .> 1000)\n",
    "dic_suitesparse = extractSlice(dic_suitesparse, sizeSlice);"
   ]
  },
  {
   "cell_type": "code",
   "execution_count": 7,
   "metadata": {},
   "outputs": [
    {
     "name": "stderr",
     "output_type": "stream",
     "text": [
      "WARNING: using Downloads.download in module Main conflicts with an existing identifier.\n"
     ]
    }
   ],
   "source": [
    "include(\"../julia-files/downloadSS.jl\")\n",
    "zeroDiagSlice = findall(hasZeroDiag, dic_suitesparse[\"testName\"]);\n",
    "noZeroDiagSlice = setdiff(1:length(sizeSlice), zeroDiagSlice);"
   ]
  },
  {
   "cell_type": "code",
   "execution_count": 8,
   "metadata": {},
   "outputs": [],
   "source": [
    "dic_suitesparse = extractSlice(dic_suitesparse, noZeroDiagSlice);"
   ]
  },
  {
   "cell_type": "code",
   "execution_count": 9,
   "metadata": {},
   "outputs": [],
   "source": [
    "# unweighted chimera\n",
    "@load \"uni_chimera_all.jl.split02merge02.n10000.h1.0.jld2\"\n",
    "dic_uniChimera = copy(dic);\n",
    "@load \"uni_chimera_all.jl.split02merge02.n100000.h2.0.jld2\"\n",
    "dic_uniChimera = merge(combine, dic_uniChimera, dic);\n",
    "@load \"uni_chimera_all.jl.split02merge02.n1000000.h4.0.jld2\"\n",
    "dic_uniChimera = merge(combine, dic_uniChimera, dic);\n",
    "@load \"uni_chimera_all.jl.split02merge02.n10000000.h8.0.jld2\"\n",
    "dic_uniChimera = merge(combine, dic_uniChimera, dic);"
   ]
  },
  {
   "cell_type": "code",
   "execution_count": 10,
   "metadata": {},
   "outputs": [],
   "source": [
    "# weighted chimera\n",
    "@load \"wted_chimera_nopetsc.jl.split02merge02.n10000.h1.0.jld2\"\n",
    "dic_wtedChimera = copy(dic);\n",
    "@load \"wted_chimera_nopetsc.jl.split02merge02.n100000.h2.0.jld2\"\n",
    "dic_wtedChimera = merge(combine, dic_wtedChimera, dic);\n",
    "@load \"wted_chimera_nopetsc.jl.split02merge02.n1000000.h4.0.jld2\"\n",
    "dic_wtedChimera = merge(combine, dic_wtedChimera, dic);\n",
    "@load \"wted_chimera_nopetsc.jl.split02merge02.n10000000.h8.0.jld2\"\n",
    "dic_wtedChimera = merge(combine, dic_wtedChimera, dic);"
   ]
  },
  {
   "cell_type": "code",
   "execution_count": 11,
   "metadata": {},
   "outputs": [],
   "source": [
    "# unweighted boundary chimera\n",
    "@load \"uni_bndry_chimera_all.jl.split02merge02.n10000.h1.0.jld2\"\n",
    "dic_uniBndryChimera = copy(dic);\n",
    "@load \"uni_bndry_chimera_all.jl.split02merge02.n100000.h2.0.jld2\"\n",
    "dic_uniBndryChimera = merge(combine, dic_uniBndryChimera, dic);\n",
    "@load \"uni_bndry_chimera_all.jl.split02merge02.n1000000.h4.0.jld2\"\n",
    "dic_uniBndryChimera = merge(combine, dic_uniBndryChimera, dic);\n",
    "@load \"uni_bndry_chimera_all.jl.split02merge02.n10000000.h8.0.jld2\"\n",
    "dic_uniBndryChimera = merge(combine, dic_uniBndryChimera, dic);"
   ]
  },
  {
   "cell_type": "code",
   "execution_count": 12,
   "metadata": {},
   "outputs": [],
   "source": [
    "# weighted boundary chimera\n",
    "@load \"wted_bndry_chimera_nopetsc.jl.split02merge02.n10000.h1.0.jld2\"\n",
    "dic_wtedBndryChimera = copy(dic)\n",
    "@load \"wted_bndry_chimera_nopetsc.jl.split02merge02.n100000.h2.0.jld2\"\n",
    "dic_wtedBndryChimera = merge(combine, dic_wtedBndryChimera, dic);\n",
    "@load \"wted_bndry_chimera_nopetsc.jl.split02merge02.n1000000.h4.0.jld2\"\n",
    "dic_wtedBndryChimera = merge(combine, dic_wtedBndryChimera, dic);\n",
    "@load \"wted_bndry_chimera_nopetsc.jl.split02merge02.n10000000.h8.0.jld2\"\n",
    "dic_wtedBndryChimera = merge(combine, dic_wtedBndryChimera, dic);"
   ]
  },
  {
   "cell_type": "code",
   "execution_count": 13,
   "metadata": {},
   "outputs": [],
   "source": [
    "dic_chimera = copy(dic_uniChimera);\n",
    "dic_chimera = merge(combine, dic_chimera, dic_wtedChimera);\n",
    "dic_chimera = merge(combine, dic_chimera, dic_uniBndryChimera);\n",
    "dic_chimera = merge(combine, dic_chimera, dic_wtedBndryChimera);"
   ]
  },
  {
   "cell_type": "code",
   "execution_count": 14,
   "metadata": {},
   "outputs": [],
   "source": [
    "# max flow \n",
    "@load \"chimeraIPM_nopetsc.jl.split02merge02.jld2\"\n",
    "dic_maxFlow = copy(dic);\n",
    "@load \"spielmanIPM_all.jl.split02merge02.jld2\"\n",
    "dic_maxFlow = merge(combine, dic_maxFlow, dic);"
   ]
  },
  {
   "cell_type": "code",
   "execution_count": 15,
   "metadata": {},
   "outputs": [],
   "source": [
    "# Sachdeva star \n",
    "@load \"sachdeva_star_all.jl.split02merge02.jld2\"\n",
    "dic_sachdevaStar = copy(dic);"
   ]
  },
  {
   "cell_type": "code",
   "execution_count": 16,
   "metadata": {},
   "outputs": [],
   "source": [
    "# SPE \n",
    "@load \"spe_all.jl.split02merge02.jld2\"\n",
    "dic_spe = copy(dic);"
   ]
  },
  {
   "cell_type": "code",
   "execution_count": 17,
   "metadata": {},
   "outputs": [],
   "source": [
    "# uniform grid\n",
    "@load \"uniform_grid_all.jl.split02merge02.jld2\"\n",
    "dic_uniGrid = copy(dic);"
   ]
  },
  {
   "cell_type": "code",
   "execution_count": 18,
   "metadata": {},
   "outputs": [],
   "source": [
    "# checkered grid (high contrast grid)\n",
    "@load \"checkered_all.jl.split02merge02.jld2\"\n",
    "dic_checkeredGrid = copy(dic);"
   ]
  },
  {
   "cell_type": "code",
   "execution_count": 19,
   "metadata": {},
   "outputs": [],
   "source": [
    "# aniso grid \n",
    "@load \"aniso_all.jl.split02merge02.jld2\"\n",
    "dic_anisoGrid = copy(dic);"
   ]
  },
  {
   "cell_type": "code",
   "execution_count": 20,
   "metadata": {},
   "outputs": [],
   "source": [
    "# weighted grid \n",
    "@load \"wgrid_all.jl.split02merge02.jld2\"\n",
    "dic_wtedGrid = copy(dic);"
   ]
  },
  {
   "cell_type": "code",
   "execution_count": 21,
   "metadata": {},
   "outputs": [],
   "source": [
    "dic_grid = copy(dic_uniGrid);\n",
    "dic_grid = merge(combine, dic_grid, dic_checkeredGrid);\n",
    "dic_grid = merge(combine, dic_grid, dic_anisoGrid);\n",
    "dic_grid = merge(combine, dic_grid, dic_wtedGrid);"
   ]
  },
  {
   "attachments": {},
   "cell_type": "markdown",
   "metadata": {},
   "source": [
    "### done"
   ]
  },
  {
   "cell_type": "code",
   "execution_count": 31,
   "metadata": {},
   "outputs": [
    {
     "data": {
      "text/plain": [
       "5-element Vector{Dict{Any, Any}}:\n",
       " Dict(\"acM2C2_err\" => [3.2982371685298304e-9, 6.348186189107466e-9, 2.7873143159556726e-15, 4.87683398093098e-9, 5.985058421275326e-9, 8.803790029556267e-9, 1.9287984468639396e-16, 1.4949753227936238e-15, 1.4802743372104384e-15, 2.6437327820944332e-9  …  3.1970041164591543e-9, 5.579236545376999e-9, 5.932099317095519e-16, 3.4828607954007058e-9, 5.810373233705067e-9, 4.392074968504867e-9, 2.1978023095678265e-16, 5.355500047190546e-9, 4.5564439954315e-9, 8.840361962792183e-9], \"hypre_solve\" => [0.05999999, 0.03, 0.0, 0.0, 0.03, 0.009999998, 0.0, 0.0, 0.0, 0.0  …  0.12, 0.03, 0.0, 0.04, 0.0, 0.07, 0.0, 1.07, 0.009999998, 0.14], \"acM2C2_solve\" => [0.0757741928100586, 0.0490109920501709, 0.00023412704467773438, 0.013978004455566406, 0.049938201904296875, 0.001210927963256836, 0.00023603439331054688, 0.00023603439331054688, 0.00023794174194335938, 0.00981903076171875  …  0.18432283401489258, 0.038838863372802734, 0.0002639293670654297, 0.050592899322509766, 0.0010008811950683594, 0.11688399314880371, 0.00014901161193847656, 2.8822739124298096, 0.001249074935913086, 2.743001937866211], \"icc2_tot\" => [80.07283799999999, 0.353317, 0.543135, 1.3655139999999988, 0.270139, 0.5877669999999999, 0.26860799999999996, 0.203938, 1.3566399999999772, 1.5586429999999722  …  0.23863299999999998, 9.396772999999822, 0.608184, 1.068163, 0.36669700000000005, 1.801329999999977, 0.405236, 0.2104, 0.852419, 0.846405000000005], \"acM2C2_tot\" => [0.23914718627929688, 0.13515806198120117, 0.001524209976196289, 0.04400920867919922, 0.14427518844604492, 0.0036859512329101562, 0.0014691352844238281, 0.0017039775848388672, 0.0018398761749267578, 0.03786897659301758  …  1.0521597862243652, 0.13144373893737793, 0.0019550323486328125, 0.1719679832458496, 0.0021677017211914062, 0.4324309825897217, 0.000946044921875, 6.289423942565918, 0.003175020217895508, 5.52471399307251], \"petsc_hypre_build\" => [0.127914, 0.0685195, 0.00771827, 0.0251466, 0.0687782, 0.00854602, 0.00512939, 0.00301863, 0.00474439, 0.0348921  …  7.41074, 0.0727786, 0.00324447, 0.101171, 0.00313183, 0.339203, 0.00348663, 1.96921, 0.00774138, 1.96415], \"lamg_its\" => [7.0, 9.0, 1.0, 10.0, 9.0, 9.0, 1.0, 1.0, 1.0, 7.0  …  7.0, 13.0, 1.0, 12.0, 9.0, 13.0, 1.0, 15.0, 6.0, 12.0], \"ac_tot\" => [0.15415287017822266, 0.09579896926879883, 0.0013780593872070312, 0.03005385398864746, 0.09826803207397461, 0.0025451183319091797, 0.0013840198516845703, 0.001444101333618164, 0.0014450550079345703, 0.025597810745239258  …  0.5497901439666748, 0.08509492874145508, 0.0016858577728271484, 0.12622976303100586, 0.0015227794647216797, 0.2982170581817627, 0.0007650852203369141, 4.424483060836792, 0.0021991729736328125, 4.967811822891235], \"icc2_solve\" => [79.032159, 0.215477, 0.206906, 0.5870110000000061, 0.152767, 0.21402500000000002, 0.127552, 0.09035, 0.5806199999999846, 0.6748789999999891  …  0.143736, 3.884008999999785, 0.46518, 0.826668, 0.210632, 0.7551499999999878, 0.192791, 0.112913, 0.657143, 0.3443039999999992], \"acM2C2_lst_tot\" => [0.27599668502807617, 0.1651449203491211, 0.0026400089263916016, 0.05526018142700195, 0.16414284706115723, 0.004625082015991211, 0.0021309852600097656, 0.0023920536041259766, 0.002215147018432617, 0.04028916358947754  …  1.2983899116516113, 0.17173504829406738, 0.0027942657470703125, 0.22195219993591309, 0.001967906951904297, 0.5229110717773438, 0.0011692047119140625, 8.784661769866943, 0.0033130645751953125, 8.771974086761475]…)\n",
       " Dict(\"lamg_build\" => [4.362215, 23.288922, 46.203164, 92.576288, 184.173927], \"acM2C2_err\" => [5.65862938675605e-9, 2.8071676216663455e-9, 3.636306942132224e-9, 2.7665156264571836e-9, 3.417199100473279e-9], \"hypre_solve\" => [0.58, 3.11, 6.12, 18.94, 38.15], \"acM2C2_solve\" => [0.8393001556396484, 5.2738261222839355, 12.559491872787476, 53.88242697715759, 126.37046408653259], \"icc2_tot\" => [2.362129, 15.979994000000001, 29.732865, 333.765199, 683.9503970000001], \"acM2C2_tot\" => [3.9226531982421875, 23.190450191497803, 43.839359760284424, 112.54589581489563, 257.25845217704773], \"ac_lst_build\" => [2.776445150375366, 14.644507884979248, 28.951409101486206, 60.19300103187561, 148.17191791534424], \"petsc_hypre_build\" => [2.17686, 10.9238, 21.7574, 44.1507, 89.5073], \"lamg_its\" => [3.0, 4.0, 3.0, 21.0, 21.0], \"lamg_solve\" => [1.509674, 10.846911, 14.309589, 303.56682, 615.075803]…)\n",
       " Dict(\"acM2C2_err\" => [7.156830491506169e-9, 9.646372578512699e-9, 7.415426915914056e-9, 8.938621988645613e-9, 9.791051413207458e-9, 6.935266014347526e-9, 9.928044988371838e-9, 8.532164488768662e-9, 8.004770192319218e-9, 7.888333747386188e-9  …  7.128543052988058e-9, 7.070867175694769e-9, 6.040367040233736e-9, 6.071795012011519e-9, 9.485251254351844e-9, 6.550875068341395e-9, 6.112783205895984e-9, 5.1397491306917734e-9, 6.611157967357096e-9, 2.7602805529144986e-9], \"hypre_solve\" => [0.4, 5.15, 47.05, 53.05, 52.85, 59.01, 57.76, 51.4, 51.69, 48.71  …  52.2, 43.7, 36.62, 59.37, 59.74, 64.19, 47.03, 64.66, 56.32, 44.69], \"acM2C2_solve\" => [0.8146560192108154, 12.177211999893188, 251.47387981414795, 413.6403169631958, 416.62911105155945, 501.37967014312744, 529.6200931072235, 524.0683979988098, 541.9242310523987, 333.61027693748474  …  255.3626070022583, 214.25603413581848, 136.12917518615723, 298.5734431743622, 259.15528893470764, 243.9419300556183, 271.4949209690094, 180.74752497673035, 107.17039918899536, 83.12606692314148], \"icc2_tot\" => [2.246724, 35.434089, 620.868218, 590.401806, 777.887614, 941.072532, 1122.1269940000002, 1101.9009959999999, 1202.8173800000002, 1312.413491  …  358.171039, 152.798678, 82.77084500000001, 683.923147, 650.050303, 556.888804, 526.155485, 529.8091810000001, 285.25249099999996, 146.607493], \"acM2C2_tot\" => [2.7973880767822266, 32.5742769241333, 516.1885068416595, 700.3227360248566, 712.9496150016785, 796.9355821609497, 819.7541859149933, 804.202183008194, 800.2763540744781, 572.9182639122009  …  511.23665499687195, 436.7645299434662, 303.0432171821594, 540.0985243320465, 504.8738169670105, 499.0004360675812, 536.0897080898285, 497.11008310317993, 299.5259201526642, 253.20908880233765], \"petsc_hypre_build\" => [1.97874, 24.9167, 322.885, 354.743, 427.164, 417.284, 378.951, 320.113, 183.512, 87.4099  …  227.366, 200.222, 163.987, 107.746, 128.613, 431.093, 319.13, 293.971, 84.1446, 52.0383], \"lamg_its\" => [9.0, 10.0, 8.0, 8.0, 8.0, 8.0, 8.0, 8.0, 8.0, 8.0  …  8.0, 7.0, 5.0, 9.0, 9.0, 9.0, 8.0, 10.0, 13.0, 14.0], \"ac_tot\" => [1.5281298160552979, 21.33928084373474, 291.8916687965393, 376.58384108543396, 419.09022402763367, 447.0450930595398, 437.94173097610474, 465.46792483329773, 432.4600009918213, 388.2170739173889  …  295.5047130584717, 256.6303291320801, 180.87171506881714, 334.5365517139435, 306.4842140674591, 274.2207260131836, 304.89748215675354, 242.94616794586182, 183.25128388404846, 155.97658514976501], \"acM2C2_lst_tot\" => [3.6200079917907715, 44.00996804237366, 760.760046005249, 731.6183350086212, 746.1711058616638, 739.6683852672577, 723.027327299118, 717.1276762485504, 610.9088428020477, 677.1534581184387  …  694.3004648685455, 487.7135829925537, 307.7761859893799, 814.7653880119324, 770.0787589550018, 723.8236646652222, 706.01580286026, 1049.443260192871, 1178.609179019928, 679.5254600048065], \"icc2_solve\" => [1.808849, 31.827168, 572.586517, 542.205926, 730.00238, 892.931221, 1066.812096, 1053.850266, 1154.956419, 1264.390362  …  313.346872, 110.384378, 40.117978, 635.523913, 601.675222, 508.577126, 478.16196, 480.349708, 234.945236, 96.65282]…)\n",
       " Dict(\"acM2C2_err\" => [4.146183180295502e-9, 3.6832189810991485e-9, 9.291629128235872e-9, 5.889318689678906e-9, 4.297300739828826e-9, 7.926257354359882e-9, 9.506442139653126e-9, 4.92145873639497e-9, 7.574808220628854e-9, 3.5239477950587305e-9  …  4.947136968507574e-9, 4.0845497081555974e-9, 2.3208676981083287e-9, 3.310178360754326e-9, 2.806139177384673e-9, 3.7550027825330065e-9, 2.0970589166174516e-9, 3.380446143333174e-9, 3.866577987025051e-9, 4.513813052641035e-9], \"hypre_solve\" => [0.02, 0.13, 0.01000001, 0.009999998, 0.009999998, 0.01000001, 0.009999998, 0.009999998, 0.03, 0.02  …  7.06, 9.56, 261.05, 99.43, Inf, 72.28, 188.39, 85.58, 158.43, 115.97], \"acM2C2_solve\" => [0.012857198715209961, 0.02311420440673828, 0.00902700424194336, 0.013991832733154297, 0.018676042556762695, 0.01140904426574707, 0.005003213882446289, 0.010181903839111328, 0.02155303955078125, 0.008791923522949219  …  85.7108690738678, 104.43848896026611, 269.12481784820557, 145.58635997772217, 194.8778669834137, 116.42487406730652, 40.54095697402954, 90.28178000450134, 41.00177597999573, 48.87585401535034], \"icc2_tot\" => [0.487663, 0.43941600000000003, 0.397759, 0.49627, 0.449149, 0.485413, 0.5910679999999999, 0.529149, 0.45916, 0.5070220000000001  …  178.02064599999926, 7.625629, 2142.254918999992, 113.11243, 1319.1087839999889, 200.44863800000002, 302.283724, 3233.9659970000002, 100.36453900000001, 328.14226800000006], \"acM2C2_tot\" => [0.04454827308654785, 0.09474825859069824, 0.02061605453491211, 0.03974175453186035, 0.06975412368774414, 0.024578094482421875, 0.009049177169799805, 0.021951913833618164, 0.09806299209594727, 0.022758960723876953  …  155.57989716529846, 208.62962293624878, 617.881630897522, 344.83597683906555, 513.2854559421539, 234.91598105430603, 67.62781310081482, 159.76823496818542, 81.84251499176025, 86.48753595352173], \"petsc_hypre_build\" => [0.543573, 0.797097, 0.122404, 0.132586, 0.212827, 0.0418576, 0.0204249, 0.0438203, 1.48777, 0.130659  …  Inf, 745.525, Inf, 395.394, Inf, Inf, 271.543, 127.668, Inf, 552.7], \"lamg_its\" => [Inf, 9.0, Inf, Inf, 8.0, Inf, Inf, Inf, 9.0, Inf  …  Inf, Inf, Inf, Inf, Inf, 9.0, 9.0, 8.0, 9.0, Inf], \"ac_tot\" => [0.0254361629486084, 0.04628896713256836, 0.013450145721435547, 0.024805068969726562, 0.03710508346557617, 0.019213199615478516, 0.006878852844238281, 0.016150951385498047, 0.05041694641113281, 0.014830827713012695  …  13.783998012542725, 5.791782855987549, 215.73653721809387, 232.00334310531616, 117.22407698631287, 196.1341998577118, 440.151654958725, 306.4060289859772, 414.58257389068604, 204.98056316375732], \"acM2C2_lst_tot\" => [0.059934139251708984, 0.11830997467041016, 0.03301596641540527, 0.05128216743469238, 0.08529806137084961, 0.031066179275512695, 0.011854887008666992, 0.029938936233520508, 0.12879514694213867, 0.030025243759155273  …  206.34957098960876, 243.77677011489868, 681.9213380813599, 371.58020997047424, 543.911474943161, 273.3073229789734, 82.70393395423889, 178.3348309993744, 107.30315399169922, 114.1486759185791], \"icc2_solve\" => [0.363036, 0.328094, 0.289502, 0.343065, 0.31279, 0.344295, 0.44953, 0.38127, 0.342608, 0.366368  …  86.91684799999936, 5.669833, 967.1071259999953, 40.128331999999986, 95.40806700000421, 76.613573, 133.37689400000002, 1585.5198289999992, 74.003443, 143.87447300000005]…)\n",
       " Dict(\"lamg_build\" => [0.24798, 0.439223, 0.957284, 1.436703, 2.21285, 3.533739, 4.939148, 7.05261, 9.091866, 12.25121, 15.576393, 21.121508, 25.268202, 31.21594, 38.370803], \"acM2C2_err\" => [6.7685673183477936e-9, 9.64689837264447e-9, 6.936406725273911e-9, 7.47932961410863e-9, 6.5201066080894756e-9, 7.451389319004589e-9, 8.233650639870334e-9, 7.804571681621911e-9, 8.405411177092171e-9, 9.312456390406036e-9, 8.575837658037824e-9, 8.667225388981385e-9, 8.153674215692094e-9, 9.191767898111493e-9, 9.599766478812741e-9], \"hypre_solve\" => [0.22, 0.76, 2.77, 6.66, 11.46, 18.32, 26.95, 38.82, 52.97, 69.36, 42.79, 114.04, 142.5, 174.74, 210.21], \"acM2C2_solve\" => [0.045352935791015625, 0.21564793586730957, 0.6649041175842285, 1.4321608543395996, 2.3829848766326904, 4.255789041519165, 6.218230962753296, 9.600008964538574, 12.377568006515503, 17.428439140319824, 25.283748865127563, 29.511563062667847, 42.52981185913086, 43.67473101615906, 57.34731698036194], \"icc2_tot\" => [0.511, 0.839394, 1.536804, 2.842136, 4.968566, 7.707581, 11.711031, 17.714766, 25.278118, 35.488043000000005, 48.739059, 64.884234, 84.529431, 108.059346, 138.725009], \"acM2C2_tot\" => [0.2597978115081787, 1.000298023223877, 2.518702983856201, 5.6561830043792725, 9.69101595878601, 15.949076890945435, 23.65312886238098, 34.75045204162598, 47.22650194168091, 71.33310413360596, 95.71167373657227, 120.52123212814331, 178.81867790222168, 185.74729204177856, 231.26893091201782], \"ac_lst_build\" => [0.0976722240447998, 0.4786369800567627, 1.0967471599578857, 2.82669997215271, 4.885776996612549, 7.423557996749878, 10.987541913986206, 15.801104068756104, 21.637086868286133, 31.041050910949707, 39.25893807411194, 67.83572888374329, 66.92242908477783, 86.35222911834717, 106.38499307632446], \"petsc_hypre_build\" => [0.526289, 2.42528, 7.55318, 18.2163, 37.366, 68.7379, 116.698, 186.43, 283.44, 417.029, 584.972, 807.078, 1080.05, 1421.1, 1837.18], \"lamg_its\" => [4.0, 4.0, 6.0, 4.0, 13.0, 10.0, 6.0, 11.0, 8.0, 8.0, 10.0, 10.0, 9.0, 5.0, 12.0], \"lamg_solve\" => [0.085986, 0.137766, 0.332293, 0.368882, 1.793075, 2.094949, 1.797887, 6.246384, 5.945973, 6.263811, 10.205221, 14.417655, 15.643167, 14.324619, 32.000539]…)"
      ]
     },
     "execution_count": 31,
     "metadata": {},
     "output_type": "execute_result"
    }
   ],
   "source": [
    "# dicAll = [dic_suitesparse, dic_uniChimera, dic_wtedChimera, dic_uniBndryChimera, dic_wtedBndryChimera, dic_maxFlow, dic_sachdevaStar, dic_spe, dic_uniGrid, dic_checkeredGrid,dic_anisoGrid,dic_wtedGrid]\n",
    "dicAll = [dic_suitesparse, dic_spe, dic_grid, dic_chimera, dic_sachdevaStar]"
   ]
  },
  {
   "cell_type": "code",
   "execution_count": 33,
   "metadata": {},
   "outputs": [
    {
     "data": {
      "text/plain": [
       "5-element Vector{String}:\n",
       " \"SuiteSparse Matrix Collection\"\n",
       " \"SPE benchmark\"\n",
       " \"Poisson grid problems\"\n",
       " \"Chimeras\"\n",
       " \"Sachdeva stars\""
      ]
     },
     "execution_count": 33,
     "metadata": {},
     "output_type": "execute_result"
    }
   ],
   "source": [
    "# instanceNames = [\"SuiteSparse Matrix Collection\",  \"Unweighted Chimeras\", \"Weighted Chimeras\", \"Unweighted SDDM Chimeras\", \"Weighted SDDM Chimeras\", \"Maximum flow IPMs\", \"Sachdeva stars\", \"SPE benchmark\", \"Uniform coefficient Poisson grid\", \"High contrast coefficient Poisson grid\", \"Anisotropic coef. Poisson grid, variable discretization\", \"Anisotropic coef. Poisson grid, variable weight\"];\n",
    "instanceNames = [\"SuiteSparse Matrix Collection\", \"SPE benchmark\", \"Poisson grid problems\", \"Chimeras\", \"Sachdeva stars\"]"
   ]
  },
  {
   "cell_type": "code",
   "execution_count": 34,
   "metadata": {},
   "outputs": [
    {
     "data": {
      "text/plain": [
       "ffe6 (generic function with 1 method)"
      ]
     },
     "execution_count": 34,
     "metadata": {},
     "output_type": "execute_result"
    }
   ],
   "source": [
    "function sd(d,x)\n",
    "    #scale = exp10(ceil(log10(abs(x)))-d)\n",
    "    #return round(x/scale)*scale\n",
    "    return round(x, sigdigits=3)\n",
    "end        \n",
    "ff(s) = (@sprintf \"%.4g\" sd(3,s))\n",
    "nf(s) = (@sprintf \"%d\" sd(3,s))\n",
    "ffK(s) = (@sprintf \"%.4g\" sd(3,s)/1000)\n",
    "nfK(s) =  round(Int64, sd(3,s)/1000)\n",
    "ffe8(s) = (@sprintf \"%.3g\" sd(3,s)*1e8)\n",
    "ffe6(s) = (@sprintf \"%.4g\" sd(3,s)*1e6)"
   ]
  },
  {
   "cell_type": "code",
   "execution_count": 35,
   "metadata": {},
   "outputs": [],
   "source": [
    "solvers=[\"ac\", \"ac-s2m2\", \"cmg2\", \"hypre\", \"petsc_hypre\",  \"icc2\"];"
   ]
  },
  {
   "cell_type": "code",
   "execution_count": 36,
   "metadata": {},
   "outputs": [
    {
     "data": {
      "text/plain": [
       "get_tvn_max (generic function with 1 method)"
      ]
     },
     "execution_count": 36,
     "metadata": {},
     "output_type": "execute_result"
    }
   ],
   "source": [
    "function get_tvn_max(d, solvers)\n",
    "    \n",
    "    results_array = []\n",
    "    for solver in solvers \n",
    "        if haskey(d, string(solver, \"_tot\")) && length(d[string(solver, \"_tot\")]) == length(d[\"ne\"])\n",
    "            cur_err = maximum(d[string(solver, \"_err\")])\n",
    "            tvn = maximum((d[string(solver, \"_tot\")] ./ d[\"ne\"]))\n",
    "            if cur_err <= 1e-8\n",
    "                push!(results_array, (solver, ffe6(tvn)))\n",
    "            elseif cur_err < 1e-4\n",
    "                push!(results_array, (solver, string(ffe6(tvn), \"\\\\tnote{*}\")))\n",
    "            elseif cur_err < 1\n",
    "                push!(results_array, (solver, string(ffe6(tvn), \"\\\\tnote{**}\")))\n",
    "            else\n",
    "                push!(results_array, (solver, \"Inf\"))\n",
    "            end\n",
    "        else\n",
    "            push!(results_array, (solver, \"N/A\"))\n",
    "        end\n",
    "    end\n",
    "\n",
    "    results = Dict(results_array)\n",
    "    return results\n",
    "end"
   ]
  },
  {
   "cell_type": "code",
   "execution_count": 37,
   "metadata": {},
   "outputs": [
    {
     "name": "stdout",
     "output_type": "stream",
     "text": [
      "{SuiteSparse Matrix Collection}&0.994&1.4&371&Inf&27.1&1450\\tnote{*}\\\\\n",
      "{SPE benchmark}&1.62&1.91&1.1&0.648&2.58&6.13\\\\\n",
      "{Poisson grid problems}&2.33&3.57&1.27&0.772&4.92&6.56\\\\\n",
      "{Chimeras}&4.39&7.19&Inf&Inf&N/A&111\\tnote{*}\\\\\n",
      "{Sachdeva stars}&4.76\\tnote{**}&1.04&1.18&3.52\\tnote{**}&7.22\\tnote{**}&1.02\\\\\n"
     ]
    }
   ],
   "source": [
    "for (index, d) in enumerate(dicAll)\n",
    "    max_tvns = get_tvn_max(d, solvers)\n",
    "    line = string(\"{\", instanceNames[index], \"}&\", join([max_tvns[solver] for solver in solvers], \"&\"), \"\\\\\\\\\")\n",
    "    println(line)\n",
    "end"
   ]
  },
  {
   "cell_type": "markdown",
   "metadata": {},
   "source": [
    "## CMG problems"
   ]
  },
  {
   "cell_type": "code",
   "execution_count": null,
   "metadata": {},
   "outputs": [],
   "source": [
    "cmg_failures = []\n",
    "for (index, d) in enumerate(dicAll)\n",
    "    for i in 1:length(d[\"testName\"])\n",
    "        if d[\"cmg_err\"][i] == 1.0 || d[\"cmg_err\"][i] == Inf\n",
    "            push!(cmg_failures, d[\"testName\"][i])\n",
    "        end\n",
    "    end\n",
    "end\n"
   ]
  },
  {
   "cell_type": "code",
   "execution_count": null,
   "metadata": {},
   "outputs": [
    {
     "data": {
      "text/plain": [
       "21-element Vector{Any}:\n",
       " \"HB/bcsstm23\"\n",
       " \"HB/bcsstm24\"\n",
       " \"HB/bcsstm09\"\n",
       " \"Boeing/bcsstm39\"\n",
       " \"HB/bcsstm25\"\n",
       " \"Oberwolfach/t3dl_e\"\n",
       " \"HB/bcsstm11\"\n",
       " \"uni_chimera(100000,51)\"\n",
       " \"uni_chimera(100000,69)\"\n",
       " \"uni_chimera(1000000,17)\"\n",
       " \"wted_chimera(100000,51)\"\n",
       " \"wted_chimera(100000,69)\"\n",
       " \"wted_chimera(1000000,6)\"\n",
       " \"wted_chimera(1000000,17)\"\n",
       " \"uni_bndry_chimera(100000,51)\"\n",
       " \"uni_bndry_chimera(1000000,12)\"\n",
       " \"uni_bndry_chimera(1000000,17)\"\n",
       " \"uni_bndry_chimera(1000000,28)\"\n",
       " \"uni_bndry_chimera(1000000,29)\"\n",
       " \"uni_bndry_chimera(10000000,11)\"\n",
       " \"wted_bndry_chimera(1000000,17)\""
      ]
     },
     "execution_count": 86,
     "metadata": {},
     "output_type": "execute_result"
    }
   ],
   "source": [
    "cmg_failures"
   ]
  },
  {
   "cell_type": "code",
   "execution_count": null,
   "metadata": {},
   "outputs": [],
   "source": [
    "cmg2_failures = []\n",
    "for (index, d) in enumerate(dicAll)\n",
    "    for i in 1:length(d[\"testName\"])\n",
    "        if d[\"cmg2_err\"][i] == 1.0 || d[\"cmg2_err\"][i] == Inf\n",
    "            push!(cmg2_failures, d[\"testName\"][i])\n",
    "        end\n",
    "    end\n",
    "end"
   ]
  },
  {
   "cell_type": "code",
   "execution_count": null,
   "metadata": {},
   "outputs": [
    {
     "data": {
      "text/plain": [
       "23-element Vector{Any}:\n",
       " \"uni_chimera(100000,13)\"\n",
       " \"uni_chimera(100000,34)\"\n",
       " \"uni_chimera(100000,35)\"\n",
       " \"uni_chimera(100000,66)\"\n",
       " \"uni_chimera(100000,72)\"\n",
       " \"uni_chimera(10000000,6)\"\n",
       " \"wted_chimera(100000,13)\"\n",
       " \"wted_chimera(100000,35)\"\n",
       " \"wted_chimera(100000,66)\"\n",
       " \"wted_chimera(100000,72)\"\n",
       " \"wted_chimera(10000000,6)\"\n",
       " \"uni_bndry_chimera(100000,13)\"\n",
       " \"uni_bndry_chimera(100000,35)\"\n",
       " \"uni_bndry_chimera(100000,66)\"\n",
       " \"uni_bndry_chimera(100000,72)\"\n",
       " \"uni_bndry_chimera(10000000,6)\"\n",
       " \"wted_bndry_chimera(100000,13)\"\n",
       " \"wted_bndry_chimera(100000,35)\"\n",
       " \"wted_bndry_chimera(100000,66)\"\n",
       " \"wted_bndry_chimera(100000,72)\"\n",
       " \"wted_bndry_chimera(10000000,6)\"\n",
       " \"chimeraIPM.n100000.i5.eps0.1.1\"\n",
       " \"chimeraIPM.n100000.i5.eps0.1.4\""
      ]
     },
     "execution_count": 88,
     "metadata": {},
     "output_type": "execute_result"
    }
   ],
   "source": [
    "cmg2_failures"
   ]
  },
  {
   "cell_type": "markdown",
   "metadata": {},
   "source": [
    "## ICC Failure"
   ]
  },
  {
   "cell_type": "code",
   "execution_count": null,
   "metadata": {},
   "outputs": [],
   "source": [
    "icc_failures = []\n",
    "for (index, d) in enumerate(dicAll)\n",
    "    for i in 1:length(d[\"testName\"])\n",
    "        if d[\"icc_err\"][i] == 1.0 || d[\"icc_err\"][i] == Inf\n",
    "            push!(icc_failures, d[\"testName\"][i])\n",
    "        end\n",
    "    end\n",
    "end\n"
   ]
  },
  {
   "cell_type": "code",
   "execution_count": null,
   "metadata": {},
   "outputs": [
    {
     "data": {
      "text/plain": [
       "71-element Vector{Any}:\n",
       " \"uni_chimera(10000,25)\"\n",
       " \"uni_chimera(10000,51)\"\n",
       " \"uni_chimera(10000,52)\"\n",
       " \"uni_chimera(100000,42)\"\n",
       " \"uni_chimera(100000,53)\"\n",
       " \"uni_chimera(1000000,13)\"\n",
       " \"uni_chimera(1000000,17)\"\n",
       " \"wted_chimera(10000,25)\"\n",
       " \"wted_chimera(10000,51)\"\n",
       " \"wted_chimera(10000,52)\"\n",
       " \"wted_chimera(100000,42)\"\n",
       " \"wted_chimera(100000,53)\"\n",
       " \"wted_chimera(1000000,13)\"\n",
       " ⋮\n",
       " \"ipmR.k600.low0.25.up1.0e-6.i6\"\n",
       " \"ipmR.k600.low0.25.up1.0e-6.i7\"\n",
       " \"ipmR.k600.low0.25.up1.0e-6.i8\"\n",
       " \"ipmR.k600.low0.25.up1.0e-6.i9\"\n",
       " \"ipmR.k600.low0.25.up1.0e-6.i10\"\n",
       " \"ipmR.k600.low0.25.up1.0e-6.i11\"\n",
       " \"star_join(complete_graph(100), 50)\"\n",
       " \"star_join(complete_graph(150), 75)\"\n",
       " \"star_join(complete_graph(350), 175)\"\n",
       " \"star_join(complete_graph(500), 250)\"\n",
       " \"star_join(complete_graph(700), 350)\"\n",
       " \"star_join(complete_graph(800), 400)\""
      ]
     },
     "execution_count": 90,
     "metadata": {},
     "output_type": "execute_result"
    }
   ],
   "source": [
    "icc_failures"
   ]
  },
  {
   "cell_type": "code",
   "execution_count": null,
   "metadata": {},
   "outputs": [],
   "source": [
    "icc2_failures = []\n",
    "for (index, d) in enumerate(dicAll)\n",
    "    for i in 1:length(d[\"testName\"])\n",
    "        # if d[\"icc2_err\"][i] == 1.0 || d[\"icc2_err\"][i] == Inf\n",
    "        if d[\"icc2_err\"][i] > 1e-8\n",
    "            push!(icc2_failures, d[\"testName\"][i])\n",
    "        end\n",
    "    end\n",
    "end\n"
   ]
  },
  {
   "cell_type": "code",
   "execution_count": null,
   "metadata": {},
   "outputs": [
    {
     "data": {
      "text/plain": [
       "119-element Vector{Any}:\n",
       " \"MaxPlanck/shallow_water2\"\n",
       " \"uni_chimera(10000,10)\"\n",
       " \"uni_chimera(10000,16)\"\n",
       " \"uni_chimera(10000,56)\"\n",
       " \"uni_chimera(10000,63)\"\n",
       " \"uni_chimera(100000,2)\"\n",
       " \"uni_chimera(100000,4)\"\n",
       " \"uni_chimera(100000,15)\"\n",
       " \"uni_chimera(100000,20)\"\n",
       " \"uni_chimera(100000,39)\"\n",
       " \"uni_chimera(100000,53)\"\n",
       " \"uni_chimera(100000,61)\"\n",
       " \"uni_chimera(100000,88)\"\n",
       " ⋮\n",
       " \"ipmR.k500.low0.25.up1.0e-6.i6\"\n",
       " \"ipmR.k500.low0.25.up1.0e-6.i7\"\n",
       " \"ipmR.k500.low0.25.up1.0e-6.i10\"\n",
       " \"ipmR.k600.low0.25.up1.0e-6.i3\"\n",
       " \"ipmR.k600.low0.25.up1.0e-6.i4\"\n",
       " \"ipmR.k600.low0.25.up1.0e-6.i5\"\n",
       " \"ipmR.k600.low0.25.up1.0e-6.i6\"\n",
       " \"ipmR.k600.low0.25.up1.0e-6.i7\"\n",
       " \"ipmR.k600.low0.25.up1.0e-6.i8\"\n",
       " \"ipmR.k600.low0.25.up1.0e-6.i9\"\n",
       " \"ipmR.k600.low0.25.up1.0e-6.i10\"\n",
       " \"ipmR.k600.low0.25.up1.0e-6.i11\""
      ]
     },
     "execution_count": 92,
     "metadata": {},
     "output_type": "execute_result"
    }
   ],
   "source": [
    "icc2_failures"
   ]
  },
  {
   "cell_type": "code",
   "execution_count": null,
   "metadata": {},
   "outputs": [],
   "source": [
    "M = uni_bndry_chimera(100000,35);\n",
    "b = randn(size(M,1))\n",
    "b = M * b\n",
    "b = b ./ norm(b);\n"
   ]
  },
  {
   "cell_type": "code",
   "execution_count": null,
   "metadata": {},
   "outputs": [
    {
     "data": {
      "text/plain": [
       "timeLimitRchol (generic function with 1 method)"
      ]
     },
     "execution_count": 102,
     "metadata": {},
     "output_type": "execute_result"
    }
   ],
   "source": [
    "include(\"../julia-files/matlabSafe.jl\")"
   ]
  },
  {
   "cell_type": "code",
   "execution_count": null,
   "metadata": {},
   "outputs": [
    {
     "name": "stdout",
     "output_type": "stream",
     "text": [
      "\n",
      "                            < M A T L A B (R) >\n",
      "                  Copyright 1984-2024 The MathWorks, Inc.\n",
      "                  R2024a (24.1.0.2537033) 64-bit (glnxa64)\n",
      "                             February 21, 2024\n",
      "\n",
      " \n",
      "For online documentation, see https://www.mathworks.com/support\n",
      "For product information, visit www.mathworks.com.\n",
      " \n",
      ">> >> >> >> >> >> >> >> >> >> >> >> >> >> >> >> >> >> >> >> >> >> >> >> >> >> >> >> >> >> >> >> >> >> >>>>>>>>>>>>>>>>>>>>>>>>>>>>>>>>>>>>>>>>>>>>>>>>>>>>>>>>>>>>>>>>>>>> >> >> >> >> >> >> >> >> >> >> >> >> >> >> >> \n",
      "relres =\n",
      "\n",
      "   3.8015e-09\n",
      "\n",
      ">> >> >> >> >> "
     ]
    },
    {
     "data": {
      "text/plain": [
       "(1.202958, 0.970358, 38, 3.801525468639023e-9)"
      ]
     },
     "execution_count": 95,
     "metadata": {},
     "output_type": "execute_result"
    }
   ],
   "source": [
    "timeLimitIcc(Inf, M, b)"
   ]
  },
  {
   "cell_type": "code",
   "execution_count": null,
   "metadata": {},
   "outputs": [
    {
     "name": "stdout",
     "output_type": "stream",
     "text": [
      "Found a failure\n",
      "(d[\"testName\"])[argmax(d[\"icc2_err\"])] = \"MaxPlanck/shallow_water2\"\n",
      "maximum(d[\"icc2_err\"]) = 5.507527219983869e-7\n",
      "Found a failure\n",
      "(d[\"testName\"])[argmax(d[\"icc2_err\"])] = \"uni_chimera(10000000,7)\"\n",
      "maximum(d[\"icc2_err\"]) = 2.7725927312355067e-5\n",
      "Found a failure\n",
      "(d[\"testName\"])[argmax(d[\"icc2_err\"])] = \"wted_chimera(10000000,7)\"\n",
      "maximum(d[\"icc2_err\"]) = 2.7725927312355067e-5\n",
      "Found a failure\n",
      "(d[\"testName\"])[argmax(d[\"icc2_err\"])] = \"wted_bndry_chimera(100000,35)\"\n",
      "maximum(d[\"icc2_err\"]) = 2.3714644750974205e-7\n",
      "Found a failure\n",
      "(d[\"testName\"])[argmax(d[\"icc2_err\"])] = \"chimeraIPM.n100000.i1.eps0.01.5\"\n",
      "maximum(d[\"icc2_err\"]) = 7.818428824773771e-7\n"
     ]
    }
   ],
   "source": [
    "for d in dicAll\n",
    "    if maximum(d[\"icc2_err\"]) > 1e-8\n",
    "        println(\"Found a failure\")\n",
    "        @show d[\"testName\"][argmax(d[\"icc2_err\"])]\n",
    "        @show maximum(d[\"icc2_err\"])\n",
    "    end\n",
    "end"
   ]
  },
  {
   "cell_type": "code",
   "execution_count": null,
   "metadata": {},
   "outputs": [
    {
     "name": "stdout",
     "output_type": "stream",
     "text": [
      "length(unique(c)) = 1\n"
     ]
    },
    {
     "data": {
      "text/plain": [
       "1"
      ]
     },
     "execution_count": 97,
     "metadata": {},
     "output_type": "execute_result"
    }
   ],
   "source": [
    "a = uni_chimera(10000000,7)\n",
    "c = components(a)\n",
    "@show length(unique(c))"
   ]
  },
  {
   "cell_type": "code",
   "execution_count": null,
   "metadata": {},
   "outputs": [
    {
     "data": {
      "text/plain": [
       "timeLimitRchol (generic function with 1 method)"
      ]
     },
     "execution_count": 4,
     "metadata": {},
     "output_type": "execute_result"
    }
   ],
   "source": [
    "include(\"../julia-files/downloadSS.jl\")\n",
    "include(\"../julia-files/isLap.jl\")\n",
    "include(\"../julia-files/compareSolvers.jl\")\n",
    "include(\"../julia-files/matlabSafe.jl\")"
   ]
  },
  {
   "cell_type": "code",
   "execution_count": null,
   "metadata": {},
   "outputs": [
    {
     "name": "stdout",
     "output_type": "stream",
     "text": [
      "length(unique(c)) = 1\n"
     ]
    }
   ],
   "source": [
    "M = downloadSS(\"McRae/ecology1\")\n",
    "a, _ = adj(M)\n",
    "c = components(a)\n",
    "@show length(unique(c))\n",
    "\n",
    "b = randn(size(M,1))\n",
    "b = M * b\n",
    "b = b ./ norm(b);"
   ]
  },
  {
   "cell_type": "code",
   "execution_count": null,
   "metadata": {},
   "outputs": [
    {
     "data": {
      "text/plain": [
       "true"
      ]
     },
     "execution_count": 6,
     "metadata": {},
     "output_type": "execute_result"
    }
   ],
   "source": [
    "isLap(M)"
   ]
  },
  {
   "cell_type": "code",
   "execution_count": null,
   "metadata": {},
   "outputs": [
    {
     "name": "stdout",
     "output_type": "stream",
     "text": [
      "cmd = `timeout Inf /home/yuagao/matlab_r2024a/bin/matlab -nojvm -nodisplay -nosplash -nodesktop '<' /home/yuagao/SDDM2023/matlab/timeIccLap.m`\n",
      "\n",
      "                            < M A T L A B (R) >\n",
      "                  Copyright 1984-2024 The MathWorks, Inc.\n",
      "                  R2024a (24.1.0.2537033) 64-bit (glnxa64)\n",
      "                             February 21, 2024\n",
      "\n",
      " \n",
      "For online documentation, see https://www.mathworks.com/support\n",
      "For product information, visit www.mathworks.com.\n",
      " \n",
      ">> >> >> >> >> >> >> >> >> >> >> >> >> >> >> >> >> >> >> >> >> >> >> >> >> >> >> >> >> >> \n",
      "relres =\n",
      "\n",
      "   1.1351e-07\n",
      "\n",
      ">> >> >> >> >> "
     ]
    },
    {
     "data": {
      "text/plain": [
       "(77.371018, 0.586211, 995, 1.1351287904864473e-7)"
      ]
     },
     "execution_count": 7,
     "metadata": {},
     "output_type": "execute_result"
    }
   ],
   "source": [
    "# timeLimitIcc(Inf, M, b)\n",
    "timeLimitIccLap(Inf, M, b)"
   ]
  },
  {
   "cell_type": "code",
   "execution_count": null,
   "metadata": {},
   "outputs": [
    {
     "name": "stdout",
     "output_type": "stream",
     "text": [
      "cmd = `timeout 18000 /home/yuagao/matlab_r2024a/bin/matlab -nojvm -nodisplay -nosplash -nodesktop '<' /home/yuagao/SDDM2023/matlab/timeIccCon.m`\n",
      "\n",
      "                            < M A T L A B (R) >\n",
      "                  Copyright 1984-2024 The MathWorks, Inc.\n",
      "                  R2024a (24.1.0.2537033) 64-bit (glnxa64)\n",
      "                             February 21, 2024\n",
      "\n",
      " \n",
      "For online documentation, see https://www.mathworks.com/support\n",
      "For product information, visit www.mathworks.com.\n",
      " \n",
      ">> >> >> >> >> >> >> >> >> >> >> >> >> >> >> >> >> >> >> >> >> >> >> >> >> >> >> >> >> >> >> >> >> >> >>>>>>>>>>>>>>>>>>>>>>>>>>>>>>>>>>>>>>>>>>>>>>>>>>>>>>>>>>>>>>>>>>>> >> >> >> >> >> >> >> >> >> >> >> >> >> >> >> \n",
      "relres =\n",
      "\n",
      "   3.2174e-09\n",
      "\n",
      ">> >> >> >> >> Build Time: 0.158572\n",
      "Solve Time: 0.187478\n",
      "Iterations: 10\n",
      "error: 3.217365459449211e-9\n",
      "Time to load and start Matlab: 8038 milliseconds/1000)\n"
     ]
    },
    {
     "data": {
      "text/plain": [
       "Any[]"
      ]
     },
     "execution_count": 107,
     "metadata": {},
     "output_type": "execute_result"
    }
   ],
   "source": [
    "dic_test = Dict()\n",
    "\n",
    "testLap([], dic_test, M, b; test_icc=true)"
   ]
  },
  {
   "cell_type": "code",
   "execution_count": null,
   "metadata": {},
   "outputs": [],
   "source": []
  }
 ],
 "metadata": {
  "kernelspec": {
   "display_name": "Julia 1.10.2",
   "language": "julia",
   "name": "julia-1.10"
  },
  "language_info": {
   "file_extension": ".jl",
   "mimetype": "application/julia",
   "name": "julia",
   "version": "1.10.2"
  }
 },
 "nbformat": 4,
 "nbformat_minor": 2
}
