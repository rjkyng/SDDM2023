{
 "cells": [
  {
   "cell_type": "code",
   "execution_count": 1,
   "metadata": {},
   "outputs": [],
   "source": [
    "using JLD2\n",
    "using Statistics\n",
    "using Revise\n",
    "using Plots\n",
    "using Laplacians\n",
    "using Printf"
   ]
  },
  {
   "cell_type": "code",
   "execution_count": 2,
   "metadata": {},
   "outputs": [
    {
     "data": {
      "text/plain": [
       "Dict{Any, Any} with 84 entries:\n",
       "  \"lamg_build\"        => [328.617, 328.577, 326.042, 323.375, 328.147, 341.11, …\n",
       "  \"acM2C2_err\"        => [8.93862e-9, 9.79105e-9, 6.93527e-9, 9.92804e-9, 8.532…\n",
       "  \"hypre_solve\"       => [53.05, 52.85, 59.01, 57.76, 51.4, 51.69, 48.71]\n",
       "  \"acM2C2_solve\"      => [413.64, 416.629, 501.38, 529.62, 524.068, 541.924, 33…\n",
       "  \"icc2_tot\"          => [564.203, 1022.22, 932.083, 1133.57, 1089.89, 1202.5, …\n",
       "  \"acM2C2_tot\"        => [700.323, 712.95, 796.936, 819.754, 804.202, 800.276, …\n",
       "  \"ac_lst_build\"      => [194.216, 217.025, 215.782, 261.644, 208.624, 201.018,…\n",
       "  \"petsc_hypre_build\" => [354.743, 427.164, 417.284, 378.951, 320.113, 183.512,…\n",
       "  \"lamg_its\"          => [8.0, 8.0, 8.0, 8.0, 8.0, 8.0, 8.0]\n",
       "  \"lamg_solve\"        => [360.299, 356.768, 355.728, 350.849, 352.721, 375.776,…\n",
       "  \"hypre_its\"         => [8.0, 8.0, 9.0, 9.0, 8.0, 8.0, 7.0]\n",
       "  \"cmg_solve\"         => [84.34, 87.1662, 85.0853, 89.2418, 79.7099, 76.6486, 8…\n",
       "  \"ac_tot\"            => [376.584, 419.09, 447.045, 437.942, 465.468, 432.46, 3…\n",
       "  \"ac1_solve\"         => [410.022, 503.94, 548.006, 542.222, 520.692, 556.689, …\n",
       "  \"cmg_build\"         => [23.5065, 23.4076, 25.0343, 25.1849, 27.0227, 25.4959,…\n",
       "  \"acM2C2_lst_tot\"    => [731.618, 746.171, 739.668, 723.027, 717.128, 610.909,…\n",
       "  \"icc2_solve\"        => [534.02, 992.209, 902.05, 1102.96, 1059.78, 1172.31, 1…\n",
       "  \"hypre_tot\"         => [123.3, 131.19, 146.74, 150.31, 146.42, 128.03, 110.01]\n",
       "  \"ac2_solve\"         => [498.091, 540.4, 588.178, 636.945, 612.175, 596.812, 4…\n",
       "  \"ac_lst_its\"        => [26.0, 26.0, 27.0, 28.0, 32.0, 39.0, 44.0]\n",
       "  \"acM2C2_lst_solve\"  => [299.018, 295.284, 290.345, 287.714, 290.421, 264.027,…\n",
       "  \"ac-s2m2_its\"       => [30.0, 35.0, 38.0, 46.0, 45.0, 48.0, 35.0]\n",
       "  \"petsc_hypre_solve\" => [270.177, 329.997, 353.063, 389.471, 366.771, 286.3, 1…\n",
       "  \"ac1_its\"           => [37.0, 44.0, 50.0, 51.0, 53.0, 59.0, 50.0]\n",
       "  \"ac_lst_tot\"        => [420.801, 446.39, 451.592, 501.406, 474.601, 501.234, …\n",
       "  ⋮                   => ⋮"
      ]
     },
     "execution_count": 2,
     "metadata": {},
     "output_type": "execute_result"
    }
   ],
   "source": [
    "@load \"checkered_all.jl.split02merge02.jld2\"\n",
    "dic1 = copy(dic)"
   ]
  },
  {
   "cell_type": "code",
   "execution_count": 3,
   "metadata": {},
   "outputs": [
    {
     "data": {
      "text/plain": [
       "ffe6 (generic function with 1 method)"
      ]
     },
     "execution_count": 3,
     "metadata": {},
     "output_type": "execute_result"
    }
   ],
   "source": [
    "function sd(d,x)\n",
    "    #scale = exp10(ceil(log10(abs(x)))-d)\n",
    "    #return round(x/scale)*scale\n",
    "    return round(x, sigdigits=3)\n",
    "end        \n",
    "\n",
    "#constant d = 3\n",
    "ff(s) = (@sprintf \"%.3g\" sd(3,s))\n",
    "nf(s) = (@sprintf \"%d\" sd(3,s))\n",
    "\n",
    "ffK(s) = (@sprintf \"%.3g\" sd(3,s)/1000)\n",
    "nfK(s) =  round(Int64, sd(3,s)/1000)\n",
    "\n",
    "ffe8(s) = (@sprintf \"%.3g\" sd(3,s)*1e8)\n",
    "\n",
    "ffe6(s) = (@sprintf \"%.3g\" sd(3,s)*1e6)"
   ]
  },
  {
   "cell_type": "code",
   "execution_count": 4,
   "metadata": {},
   "outputs": [
    {
     "data": {
      "text/plain": [
       "printAllLines (generic function with 1 method)"
      ]
     },
     "execution_count": 4,
     "metadata": {},
     "output_type": "execute_result"
    }
   ],
   "source": [
    "function labelTvn(tvn, err)\n",
    "    if err <= 1e-8\n",
    "        return ffe6(tvn)\n",
    "    elseif err < 1e-4\n",
    "        return string(ffe6(tvn), \"\\\\tnote{*}\")\n",
    "    elseif err < 1\n",
    "        return string(ffe6(tvn), \"\\\\tnote{**}\")\n",
    "    else\n",
    "        return \"Inf\"\n",
    "    end\n",
    "end\n",
    "\n",
    "function printSolverCell(d, solver, i)\n",
    "    if haskey(d, string(solver, \"_tot\"))\n",
    "        itr = d[string(solver, \"_its\")][i]\n",
    "        ne = d[\"ne\"][i]\n",
    "        solveVn = d[string(solver, \"_solve\")][i] / ne\n",
    "        totalVn = d[string(solver, \"_tot\")][i] / ne\n",
    "        err = d[string(solver, \"_err\")][i]\n",
    "        return string(\"&\", nf(itr), \"&\", labelTvn(solveVn, err), \"&\", labelTvn(totalVn, err), \"&\",ffe8(err))\n",
    "    else\n",
    "        return \"&N/A&N/A&N/A&N/A\"\n",
    "    end\n",
    "end\n",
    "\n",
    "function printOneLine(d, solvers, i)\n",
    "    allCells = [printSolverCell(d, solver, i) for solver in solvers]\n",
    "    return string(2^i, join(allCells), \"\\\\\\\\\")\n",
    "end\n",
    "\n",
    "function printAllLines(d, solvers)\n",
    "    for i in 1:length(d[\"testName\"])\n",
    "        println(printOneLine(d, solvers, i))\n",
    "    end\n",
    "end"
   ]
  },
  {
   "cell_type": "code",
   "execution_count": 5,
   "metadata": {},
   "outputs": [
    {
     "name": "stdout",
     "output_type": "stream",
     "text": [
      "2&41&1.28&1.88&0.742&30&1.48&3.01&0.987&30&0.668&1.07&0.643\\\\\n",
      "4&47&1.47&2.1&0.733&35&1.74&3.14&0.786&28&0.569&0.981&0.796\\\\\n",
      "8&52&1.61&2.24&0.836&38&1.87&3.26&0.985&26&0.531&0.937&0.912\\\\\n",
      "16&52&1.57&2.19&0.915&46&2.2&3.57&0.707&28&0.571&1&0.969\\\\\n",
      "32&59&1.73&2.33&0.802&45&2.06&3.38&0.967&28&0.552&0.971&0.718\\\\\n",
      "64&57&1.59&2.16&0.925&48&2.02&3.23&0.762&25&0.506&0.93&0.671\\\\\n",
      "128&53&1.39&1.94&0.98&35&1.31&2.46&0.828&28&0.519&0.956&0.989\\\\\n"
     ]
    }
   ],
   "source": [
    "solvers1 = [\"ac\", \"ac-s2m2\", \"cmg2\"]\n",
    "printAllLines(dic1, solvers1)"
   ]
  },
  {
   "cell_type": "code",
   "execution_count": 6,
   "metadata": {},
   "outputs": [
    {
     "name": "stdout",
     "output_type": "stream",
     "text": [
      "2&8&0.265&0.616&0.308&7&1.35&3.12&0.000145&172&2.67&2.82&0.98\\\\\n",
      "4&8&0.264&0.656&0.738&7&1.65&3.79&0.000555&321&4.96&5.11&0.969\\\\\n",
      "8&9&0.295&0.734&0.351&7&1.77&3.85&0.00142&292&4.51&4.66&0.922\\\\\n",
      "16&9&0.289&0.752&0.184&8&1.95&3.84&0.000297&358&5.51&5.67&0.845\\\\\n",
      "32&8&0.257&0.732&0.744&8&1.83&3.43&0.00117&343&5.3&5.45&0.916\\\\\n",
      "64&8&0.258&0.64&0.513&9&1.43&2.35&0.000498&380&5.86&6.01&0.947\\\\\n",
      "128&7&0.244&0.55&0.98&7&0.664&1.1&0.00106&413&6.37&6.52&0.965\\\\\n"
     ]
    }
   ],
   "source": [
    "solvers2 = [\"hypre\", \"petsc_hypre\", \"icc2\"]\n",
    "printAllLines(dic1, solvers2)"
   ]
  }
 ],
 "metadata": {
  "kernelspec": {
   "display_name": "Julia 1.10.2",
   "language": "julia",
   "name": "julia-1.10"
  },
  "language_info": {
   "file_extension": ".jl",
   "mimetype": "application/julia",
   "name": "julia",
   "version": "1.10.2"
  }
 },
 "nbformat": 4,
 "nbformat_minor": 4
}
