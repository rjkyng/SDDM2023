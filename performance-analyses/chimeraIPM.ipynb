{
 "cells": [
  {
   "cell_type": "code",
   "execution_count": 1,
   "metadata": {},
   "outputs": [],
   "source": [
    "using JLD2\n",
    "using Statistics\n",
    "using Revise\n",
    "using Plots\n",
    "using Laplacians"
   ]
  },
  {
   "cell_type": "code",
   "execution_count": 2,
   "metadata": {},
   "outputs": [
    {
     "data": {
      "text/plain": [
       "Dict{Any, Any} with 44 entries:\n",
       "  \"lamg_build\"    => [1.07675, 1.11742, 1.13655, 1.13066, 1.09797, 1.09307, 1.1…\n",
       "  \"hypre_solve\"   => [0.48, 0.52, 0.45, 0.54, 0.55, 0.49, 0.46, 0.45, 0.53, 0.5…\n",
       "  \"icc2_tot\"      => [0.870099, 0.867364, 0.857776, 0.828449, 0.931116, 0.78020…\n",
       "  \"lamg_its\"      => [8.0, 8.0, 8.0, 8.0, 8.0, 8.0, 8.0, 8.0, 8.0, 8.0  …  Inf,…\n",
       "  \"lamg_solve\"    => [0.822568, 0.902733, 0.886765, 0.866826, 0.864624, 0.84768…\n",
       "  \"hypre_its\"     => [8.0, 8.0, 8.0, 8.0, 8.0, 8.0, 8.0, 8.0, 8.0, 8.0  …  9.0,…\n",
       "  \"cmg_solve\"     => [0.584477, 0.592069, 0.600114, 0.573069, 0.584787, 0.57749…\n",
       "  \"ac_tot\"        => [1.32341, 1.24779, 1.22765, 1.22806, 1.2321, 1.24706, 1.22…\n",
       "  \"cmg_build\"     => [0.637418, 0.565644, 0.600613, 0.631511, 0.619733, 0.53641…\n",
       "  \"icc2_solve\"    => [0.720296, 0.718707, 0.695286, 0.682965, 0.76934, 0.635247…\n",
       "  \"hypre_tot\"     => [2.45, 2.47, 2.39, 2.51, 2.55, 2.5, 2.43, 2.43, 2.52, 2.54…\n",
       "  \"ac-s2m2_its\"   => [14.0, 13.0, 14.0, 13.0, 13.0, 13.0, 14.0, 14.0, 13.0, 13.…\n",
       "  \"icc_solve\"     => [0.384513, 0.417362, 0.391678, 0.418715, 0.383703, 0.42642…\n",
       "  \"ac_err\"        => [7.55021e-9, 6.25314e-9, 9.91923e-9, 8.78694e-9, 3.95255e-…\n",
       "  \"icc2_its\"      => [35.0, 35.0, 36.0, 37.0, 38.0, 38.0, 38.0, 23.0, 40.0, 24.…\n",
       "  \"cmg2_solve\"    => [0.537567, 0.522825, 0.556429, 0.575215, 0.539472, 0.53642…\n",
       "  \"ac-s2m2_build\" => [2.16339, 2.12125, 2.11714, 2.08667, 2.10422, 2.11629, 2.1…\n",
       "  \"icc_err\"       => [4.97546e-9, 5.13803e-9, 6.72634e-9, 8.78275e-9, 7.98235e-…\n",
       "  \"cmg2_tot\"      => [1.41495, 1.36255, 1.44314, 1.54862, 1.37984, 1.39584, 1.3…\n",
       "  \"icc_build\"     => [0.124076, 0.131464, 0.129138, 0.14544, 0.137922, 0.130037…\n",
       "  \"cmg_err\"       => [9.72368e-9, 3.25429e-9, 4.38548e-9, 4.95386e-9, 4.17065e-…\n",
       "  \"lamg_tot\"      => [1.89932, 2.02015, 2.02332, 1.99749, 1.9626, 1.94075, 1.94…\n",
       "  \"lamg_err\"      => [2.15097e-6, 2.04949e-6, 2.199e-6, 2.15268e-6, 2.13093e-6,…\n",
       "  \"icc_its\"       => [23.0, 23.0, 23.0, 23.0, 23.0, 23.0, 23.0, 23.0, 23.0, 23.…\n",
       "  \"ac_build\"      => [0.971197, 0.900444, 0.893364, 0.879603, 0.883656, 0.89520…\n",
       "  ⋮               => ⋮"
      ]
     },
     "execution_count": 2,
     "metadata": {},
     "output_type": "execute_result"
    }
   ],
   "source": [
    "@load \"chimeraIPM_nopetsc.jl.split02merge02.jld2\"\n",
    "dic1 = copy(dic)"
   ]
  },
  {
   "cell_type": "code",
   "execution_count": 3,
   "metadata": {},
   "outputs": [],
   "source": [
    "import Laplacians.initDictCol!\n",
    "dics = [Dict(),Dict(),Dict(),Dict(),Dict()]\n",
    "\n",
    "for key in keys(dic1)\n",
    "    for i in 1:length(dics)\n",
    "        initDictCol!(dics[i], key, typeof(dic1[key][1]))\n",
    "        #@show dics[i]\n",
    "    end\n",
    "end\n",
    "\n",
    "for i in 1:length(dic1[\"testName\"])\n",
    "    tn = dic1[\"testName\"][i]\n",
    "    curTargetEps = 0.0\n",
    "    if occursin(\"e\", (split(tn, \".\")[4][4:end]))\n",
    "        curTargetEps = parse(Float64, (split(tn, \".\")[4][4:end]))\n",
    "    else\n",
    "        curTargetEps = parse(Float64, string(split(tn, \".\")[4][4:end], \".\", split(tn, \".\")[5]))\n",
    "    end\n",
    "    curTargetEpsInd = round(Int, -log10(curTargetEps))\n",
    "    for key in keys(dic1)\n",
    "        if key == \"names\"\n",
    "            continue\n",
    "        end\n",
    "        push!(dics[curTargetEpsInd][key], dic1[key][i])\n",
    "    end\n",
    "end\n",
    "\n",
    "for i in 1:length(dics)\n",
    "    dics[i][\"names\"] = dic1[\"names\"]\n",
    "end"
   ]
  },
  {
   "cell_type": "code",
   "execution_count": 4,
   "metadata": {},
   "outputs": [
    {
     "data": {
      "text/plain": [
       "nanErr! (generic function with 1 method)"
      ]
     },
     "execution_count": 4,
     "metadata": {},
     "output_type": "execute_result"
    }
   ],
   "source": [
    "function nanErr!(d)\n",
    "    for (key, value) in d\n",
    "        if occursin(\"err\", key)\n",
    "            for i in 1:length(value)\n",
    "                if isnan(value[i])\n",
    "                    d[key][i] = Inf\n",
    "                end\n",
    "            end\n",
    "        end\n",
    "    end\n",
    "end"
   ]
  },
  {
   "cell_type": "code",
   "execution_count": 5,
   "metadata": {},
   "outputs": [],
   "source": [
    "nanErr!.(dics);"
   ]
  },
  {
   "cell_type": "code",
   "execution_count": 6,
   "metadata": {},
   "outputs": [
    {
     "data": {
      "text/plain": [
       "ffe3 (generic function with 1 method)"
      ]
     },
     "execution_count": 6,
     "metadata": {},
     "output_type": "execute_result"
    }
   ],
   "source": [
    "using Printf\n",
    "\n",
    "function sd(d,x)\n",
    "    #scale = exp10(ceil(log10(abs(x)))-d)\n",
    "    #return round(x/scale)*scale\n",
    "    return round(x, sigdigits=3)\n",
    "end        \n",
    "ff(s) = (@sprintf \"%.4g\" sd(3,s))\n",
    "nf(s) = (@sprintf \"%d\" sd(3,s))\n",
    "ffK(s) = (@sprintf \"%.4g\" sd(3,s)/1000)\n",
    "nfK(s) =  round(Int64, sd(3,s)/1000)\n",
    "ffe8(s) = (@sprintf \"%.3g\" sd(3,s)*1e8)\n",
    "ffe6(s) = (@sprintf \"%.3g\" sd(3,s)*1e6)\n",
    "ffmicro(s) = (@sprintf \"%.4g\" sd(3,s)*1e6)\n",
    "ffe3(s) = (@sprintf \"%.3g\" sd(3,s)*1e3)"
   ]
  },
  {
   "cell_type": "code",
   "execution_count": 7,
   "metadata": {},
   "outputs": [
    {
     "data": {
      "text/plain": [
       "printMax (generic function with 1 method)"
      ]
     },
     "execution_count": 7,
     "metadata": {},
     "output_type": "execute_result"
    }
   ],
   "source": [
    "function labelTvn(tvn, err)\n",
    "    if err <= 1e-8\n",
    "        return ffe6(tvn)\n",
    "    elseif err < 1e-4\n",
    "        return string(ffe6(tvn), \"\\\\tnote{*}\")\n",
    "    elseif err < 1\n",
    "        return string(ffe6(tvn), \"\\\\tnote{**}\")\n",
    "    else\n",
    "        return \"Inf\"\n",
    "    end\n",
    "end\n",
    "\n",
    "function printMedian(d, solver)\n",
    "    if haskey(d, string(solver, \"_tot\")) && length(d[string(solver, \"_tot\")]) == length(d[\"ne\"])\n",
    "        tvn = median(d[string(solver, \"_tot\")] ./ d[\"ne\"] )\n",
    "        err = median(d[string(solver, \"_err\")])\n",
    "        return labelTvn(tvn, err)\n",
    "    else\n",
    "        return \"N/A\"\n",
    "    end\n",
    "end\n",
    "\n",
    "function print75(d, solver)\n",
    "    if haskey(d, string(solver, \"_tot\")) && length(d[string(solver, \"_tot\")]) == length(d[\"ne\"])\n",
    "        tvn = quantile(d[string(solver, \"_tot\")] ./ d[\"ne\"], 0.75)\n",
    "        err = quantile(d[string(solver, \"_err\")], 0.75)\n",
    "        return labelTvn(tvn, err)\n",
    "    else\n",
    "        return \"N/A\"\n",
    "    end\n",
    "end\n",
    "\n",
    "function printMax(d, solver)\n",
    "    if haskey(d, string(solver, \"_tot\")) && length(d[string(solver, \"_tot\")]) == length(d[\"ne\"])\n",
    "        tvn = maximum(d[string(solver, \"_tot\")] ./ d[\"ne\"])\n",
    "        err = maximum(d[string(solver, \"_err\")])\n",
    "        return labelTvn(tvn, err)\n",
    "    else\n",
    "        return \"N/A\"\n",
    "    end\n",
    "end"
   ]
  },
  {
   "cell_type": "code",
   "execution_count": 8,
   "metadata": {},
   "outputs": [
    {
     "data": {
      "text/plain": [
       "printAllLines (generic function with 1 method)"
      ]
     },
     "execution_count": 8,
     "metadata": {},
     "output_type": "execute_result"
    }
   ],
   "source": [
    "function printSolverCell(d, solver) \n",
    "    return string(printMedian(d, solver), \"&\", print75(d, solver), \"&\", printMax(d, solver))\n",
    "end\n",
    "\n",
    "function printOneLine(d, solvers, i)\n",
    "    allCells = [printSolverCell(d, solver) for solver in solvers]\n",
    "    println(string(ffe3(1 / 10^i), \"&\", length(d[\"testName\"]), \"&\", join(allCells, \"&\"), \"\\\\\\\\\"))\n",
    "end\n",
    "\n",
    "function printAllLines(dics, solvers)\n",
    "    for i in 1:length(dics)\n",
    "        printOneLine(dics[i], solvers, i)\n",
    "    end\n",
    "end"
   ]
  },
  {
   "cell_type": "code",
   "execution_count": 9,
   "metadata": {},
   "outputs": [
    {
     "name": "stdout",
     "output_type": "stream",
     "text": [
      "100&28&0.68&0.774&1.2&1.27&1.79&2.39&1.6&1.83&Inf\\\\\n",
      "10&27&0.678&0.777&1.15&1.27&1.8&2.36&1.62&1.97&2.55\\\\\n",
      "1&27&0.68&0.763&1.14&1.25&1.79&2.38&1.56&1.91&2.51\\\\\n",
      "0.1&27&0.683&0.784&1.15&1.27&1.79&2.36&1.55&1.89&2.71\\\\\n",
      "0.01&19&0.681&0.777&1.15&1.28&1.78&2.37&1.57&1.87&2.33\\\\\n"
     ]
    }
   ],
   "source": [
    "solvers=[\"ac\", \"ac-s2m2\", \"cmg2\"]\n",
    "printAllLines(dics, solvers)"
   ]
  },
  {
   "cell_type": "code",
   "execution_count": 10,
   "metadata": {},
   "outputs": [
    {
     "name": "stdout",
     "output_type": "stream",
     "text": [
      "100&28&1.54&2.27&5.04&N/A&N/A&N/A&1.23&1.8&4.79\\\\\n",
      "10&27&1.52&2.29&4.82&N/A&N/A&N/A&1.32&1.87&5.24\\tnote{*}\\\\\n",
      "1&27&1.52&2.32&4.94\\tnote{*}&N/A&N/A&N/A&1.07\\tnote{*}&1.83\\tnote{*}&3.06\\tnote{*}\\\\\n",
      "0.1&27&1.53&2.29&4.86\\tnote{*}&N/A&N/A&N/A&1.02&1.72&3.44\\\\\n",
      "0.01&19&1.52&2.3&4.58\\tnote{*}&N/A&N/A&N/A&0.962&1.73&3.26\\\\\n"
     ]
    }
   ],
   "source": [
    "solvers = [\"hypre\", \"petsc_hypre\", \"icc2\"]\n",
    "printAllLines(dics, solvers)"
   ]
  }
 ],
 "metadata": {
  "kernelspec": {
   "display_name": "Julia 1.10.2",
   "language": "julia",
   "name": "julia-1.10"
  },
  "language_info": {
   "file_extension": ".jl",
   "mimetype": "application/julia",
   "name": "julia",
   "version": "1.10.2"
  },
  "orig_nbformat": 4
 },
 "nbformat": 4,
 "nbformat_minor": 2
}
