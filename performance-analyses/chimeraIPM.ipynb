{
 "cells": [
  {
   "cell_type": "code",
   "execution_count": 3,
   "metadata": {},
   "outputs": [],
   "source": [
    "using JLD2\n",
    "using Statistics\n",
    "using Revise\n",
    "using Plots\n",
    "using Laplacians"
   ]
  },
  {
   "cell_type": "code",
   "execution_count": 4,
   "metadata": {},
   "outputs": [
    {
     "data": {
      "text/plain": [
       "Dict{Any,Any} with 44 entries:\n",
       "  \"hypre_solve\" => [0.48, 0.52, 0.45, 0.54, 0.55, 0.49, 0.46, 0.45, 0.53, 0.54 …\n",
       "  \"icc2_tot\"    => [0.691361, 0.635447, 0.714991, 0.683973, 0.636447, 0.615563,…\n",
       "  \"lamg_its\"    => [8.0, 8.0, 8.0, 8.0, 8.0, 8.0, 8.0, 8.0, 8.0, 8.0  …  Inf, I…\n",
       "  \"ac_tot\"      => [1.32341, 1.24779, 1.22765, 1.22806, 1.2321, 1.24706, 1.2266…\n",
       "  \"icc2_solve\"  => [0.567397, 0.506465, 0.586345, 0.543626, 0.508892, 0.492256,…\n",
       "  \"hypre_tot\"   => [2.45, 2.47, 2.39, 2.51, 2.55, 2.5, 2.43, 2.43, 2.52, 2.54  …\n",
       "  \"ac-s2m2_its\" => [14.0, 13.0, 14.0, 13.0, 13.0, 13.0, 14.0, 14.0, 13.0, 13.0 …\n",
       "  \"icc_solve\"   => [0.384513, 0.417362, 0.391678, 0.418715, 0.383703, 0.426424,…\n",
       "  \"icc2_its\"    => [23.0, 23.0, 23.0, 23.0, 23.0, 23.0, 23.0, 22.0, 23.0, 23.0 …\n",
       "  \"cmg2_solve\"  => [0.590286, 0.565145, 0.685334, 0.642712, 0.604927, 0.653805,…\n",
       "  \"icc_build\"   => [0.124076, 0.131464, 0.129138, 0.14544, 0.137922, 0.130037, …\n",
       "  \"cmg_err\"     => [9.72368e-9, 3.25429e-9, 4.38548e-9, 4.95386e-9, 4.17065e-9,…\n",
       "  \"lamg_err\"    => [2.15097e-6, 2.04949e-6, 2.199e-6, 2.15268e-6, 2.13093e-6, 2…\n",
       "  \"ac_build\"    => [0.971197, 0.900444, 0.893364, 0.879603, 0.883656, 0.895206,…\n",
       "  \"cmg2_its\"    => [19.0, 18.0, 19.0, 19.0, 19.0, 19.0, 19.0, 19.0, 19.0, 18.0 …\n",
       "  \"hypre_build\" => [1.97, 1.95, 1.94, 1.97, 2.0, 2.01, 1.97, 1.98, 1.99, 2.0  ……\n",
       "  \"hypre_err\"   => [7.60113e-9, 7.45311e-9, 8.06688e-9, 7.26374e-9, 6.26431e-9,…\n",
       "  \"icc_tot\"     => [0.508589, 0.548826, 0.520816, 0.564155, 0.521625, 0.556461,…\n",
       "  \"icc2_err\"    => [8.46962e-9, 6.63568e-9, 7.13267e-9, 6.83034e-9, 7.86672e-9,…\n",
       "  \"testName\"    => [\"chimeraIPM.n100000.i1.eps0.1.1\", \"chimeraIPM.n100000.i1.ep…\n",
       "  \"cmg2_err\"    => [5.79277e-9, 7.93777e-9, 6.96157e-9, 4.96097e-9, 6.78977e-9,…\n",
       "  \"icc2_build\"  => [0.123964, 0.128982, 0.128646, 0.140347, 0.127555, 0.123307,…\n",
       "  \"lamg_build\"  => [1.07675, 1.11742, 1.13655, 1.13066, 1.09797, 1.09307, 1.100…\n",
       "  \"lamg_solve\"  => [0.822568, 0.902733, 0.886765, 0.866826, 0.864624, 0.84768, …\n",
       "  \"hypre_its\"   => [8.0, 8.0, 8.0, 8.0, 8.0, 8.0, 8.0, 8.0, 8.0, 8.0  …  9.0, 9…\n",
       "  ⋮             => ⋮"
      ]
     },
     "execution_count": 4,
     "metadata": {},
     "output_type": "execute_result"
    }
   ],
   "source": [
    "@load \"chimeraIPM_nopetsc.jl.split02merge02.jld2\"\n",
    "dic1 = copy(dic)"
   ]
  },
  {
   "cell_type": "code",
   "execution_count": 5,
   "metadata": {},
   "outputs": [],
   "source": [
    "import Laplacians.initDictCol!\n",
    "dics = [Dict(),Dict(),Dict(),Dict(),Dict()]\n",
    "\n",
    "for key in keys(dic1)\n",
    "    for i in 1:length(dics)\n",
    "        initDictCol!(dics[i], key, typeof(dic1[key][1]))\n",
    "        #@show dics[i]\n",
    "    end\n",
    "end\n",
    "\n",
    "for i in 1:length(dic1[\"testName\"])\n",
    "    tn = dic1[\"testName\"][i]\n",
    "    curTargetEps = 0.0\n",
    "    if occursin(\"e\", (split(tn, \".\")[4][4:end]))\n",
    "        curTargetEps = parse(Float64, (split(tn, \".\")[4][4:end]))\n",
    "    else\n",
    "        curTargetEps = parse(Float64, string(split(tn, \".\")[4][4:end], \".\", split(tn, \".\")[5]))\n",
    "    end\n",
    "    curTargetEpsInd = round(Int, -log10(curTargetEps))\n",
    "    for key in keys(dic1)\n",
    "        if key == \"names\"\n",
    "            continue\n",
    "        end\n",
    "        push!(dics[curTargetEpsInd][key], dic1[key][i])\n",
    "    end\n",
    "end\n",
    "\n",
    "for i in 1:length(dics)\n",
    "    dics[i][\"names\"] = dic1[\"names\"]\n",
    "end"
   ]
  },
  {
   "cell_type": "code",
   "execution_count": 6,
   "metadata": {},
   "outputs": [
    {
     "data": {
      "text/plain": [
       "nanErr! (generic function with 1 method)"
      ]
     },
     "execution_count": 6,
     "metadata": {},
     "output_type": "execute_result"
    }
   ],
   "source": [
    "function nanErr!(d)\n",
    "    for (key, value) in d\n",
    "        if occursin(\"err\", key)\n",
    "            for i in 1:length(value)\n",
    "                if isnan(value[i])\n",
    "                    d[key][i] = Inf\n",
    "                end\n",
    "            end\n",
    "        end\n",
    "    end\n",
    "end"
   ]
  },
  {
   "cell_type": "code",
   "execution_count": 7,
   "metadata": {},
   "outputs": [],
   "source": [
    "nanErr!.(dics);"
   ]
  },
  {
   "cell_type": "code",
   "execution_count": 8,
   "metadata": {},
   "outputs": [
    {
     "data": {
      "text/plain": [
       "ffe3 (generic function with 1 method)"
      ]
     },
     "execution_count": 8,
     "metadata": {},
     "output_type": "execute_result"
    }
   ],
   "source": [
    "using Printf\n",
    "\n",
    "function sd(d,x)\n",
    "    #scale = exp10(ceil(log10(abs(x)))-d)\n",
    "    #return round(x/scale)*scale\n",
    "    return round(x, sigdigits=3)\n",
    "end        \n",
    "ff(s) = (@sprintf \"%.4g\" sd(3,s))\n",
    "nf(s) = (@sprintf \"%d\" sd(3,s))\n",
    "ffK(s) = (@sprintf \"%.4g\" sd(3,s)/1000)\n",
    "nfK(s) =  round(Int64, sd(3,s)/1000)\n",
    "ffe8(s) = (@sprintf \"%.3g\" sd(3,s)*1e8)\n",
    "ffe6(s) = (@sprintf \"%.3g\" sd(3,s)*1e6)\n",
    "ffmicro(s) = (@sprintf \"%.4g\" sd(3,s)*1e6)\n",
    "ffe3(s) = (@sprintf \"%.3g\" sd(3,s)*1e3)"
   ]
  },
  {
   "cell_type": "code",
   "execution_count": 9,
   "metadata": {},
   "outputs": [
    {
     "data": {
      "text/plain": [
       "printMax (generic function with 1 method)"
      ]
     },
     "execution_count": 9,
     "metadata": {},
     "output_type": "execute_result"
    }
   ],
   "source": [
    "function labelTvn(tvn, err)\n",
    "    if err <= 1e-8\n",
    "        return ffe6(tvn)\n",
    "    elseif err < 1e-4\n",
    "        return string(ffe6(tvn), \"\\\\tnote{*}\")\n",
    "    elseif err < 1\n",
    "        return string(ffe6(tvn), \"\\\\tnote{**}\")\n",
    "    else\n",
    "        return \"Inf\"\n",
    "    end\n",
    "end\n",
    "\n",
    "function printMedian(d, solver)\n",
    "    if haskey(d, string(solver, \"_tot\")) && length(d[string(solver, \"_tot\")]) == length(d[\"ne\"])\n",
    "        tvn = median(d[string(solver, \"_tot\")] ./ d[\"ne\"] )\n",
    "        err = median(d[string(solver, \"_err\")])\n",
    "        return labelTvn(tvn, err)\n",
    "    else\n",
    "        return \"N/A\"\n",
    "    end\n",
    "end\n",
    "\n",
    "function print75(d, solver)\n",
    "    if haskey(d, string(solver, \"_tot\")) && length(d[string(solver, \"_tot\")]) == length(d[\"ne\"])\n",
    "        tvn = quantile(d[string(solver, \"_tot\")] ./ d[\"ne\"], 0.75)\n",
    "        err = quantile(d[string(solver, \"_err\")], 0.75)\n",
    "        return labelTvn(tvn, err)\n",
    "    else\n",
    "        return \"N/A\"\n",
    "    end\n",
    "end\n",
    "\n",
    "function printMax(d, solver)\n",
    "    if haskey(d, string(solver, \"_tot\")) && length(d[string(solver, \"_tot\")]) == length(d[\"ne\"])\n",
    "        tvn = maximum(d[string(solver, \"_tot\")] ./ d[\"ne\"])\n",
    "        err = maximum(d[string(solver, \"_err\")])\n",
    "        return labelTvn(tvn, err)\n",
    "    else\n",
    "        return \"N/A\"\n",
    "    end\n",
    "end"
   ]
  },
  {
   "cell_type": "code",
   "execution_count": 10,
   "metadata": {},
   "outputs": [
    {
     "data": {
      "text/plain": [
       "printAllLines (generic function with 1 method)"
      ]
     },
     "execution_count": 10,
     "metadata": {},
     "output_type": "execute_result"
    }
   ],
   "source": [
    "function printSolverCell(d, solver) \n",
    "    return string(printMedian(d, solver), \"&\", print75(d, solver), \"&\", printMax(d, solver))\n",
    "end\n",
    "\n",
    "function printOneLine(d, solvers, i)\n",
    "    allCells = [printSolverCell(d, solver) for solver in solvers]\n",
    "    println(string(ffe3(1 / 10^i), \"&\", length(d[\"testName\"]), \"&\", join(allCells, \"&\"), \"\\\\\\\\\"))\n",
    "end\n",
    "\n",
    "function printAllLines(dics, solvers)\n",
    "    for i in 1:length(dics)\n",
    "        printOneLine(dics[i], solvers, i)\n",
    "    end\n",
    "end"
   ]
  },
  {
   "cell_type": "code",
   "execution_count": 11,
   "metadata": {},
   "outputs": [
    {
     "name": "stdout",
     "output_type": "stream",
     "text": [
      "100&28&0.68&0.774&1.2&1.27&1.79&2.39&1.62&2.01&Inf\\\\\n",
      "10&27&0.678&0.777&1.15&1.27&1.8&2.36&1.78&2.09&2.37\\\\\n",
      "1&27&0.68&0.763&1.14&1.25&1.79&2.38&1.77&2.08&2.67\\\\\n",
      "0.1&27&0.683&0.784&1.15&1.27&1.79&2.36&1.65&2.16&2.53\\\\\n",
      "0.01&19&0.681&0.777&1.15&1.28&1.78&2.37&1.79&2.15&2.62\\\\\n"
     ]
    }
   ],
   "source": [
    "solvers=[\"ac\", \"ac-s2m2\", \"cmg2\"]\n",
    "printAllLines(dics, solvers)"
   ]
  },
  {
   "cell_type": "code",
   "execution_count": 12,
   "metadata": {},
   "outputs": [
    {
     "name": "stdout",
     "output_type": "stream",
     "text": [
      "100&28&1.54&2.27&5.04&N/A&N/A&N/A&0.971&1.38&3.25\\\\\n",
      "10&27&1.52&2.29&4.82&N/A&N/A&N/A&1.09&1.41&3.19\\\\\n",
      "1&27&1.52&2.32&4.94\\tnote{*}&N/A&N/A&N/A&1.16&1.49&3.31\\\\\n",
      "0.1&27&1.53&2.29&4.86\\tnote{*}&N/A&N/A&N/A&1.02&1.31&3.28\\\\\n",
      "0.01&19&1.52&2.3&4.58\\tnote{*}&N/A&N/A&N/A&1.11&1.52&3.05\\\\\n"
     ]
    }
   ],
   "source": [
    "solvers = [\"hypre\", \"petsc_hypre\", \"icc2\"]\n",
    "printAllLines(dics, solvers)"
   ]
  }
 ],
 "metadata": {
  "kernelspec": {
   "display_name": "Julia 1.5.3",
   "language": "julia",
   "name": "julia-1.5"
  },
  "language_info": {
   "file_extension": ".jl",
   "mimetype": "application/julia",
   "name": "julia",
   "version": "1.5.3"
  },
  "orig_nbformat": 4
 },
 "nbformat": 4,
 "nbformat_minor": 2
}
