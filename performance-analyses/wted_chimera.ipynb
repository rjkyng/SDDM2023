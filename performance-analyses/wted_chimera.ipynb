{
 "cells": [
  {
   "cell_type": "code",
   "execution_count": 1,
   "metadata": {},
   "outputs": [],
   "source": [
    "using JLD2\n",
    "using Statistics\n",
    "using Revise\n",
    "using Plots \n",
    "using Laplacians"
   ]
  },
  {
   "cell_type": "code",
   "execution_count": 2,
   "metadata": {},
   "outputs": [
    {
     "data": {
      "text/plain": [
       "nanErr! (generic function with 1 method)"
      ]
     },
     "execution_count": 2,
     "metadata": {},
     "output_type": "execute_result"
    }
   ],
   "source": [
    "function nanErr!(d)\n",
    "    for (key, value) in d\n",
    "        if occursin(\"err\", key)\n",
    "            for i in 1:length(value)\n",
    "                if isnan(value[i])\n",
    "                    d[key][i] = Inf\n",
    "                end\n",
    "            end\n",
    "        end\n",
    "    end\n",
    "end"
   ]
  },
  {
   "cell_type": "code",
   "execution_count": 4,
   "metadata": {},
   "outputs": [
    {
     "data": {
      "text/plain": [
       "Dict{Any,Any} with 44 entries:\n",
       "  \"hypre_solve\" => [933.33, 160.63, Inf, 72.56, 256.45, 123.59, 195.46, 199.09]\n",
       "  \"icc2_tot\"    => [848.565, 397.734, 45.3928, 1110.36, 1544.77, 882.98, 884.11…\n",
       "  \"lamg_its\"    => [Inf, Inf, Inf, 2.0, 11.0, 9.0, Inf, Inf]\n",
       "  \"ac_tot\"      => [220.359, 197.952, 134.363, 174.693, 471.167, 312.723, 436.1…\n",
       "  \"icc2_solve\"  => [833.318, 378.335, 29.3293, 1092.6, 1524.96, 860.902, 863.36…\n",
       "  \"hypre_tot\"   => [1159.99, 413.61, Inf, 186.37, 612.68, 326.37, 438.17, 432.5…\n",
       "  \"ac-s2m2_its\" => [34.0, 17.0, 21.0, 26.0, 28.0, 20.0, 36.0, 22.0]\n",
       "  \"icc_solve\"   => [744.837, 323.045, 21.7609, 748.333, 1255.83, 812.707, 634.6…\n",
       "  \"icc2_its\"    => [743.0, 261.0, 23.0, 958.0, 987.0, 517.0, 506.0, 540.0]\n",
       "  \"cmg2_solve\"  => [159.606, 286.223, 204.283, 136.845, 229.339, 313.861, 188.2…\n",
       "  \"icc_build\"   => [19.8467, 30.5808, 19.2364, 24.2287, 36.4185, 35.7064, 32.24…\n",
       "  \"cmg_err\"     => [9.32752e-9, 7.59333e-9, 9.447e-9, 6.74696e-9, 9.14326e-9, 9…\n",
       "  \"lamg_err\"    => [Inf, Inf, Inf, Inf, 1.02658e-5, 4.20736e-5, Inf, Inf]\n",
       "  \"ac_build\"    => [44.3693, 75.0503, 53.7917, 40.3825, 124.858, 92.1574, 106.9…\n",
       "  \"cmg2_its\"    => [50.0, 47.0, 63.0, 27.0, 33.0, 35.0, 33.0, 45.0]\n",
       "  \"hypre_build\" => [226.66, 252.98, Inf, 113.81, 356.23, 202.78, 242.71, 233.5]\n",
       "  \"hypre_err\"   => [0.00449053, 6.63516e-9, Inf, 1.82912e-9, 2.69957e-9, 6.4102…\n",
       "  \"icc_tot\"     => [764.683, 353.626, 40.9973, 772.561, 1292.25, 848.413, 666.8…\n",
       "  \"icc2_err\"    => [9.74321e-9, 9.76145e-9, 8.05797e-9, 7.49554e-8, 1.263e-8, 9…\n",
       "  \"testName\"    => [\"wted_chimera(10000000,1)\", \"wted_chimera(10000000,2)\", \"wt…\n",
       "  \"cmg2_err\"    => [8.2791e-9, 8.24464e-9, 9.44419e-9, 5.61475e-9, 9.14675e-9, …\n",
       "  \"icc2_build\"  => [15.2464, 19.3988, 16.0635, 17.7641, 19.8038, 22.0777, 20.75…\n",
       "  \"lamg_build\"  => [Inf, Inf, Inf, 10.913, 213.162, 168.569, Inf, Inf]\n",
       "  \"lamg_solve\"  => [Inf, Inf, Inf, 0.039076, 360.997, 148.984, Inf, Inf]\n",
       "  \"hypre_its\"   => [100.0, 15.0, Inf, 9.0, 11.0, 12.0, 13.0, 13.0]\n",
       "  ⋮             => ⋮"
      ]
     },
     "execution_count": 4,
     "metadata": {},
     "output_type": "execute_result"
    }
   ],
   "source": [
    "@load \"wted_chimera_nopetsc.jl.split02merge02.n10000.h1.0.jld2\"\n",
    "dic1 = copy(dic)\n",
    "@load \"wted_chimera_nopetsc.jl.split02merge02.n100000.h2.0.jld2\"\n",
    "dic2 = copy(dic)\n",
    "@load \"wted_chimera_nopetsc.jl.split02merge02.n1000000.h4.0.jld2\"\n",
    "dic3 = copy(dic)\n",
    "@load \"wted_chimera_nopetsc.jl.split02merge02.n10000000.h8.0.jld2\"\n",
    "dic4 = copy(dic)"
   ]
  },
  {
   "cell_type": "code",
   "execution_count": 5,
   "metadata": {},
   "outputs": [],
   "source": [
    "nanErr!(dic1);\n",
    "nanErr!(dic2);\n",
    "nanErr!(dic3);\n",
    "nanErr!(dic4);"
   ]
  },
  {
   "cell_type": "code",
   "execution_count": 6,
   "metadata": {},
   "outputs": [
    {
     "data": {
      "text/plain": [
       "ffmicro (generic function with 1 method)"
      ]
     },
     "execution_count": 6,
     "metadata": {},
     "output_type": "execute_result"
    }
   ],
   "source": [
    "using Printf\n",
    "\n",
    "function sd(d,x)\n",
    "    #scale = exp10(ceil(log10(abs(x)))-d)\n",
    "    #return round(x/scale)*scale\n",
    "    return round(x, sigdigits=3)\n",
    "end        \n",
    "ff(s) = (@sprintf \"%.4g\" sd(3,s))\n",
    "nf(s) = (@sprintf \"%d\" sd(3,s))\n",
    "ffK(s) = (@sprintf \"%.4g\" sd(3,s)/1000)\n",
    "nfK(s) =  round(Int64, sd(3,s)/1000)\n",
    "ffe8(s) = (@sprintf \"%.3g\" sd(3,s)*1e8)\n",
    "ffe6(s) = (@sprintf \"%.3g\" sd(3,s)*1e6)\n",
    "ffmicro(s) = (@sprintf \"%.4g\" sd(3,s)*1e6)"
   ]
  },
  {
   "cell_type": "code",
   "execution_count": 7,
   "metadata": {},
   "outputs": [
    {
     "data": {
      "text/plain": [
       "printMax (generic function with 1 method)"
      ]
     },
     "execution_count": 7,
     "metadata": {},
     "output_type": "execute_result"
    }
   ],
   "source": [
    "function labelTvn(tvn, err)\n",
    "    if err <= 1e-8\n",
    "        return ffe6(tvn)\n",
    "    elseif err < 1e-4\n",
    "        return string(ffe6(tvn), \"\\\\tnote{*}\")\n",
    "    elseif err < 1\n",
    "        return string(ffe6(tvn), \"\\\\tnote{**}\")\n",
    "    else\n",
    "        return \"Inf\"\n",
    "    end\n",
    "end\n",
    "\n",
    "function printMedian(d, solver)\n",
    "    if haskey(d, string(solver, \"_tot\")) && length(d[string(solver, \"_tot\")]) == length(d[\"ne\"])\n",
    "        tvn = median(d[string(solver, \"_tot\")] ./ d[\"ne\"] )\n",
    "        err = median(d[string(solver, \"_err\")])\n",
    "        return labelTvn(tvn, err)\n",
    "    else\n",
    "        return \"N/A\"\n",
    "    end\n",
    "end\n",
    "\n",
    "function print75(d, solver)\n",
    "    if haskey(d, string(solver, \"_tot\")) && length(d[string(solver, \"_tot\")]) == length(d[\"ne\"])\n",
    "        tvn = quantile(d[string(solver, \"_tot\")] ./ d[\"ne\"], 0.75)\n",
    "        err = quantile(d[string(solver, \"_err\")], 0.75)\n",
    "        return labelTvn(tvn, err)\n",
    "    else\n",
    "        return \"N/A\"\n",
    "    end\n",
    "end\n",
    "\n",
    "function printMax(d, solver)\n",
    "    if haskey(d, string(solver, \"_tot\")) && length(d[string(solver, \"_tot\")]) == length(d[\"ne\"])\n",
    "        tvn = maximum(d[string(solver, \"_tot\")] ./ d[\"ne\"])\n",
    "        err = maximum(d[string(solver, \"_err\")])\n",
    "        return labelTvn(tvn, err)\n",
    "    else\n",
    "        return \"N/A\"\n",
    "    end\n",
    "end"
   ]
  },
  {
   "cell_type": "code",
   "execution_count": 8,
   "metadata": {},
   "outputs": [
    {
     "data": {
      "text/plain": [
       "printAllLines (generic function with 1 method)"
      ]
     },
     "execution_count": 8,
     "metadata": {},
     "output_type": "execute_result"
    }
   ],
   "source": [
    "function printSolverCell(d, solver) \n",
    "    return string(printMedian(d, solver), \"&\", print75(d, solver), \"&\", printMax(d, solver))\n",
    "end\n",
    "\n",
    "function printOneLine(d, solvers)\n",
    "    allCells = [printSolverCell(d, solver) for solver in solvers]\n",
    "    println(string(nfK(d[\"nv\"][1]), \"&\", length(d[\"testName\"]), \"&\", join(allCells, \"&\"), \"\\\\\\\\\"))\n",
    "end\n",
    "\n",
    "function printAllLines(dics, solvers)\n",
    "    for d in dics\n",
    "        printOneLine(d, solvers)\n",
    "    end\n",
    "end"
   ]
  },
  {
   "cell_type": "code",
   "execution_count": 9,
   "metadata": {},
   "outputs": [],
   "source": [
    "dics = [dic1, dic2, dic3, dic4];"
   ]
  },
  {
   "cell_type": "code",
   "execution_count": 10,
   "metadata": {},
   "outputs": [
    {
     "name": "stdout",
     "output_type": "stream",
     "text": [
      "10&103&0.365&0.405&0.455&0.572&0.729&0.939&8.09&11.1&22\\\\\n",
      "100&105&0.605&0.745&1.31&0.908&1.26&2.25&1.84&2.51&Inf\\\\\n",
      "1000&23&1.5&1.8&2.19&1.67&2.53&3.37&1.84&2.65&Inf\\\\\n",
      "10000&8&3.16&4.21&4.39&3.83&4.19&4.79&3.21&3.55&6.22\\\\\n"
     ]
    }
   ],
   "source": [
    "solvers=[\"ac\", \"ac-s2m2\", \"cmg2\"]\n",
    "printAllLines(dics, solvers)"
   ]
  },
  {
   "cell_type": "code",
   "execution_count": 11,
   "metadata": {},
   "outputs": [
    {
     "name": "stdout",
     "output_type": "stream",
     "text": [
      "10&103&0.968&1.36&5.18\\tnote{**}&4.58&11.2&32.9\\tnote{*}&4.71&5.82&Inf\\\\\n",
      "100&105&1.25&2.3&7.7\\tnote{**}&12.9&33.3&151\\tnote{*}&1.9&3.35&Inf\\\\\n",
      "1000&23&3.24&5.8&15.8\\tnote{*}&52.5&218&861\\tnote{*}&4.46&10.7&Inf\\\\\n",
      "10000&8&4.88&10.7\\tnote{**}&Inf&N/A&N/A&N/A&9.03&14.5\\tnote{*}&17\\tnote{*}\\\\\n"
     ]
    }
   ],
   "source": [
    "solvers = [\"hypre\", \"petsc_hypre\", \"icc2\"]\n",
    "printAllLines(dics, solvers)"
   ]
  }
 ],
 "metadata": {
  "kernelspec": {
   "display_name": "Julia 1.5.3",
   "language": "julia",
   "name": "julia-1.5"
  },
  "language_info": {
   "file_extension": ".jl",
   "mimetype": "application/julia",
   "name": "julia",
   "version": "1.5.3"
  }
 },
 "nbformat": 4,
 "nbformat_minor": 4
}
