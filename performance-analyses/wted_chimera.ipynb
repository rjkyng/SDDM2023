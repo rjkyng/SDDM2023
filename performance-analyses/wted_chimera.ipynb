{
 "cells": [
  {
   "cell_type": "code",
   "execution_count": 1,
   "metadata": {},
   "outputs": [],
   "source": [
    "using JLD2\n",
    "using Statistics\n",
    "using Revise\n",
    "using Plots \n",
    "using Laplacians"
   ]
  },
  {
   "cell_type": "code",
   "execution_count": 2,
   "metadata": {},
   "outputs": [
    {
     "data": {
      "text/plain": [
       "nanErr! (generic function with 1 method)"
      ]
     },
     "execution_count": 2,
     "metadata": {},
     "output_type": "execute_result"
    }
   ],
   "source": [
    "function nanErr!(d)\n",
    "    for (key, value) in d\n",
    "        if occursin(\"err\", key)\n",
    "            for i in 1:length(value)\n",
    "                if isnan(value[i])\n",
    "                    d[key][i] = Inf\n",
    "                end\n",
    "            end\n",
    "        end\n",
    "    end\n",
    "end"
   ]
  },
  {
   "cell_type": "code",
   "execution_count": 3,
   "metadata": {},
   "outputs": [
    {
     "data": {
      "text/plain": [
       "Dict{Any, Any} with 44 entries:\n",
       "  \"lamg_build\"    => [Inf, Inf, Inf, 10.913, 213.162, 168.569, Inf, Inf]\n",
       "  \"hypre_solve\"   => [933.33, 160.63, Inf, 72.56, 256.45, 123.59, 195.46, 199.0…\n",
       "  \"icc2_tot\"      => [1003.14, 66.3418, 117.815, 128.421, 581.033, 23.247, 870.…\n",
       "  \"lamg_its\"      => [Inf, Inf, Inf, 2.0, 11.0, 9.0, Inf, Inf]\n",
       "  \"lamg_solve\"    => [Inf, Inf, Inf, 0.039076, 360.997, 148.984, Inf, Inf]\n",
       "  \"hypre_its\"     => [100.0, 15.0, Inf, 9.0, 11.0, 12.0, 13.0, 13.0]\n",
       "  \"cmg_solve\"     => [148.3, 194.547, 272.631, 94.5497, 205.948, 230.596, 179.0…\n",
       "  \"ac_tot\"        => [220.359, 197.952, 134.363, 174.693, 471.167, 312.723, 436…\n",
       "  \"cmg_build\"     => [53.0565, 92.4052, 51.9285, 44.2512, 80.9803, 118.067, 82.…\n",
       "  \"icc2_solve\"    => [981.747, 47.1463, 103.726, 102.486, 562.436, 0.581979, 85…\n",
       "  \"hypre_tot\"     => [1159.99, 413.61, Inf, 186.37, 612.68, 326.37, 438.17, 432…\n",
       "  \"ac-s2m2_its\"   => [34.0, 17.0, 21.0, 26.0, 28.0, 20.0, 36.0, 22.0]\n",
       "  \"icc_solve\"     => [744.837, 323.045, 21.7609, 748.333, 1255.83, 812.707, 634…\n",
       "  \"ac_err\"        => [7.35224e-9, 7.66651e-9, 9.37287e-9, 9.29868e-9, 7.94293e-…\n",
       "  \"icc2_its\"      => [981.0, 26.0, 154.0, 39.0, 484.0, Inf, 677.0, 126.0]\n",
       "  \"cmg2_solve\"    => [130.845, 89.9088, 167.769, 178.049, 505.929, 10.5565, 99.…\n",
       "  \"ac-s2m2_build\" => [76.1688, 152.551, 102.544, 60.1506, 191.98, 120.422, 168.…\n",
       "  \"icc_err\"       => [9.93302e-9, 9.73733e-9, 7.88012e-9, 7.64078e-8, 1.33903e-…\n",
       "  \"cmg2_tot\"      => [168.237, 144.308, 202.783, 242.257, 554.226, 58.9447, 117…\n",
       "  \"icc_build\"     => [19.8467, 30.5808, 19.2364, 24.2287, 36.4185, 35.7064, 32.…\n",
       "  \"cmg_err\"       => [9.32752e-9, 7.59333e-9, 9.447e-9, 6.74696e-9, 9.14326e-9,…\n",
       "  \"lamg_tot\"      => [Inf, Inf, Inf, 10.9521, 574.159, 317.553, Inf, Inf]\n",
       "  \"lamg_err\"      => [Inf, Inf, Inf, Inf, 1.02658e-5, 4.20736e-5, Inf, Inf]\n",
       "  \"icc_its\"       => [717.0, 285.0, 22.0, 980.0, 1000.0, 542.0, 503.0, 538.0]\n",
       "  \"ac_build\"      => [44.3693, 75.0503, 53.7917, 40.3825, 124.858, 92.1574, 106…\n",
       "  ⋮               => ⋮"
      ]
     },
     "execution_count": 3,
     "metadata": {},
     "output_type": "execute_result"
    }
   ],
   "source": [
    "@load \"wted_chimera_nopetsc.jl.split02merge02.n10000.h1.0.jld2\"\n",
    "dic1 = copy(dic)\n",
    "@load \"wted_chimera_nopetsc.jl.split02merge02.n100000.h2.0.jld2\"\n",
    "dic2 = copy(dic)\n",
    "@load \"wted_chimera_nopetsc.jl.split02merge02.n1000000.h4.0.jld2\"\n",
    "dic3 = copy(dic)\n",
    "@load \"wted_chimera_nopetsc.jl.split02merge02.n10000000.h8.0.jld2\"\n",
    "dic4 = copy(dic)"
   ]
  },
  {
   "cell_type": "code",
   "execution_count": 4,
   "metadata": {},
   "outputs": [],
   "source": [
    "nanErr!(dic1);\n",
    "nanErr!(dic2);\n",
    "nanErr!(dic3);\n",
    "nanErr!(dic4);"
   ]
  },
  {
   "cell_type": "code",
   "execution_count": 5,
   "metadata": {},
   "outputs": [
    {
     "data": {
      "text/plain": [
       "ffmicro (generic function with 1 method)"
      ]
     },
     "execution_count": 5,
     "metadata": {},
     "output_type": "execute_result"
    }
   ],
   "source": [
    "using Printf\n",
    "\n",
    "function sd(d,x)\n",
    "    #scale = exp10(ceil(log10(abs(x)))-d)\n",
    "    #return round(x/scale)*scale\n",
    "    return round(x, sigdigits=3)\n",
    "end        \n",
    "ff(s) = (@sprintf \"%.4g\" sd(3,s))\n",
    "nf(s) = (@sprintf \"%d\" sd(3,s))\n",
    "ffK(s) = (@sprintf \"%.4g\" sd(3,s)/1000)\n",
    "nfK(s) =  round(Int64, sd(3,s)/1000)\n",
    "ffe8(s) = (@sprintf \"%.3g\" sd(3,s)*1e8)\n",
    "ffe6(s) = (@sprintf \"%.3g\" sd(3,s)*1e6)\n",
    "ffmicro(s) = (@sprintf \"%.4g\" sd(3,s)*1e6)"
   ]
  },
  {
   "cell_type": "code",
   "execution_count": 6,
   "metadata": {},
   "outputs": [
    {
     "data": {
      "text/plain": [
       "printMax (generic function with 1 method)"
      ]
     },
     "execution_count": 6,
     "metadata": {},
     "output_type": "execute_result"
    }
   ],
   "source": [
    "function labelTvn(tvn, err)\n",
    "    if err <= 1e-8\n",
    "        return ffe6(tvn)\n",
    "    elseif err < 1e-4\n",
    "        return string(ffe6(tvn), \"\\\\tnote{*}\")\n",
    "    elseif err < 1\n",
    "        return string(ffe6(tvn), \"\\\\tnote{**}\")\n",
    "    else\n",
    "        return \"Inf\"\n",
    "    end\n",
    "end\n",
    "\n",
    "function printMedian(d, solver)\n",
    "    if haskey(d, string(solver, \"_tot\")) && length(d[string(solver, \"_tot\")]) == length(d[\"ne\"])\n",
    "        tvn = median(d[string(solver, \"_tot\")] ./ d[\"ne\"] )\n",
    "        err = median(d[string(solver, \"_err\")])\n",
    "        return labelTvn(tvn, err)\n",
    "    else\n",
    "        return \"N/A\"\n",
    "    end\n",
    "end\n",
    "\n",
    "function print75(d, solver)\n",
    "    if haskey(d, string(solver, \"_tot\")) && length(d[string(solver, \"_tot\")]) == length(d[\"ne\"])\n",
    "        tvn = quantile(d[string(solver, \"_tot\")] ./ d[\"ne\"], 0.75)\n",
    "        err = quantile(d[string(solver, \"_err\")], 0.75)\n",
    "        return labelTvn(tvn, err)\n",
    "    else\n",
    "        return \"N/A\"\n",
    "    end\n",
    "end\n",
    "\n",
    "function printMax(d, solver)\n",
    "    if haskey(d, string(solver, \"_tot\")) && length(d[string(solver, \"_tot\")]) == length(d[\"ne\"])\n",
    "        tvn = maximum(d[string(solver, \"_tot\")] ./ d[\"ne\"])\n",
    "        err = maximum(d[string(solver, \"_err\")])\n",
    "        return labelTvn(tvn, err)\n",
    "    else\n",
    "        return \"N/A\"\n",
    "    end\n",
    "end"
   ]
  },
  {
   "cell_type": "code",
   "execution_count": 7,
   "metadata": {},
   "outputs": [
    {
     "data": {
      "text/plain": [
       "printAllLines (generic function with 1 method)"
      ]
     },
     "execution_count": 7,
     "metadata": {},
     "output_type": "execute_result"
    }
   ],
   "source": [
    "function printSolverCell(d, solver) \n",
    "    return string(printMedian(d, solver), \"&\", print75(d, solver), \"&\", printMax(d, solver))\n",
    "end\n",
    "\n",
    "function printOneLine(d, solvers)\n",
    "    allCells = [printSolverCell(d, solver) for solver in solvers]\n",
    "    println(string(nfK(d[\"nv\"][1]), \"&\", length(d[\"testName\"]), \"&\", join(allCells, \"&\"), \"\\\\\\\\\"))\n",
    "end\n",
    "\n",
    "function printAllLines(dics, solvers)\n",
    "    for d in dics\n",
    "        printOneLine(d, solvers)\n",
    "    end\n",
    "end"
   ]
  },
  {
   "cell_type": "code",
   "execution_count": 8,
   "metadata": {},
   "outputs": [],
   "source": [
    "dics = [dic1, dic2, dic3, dic4];"
   ]
  },
  {
   "cell_type": "code",
   "execution_count": 9,
   "metadata": {},
   "outputs": [
    {
     "name": "stdout",
     "output_type": "stream",
     "text": [
      "10&103&0.365&0.405&0.455&0.572&0.729&0.939&8.27&11.6&31.1\\\\\n",
      "100&105&0.605&0.745&1.31&0.908&1.26&2.25&1.85&2.74&Inf\\\\\n",
      "1000&23&1.5&1.8&2.19&1.67&2.53&3.37&2.1&2.98&11.2\\tnote{*}\\\\\n",
      "10000&8&3.16&4.21&4.39&3.83&4.19&4.79&3.43&4&Inf\\\\\n"
     ]
    }
   ],
   "source": [
    "solvers=[\"ac\", \"ac-s2m2\", \"cmg2\"]\n",
    "printAllLines(dics, solvers)"
   ]
  },
  {
   "cell_type": "code",
   "execution_count": 10,
   "metadata": {},
   "outputs": [
    {
     "name": "stdout",
     "output_type": "stream",
     "text": [
      "10&103&0.968&1.36&5.18\\tnote{**}&4.58&11.2&32.9\\tnote{*}&5.07&6.66&17.3\\tnote{*}\\\\\n",
      "100&105&1.25&2.3&7.7\\tnote{**}&12.9&33.3&151\\tnote{*}&2.95&5.34&Inf\\\\\n",
      "1000&23&3.24&5.8&15.8\\tnote{*}&52.5&218&861\\tnote{*}&9.29&21.1\\tnote{*}&65.3\\tnote{*}\\\\\n",
      "10000&8&4.88&10.7\\tnote{**}&Inf&N/A&N/A&N/A&2.92&6.01\\tnote{*}&Inf\\\\\n"
     ]
    }
   ],
   "source": [
    "solvers = [\"hypre\", \"petsc_hypre\", \"icc2\"]\n",
    "printAllLines(dics, solvers)"
   ]
  }
 ],
 "metadata": {
  "kernelspec": {
   "display_name": "Julia 1.10.2",
   "language": "julia",
   "name": "julia-1.10"
  },
  "language_info": {
   "file_extension": ".jl",
   "mimetype": "application/julia",
   "name": "julia",
   "version": "1.10.2"
  }
 },
 "nbformat": 4,
 "nbformat_minor": 4
}
