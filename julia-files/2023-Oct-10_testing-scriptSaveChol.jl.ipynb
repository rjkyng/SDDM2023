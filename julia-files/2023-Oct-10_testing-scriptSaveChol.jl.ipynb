{
 "cells": [
  {
   "cell_type": "code",
   "execution_count": 1,
   "metadata": {},
   "outputs": [],
   "source": [
    "using Laplacians\n",
    "using SparseArrays\n",
    "using LinearAlgebra"
   ]
  },
  {
   "cell_type": "markdown",
   "metadata": {},
   "source": [
    "# testing AC2"
   ]
  },
  {
   "cell_type": "code",
   "execution_count": 2,
   "metadata": {},
   "outputs": [
    {
     "data": {
      "text/plain": [
       "12×12 SparseMatrixCSC{Float64, Int64} with 34 stored entries:\n",
       "  ⋅   1.0   ⋅    ⋅   1.0   ⋅    ⋅    ⋅    ⋅    ⋅    ⋅    ⋅ \n",
       " 1.0   ⋅   1.0   ⋅    ⋅   1.0   ⋅    ⋅    ⋅    ⋅    ⋅    ⋅ \n",
       "  ⋅   1.0   ⋅   1.0   ⋅    ⋅   1.0   ⋅    ⋅    ⋅    ⋅    ⋅ \n",
       "  ⋅    ⋅   1.0   ⋅    ⋅    ⋅    ⋅   1.0   ⋅    ⋅    ⋅    ⋅ \n",
       " 1.0   ⋅    ⋅    ⋅    ⋅   1.0   ⋅    ⋅   1.0   ⋅    ⋅    ⋅ \n",
       "  ⋅   1.0   ⋅    ⋅   1.0   ⋅   1.0   ⋅    ⋅   1.0   ⋅    ⋅ \n",
       "  ⋅    ⋅   1.0   ⋅    ⋅   1.0   ⋅   1.0   ⋅    ⋅   1.0   ⋅ \n",
       "  ⋅    ⋅    ⋅   1.0   ⋅    ⋅   1.0   ⋅    ⋅    ⋅    ⋅   1.0\n",
       "  ⋅    ⋅    ⋅    ⋅   1.0   ⋅    ⋅    ⋅    ⋅   1.0   ⋅    ⋅ \n",
       "  ⋅    ⋅    ⋅    ⋅    ⋅   1.0   ⋅    ⋅   1.0   ⋅   1.0   ⋅ \n",
       "  ⋅    ⋅    ⋅    ⋅    ⋅    ⋅   1.0   ⋅    ⋅   1.0   ⋅   1.0\n",
       "  ⋅    ⋅    ⋅    ⋅    ⋅    ⋅    ⋅   1.0   ⋅    ⋅   1.0   ⋅ "
      ]
     },
     "execution_count": 2,
     "metadata": {},
     "output_type": "execute_result"
    }
   ],
   "source": [
    "n = 12\n",
    "a = grid2(3,4)"
   ]
  },
  {
   "cell_type": "code",
   "execution_count": 3,
   "metadata": {},
   "outputs": [
    {
     "name": "stdout",
     "output_type": "stream",
     "text": [
      "  0.336701 seconds (434.61 k allocations: 21.803 MiB, 3.35% gc time, 99.71% compilation time)\n"
     ]
    },
    {
     "data": {
      "text/plain": [
       "Laplacians.LDLinv{Int64, Float64}([12, 9, 4, 1, 5, 8, 10, 3, 2, 11, 7], [1, 3, 5, 7, 9, 12, 15, 17, 19, 21, 23, 24], [8, 11, 5, 10, 3, 8, 2, 5, 2, 10  …  7, 6, 11, 7, 2, 7, 6, 6, 7, 6], [0.5, 1.0, 0.5, 1.0, 0.5, 1.0, 0.5, 1.0, 0.25, 0.3333333333333333  …  1.0, 0.5555555555555556, 1.0, 0.5789473684210527, 1.0, 0.2962962962962963, 1.0, 0.3076923076923077, 1.0, 1.0], [0.5, 0.9675925925925926, 0.42105263157894735, 0.5, 0.5, 0.0, 1.792022792022792, 0.5, 0.5, 0.4444444444444444, 0.8653846153846154, 0.5])"
      ]
     },
     "execution_count": 3,
     "metadata": {},
     "output_type": "execute_result"
    }
   ],
   "source": [
    "llmat = Laplacians.LLmatp(a)\n",
    "@time ldli = Laplacians.approxChol(llmat,2,2)"
   ]
  },
  {
   "cell_type": "code",
   "execution_count": 4,
   "metadata": {},
   "outputs": [
    {
     "name": "stdout",
     "output_type": "stream",
     "text": [
      "  0.529630 seconds (18 allocations: 1.788 GiB, 1.10% gc time)\n"
     ]
    },
    {
     "data": {
      "text/plain": [
       "12×12 Adjoint{Float64, SparseMatrixCSC{Float64, Int64}} with 36 stored entries:\n",
       "  1.41421     ⋅          ⋅          ⋅        …   ⋅     ⋅          ⋅ \n",
       " -0.707107   1.39784   -0.648886    ⋅            ⋅     ⋅          ⋅ \n",
       "   ⋅          ⋅         1.5411    -0.707107      ⋅     ⋅          ⋅ \n",
       "   ⋅          ⋅          ⋅         1.41421       ⋅     ⋅          ⋅ \n",
       " -0.707107    ⋅          ⋅          ⋅            ⋅     ⋅          ⋅ \n",
       "   ⋅        -0.715391    ⋅          ⋅        …   ⋅     ⋅          ⋅ \n",
       "   ⋅        -0.414174  -0.892218    ⋅            ⋅   -0.833333    ⋅ \n",
       "   ⋅          ⋅          ⋅        -0.707107      ⋅     ⋅        -0.707107\n",
       "   ⋅          ⋅          ⋅          ⋅            ⋅     ⋅          ⋅ \n",
       "   ⋅        -0.268272    ⋅          ⋅           1.0  -0.666667    ⋅ \n",
       "   ⋅          ⋅          ⋅          ⋅        …   ⋅    1.5       -0.707107\n",
       "   ⋅          ⋅          ⋅          ⋅            ⋅     ⋅         1.41421"
      ]
     },
     "execution_count": 4,
     "metadata": {},
     "output_type": "execute_result"
    }
   ],
   "source": [
    "llmat = Laplacians.LLmatp(a)\n",
    "@time ldli = Laplacians.approxChol(llmat,10000000,10000000)\n",
    "lfac = Laplacians.ldli2Chol(ldli)'"
   ]
  },
  {
   "cell_type": "code",
   "execution_count": 5,
   "metadata": {},
   "outputs": [
    {
     "data": {
      "text/plain": [
       "12×12 SparseMatrixCSC{Float64, Int64} with 46 stored entries:\n",
       "  2.0  -1.0    ⋅     ⋅   -1.0    ⋅     ⋅     ⋅     ⋅     ⋅     ⋅     ⋅ \n",
       " -1.0   3.0  -1.0    ⋅     ⋅   -1.0    ⋅     ⋅     ⋅     ⋅     ⋅     ⋅ \n",
       "   ⋅   -1.0   3.0  -1.0    ⋅     ⋅   -1.0    ⋅     ⋅     ⋅     ⋅     ⋅ \n",
       "   ⋅     ⋅   -1.0   2.0    ⋅     ⋅     ⋅   -1.0    ⋅     ⋅     ⋅     ⋅ \n",
       " -1.0    ⋅     ⋅     ⋅    3.0  -1.0    ⋅     ⋅   -1.0    ⋅     ⋅     ⋅ \n",
       "   ⋅   -1.0    ⋅     ⋅   -1.0   4.0  -1.0    ⋅     ⋅   -1.0    ⋅     ⋅ \n",
       "   ⋅     ⋅   -1.0    ⋅     ⋅   -1.0   4.0  -1.0    ⋅     ⋅   -1.0    ⋅ \n",
       "   ⋅     ⋅     ⋅   -1.0    ⋅     ⋅   -1.0   3.0    ⋅     ⋅     ⋅   -1.0\n",
       "   ⋅     ⋅     ⋅     ⋅   -1.0    ⋅     ⋅     ⋅    2.0  -1.0    ⋅     ⋅ \n",
       "   ⋅     ⋅     ⋅     ⋅     ⋅   -1.0    ⋅     ⋅   -1.0   3.0  -1.0    ⋅ \n",
       "   ⋅     ⋅     ⋅     ⋅     ⋅     ⋅   -1.0    ⋅     ⋅   -1.0   3.0  -1.0\n",
       "   ⋅     ⋅     ⋅     ⋅     ⋅     ⋅     ⋅   -1.0    ⋅     ⋅   -1.0   2.0"
      ]
     },
     "execution_count": 5,
     "metadata": {},
     "output_type": "execute_result"
    }
   ],
   "source": [
    "P = I - ones(n,n)/n\n",
    "Lih = sqrt(pinv(Matrix(lap(a))))\n",
    "lap(a)"
   ]
  },
  {
   "cell_type": "code",
   "execution_count": 6,
   "metadata": {},
   "outputs": [
    {
     "data": {
      "text/plain": [
       "12×12 SparseMatrixCSC{Float64, Int64} with 62 stored entries:\n",
       "  2.0  -1.0            ⋅       ⋅   -1.0  …    ⋅     ⋅           ⋅       ⋅ \n",
       " -1.0   3.0          -1.0      ⋅    0.0       ⋅   -0.25         ⋅       ⋅ \n",
       "   ⋅   -1.0           3.0    -1.0    ⋅        ⋅     ⋅          0.125    ⋅ \n",
       "   ⋅     ⋅           -1.0     2.0    ⋅        ⋅     ⋅           ⋅       ⋅ \n",
       " -1.0   0.0            ⋅       ⋅    3.0     -1.0   0.0          ⋅       ⋅ \n",
       "   ⋅   -0.75           ⋅       ⋅   -1.0  …    ⋅   -1.0          ⋅       ⋅ \n",
       "   ⋅    2.22045e-16  -1.125    ⋅     ⋅        ⋅   -0.0925926  -1.0      ⋅ \n",
       "   ⋅     ⋅            0.0    -1.0    ⋅        ⋅     ⋅          0.0    -1.0\n",
       "   ⋅     ⋅             ⋅       ⋅   -1.0      2.0  -1.0          ⋅       ⋅ \n",
       "   ⋅   -0.25           ⋅       ⋅    0.0     -1.0   4.34259    -1.0      ⋅ \n",
       "   ⋅     ⋅            0.125    ⋅     ⋅   …    ⋅   -1.0         2.875  -1.0\n",
       "   ⋅     ⋅             ⋅       ⋅     ⋅        ⋅     ⋅         -1.0     2.0"
      ]
     },
     "execution_count": 6,
     "metadata": {},
     "output_type": "execute_result"
    }
   ],
   "source": [
    "llt = lfac*lfac'"
   ]
  },
  {
   "cell_type": "markdown",
   "metadata": {},
   "source": [
    "Note LLt appears to be 'converged', but to a wrong matrix!"
   ]
  },
  {
   "cell_type": "code",
   "execution_count": 7,
   "metadata": {},
   "outputs": [
    {
     "data": {
      "text/plain": [
       "0.5832706045029012"
      ]
     },
     "execution_count": 7,
     "metadata": {},
     "output_type": "execute_result"
    }
   ],
   "source": [
    "opnorm(P - Lih*llt*Lih)"
   ]
  },
  {
   "cell_type": "code",
   "execution_count": 8,
   "metadata": {},
   "outputs": [
    {
     "data": {
      "text/plain": [
       "0.5832706045029012"
      ]
     },
     "execution_count": 8,
     "metadata": {},
     "output_type": "execute_result"
    }
   ],
   "source": [
    "opnorm(P - Lih*P*llt*P*Lih)"
   ]
  },
  {
   "cell_type": "markdown",
   "metadata": {},
   "source": [
    "This spectral error is quite significant."
   ]
  },
  {
   "cell_type": "code",
   "execution_count": 9,
   "metadata": {},
   "outputs": [
    {
     "data": {
      "text/plain": [
       "12×12 SparseMatrixCSC{Bool, Int64} with 12 stored entries:\n",
       " ⋅  ⋅  ⋅  ⋅  ⋅  ⋅  ⋅  ⋅  ⋅  ⋅  ⋅  ⋅\n",
       " ⋅  ⋅  ⋅  ⋅  ⋅  1  ⋅  ⋅  ⋅  1  ⋅  ⋅\n",
       " ⋅  ⋅  ⋅  ⋅  ⋅  ⋅  1  ⋅  ⋅  ⋅  1  ⋅\n",
       " ⋅  ⋅  ⋅  ⋅  ⋅  ⋅  ⋅  ⋅  ⋅  ⋅  ⋅  ⋅\n",
       " ⋅  ⋅  ⋅  ⋅  ⋅  ⋅  ⋅  ⋅  ⋅  ⋅  ⋅  ⋅\n",
       " ⋅  1  ⋅  ⋅  ⋅  1  ⋅  ⋅  ⋅  ⋅  ⋅  ⋅\n",
       " ⋅  ⋅  1  ⋅  ⋅  ⋅  1  ⋅  ⋅  ⋅  ⋅  ⋅\n",
       " ⋅  ⋅  ⋅  ⋅  ⋅  ⋅  ⋅  ⋅  ⋅  ⋅  ⋅  ⋅\n",
       " ⋅  ⋅  ⋅  ⋅  ⋅  ⋅  ⋅  ⋅  ⋅  ⋅  ⋅  ⋅\n",
       " ⋅  1  ⋅  ⋅  ⋅  ⋅  ⋅  ⋅  ⋅  1  ⋅  ⋅\n",
       " ⋅  ⋅  1  ⋅  ⋅  ⋅  ⋅  ⋅  ⋅  ⋅  1  ⋅\n",
       " ⋅  ⋅  ⋅  ⋅  ⋅  ⋅  ⋅  ⋅  ⋅  ⋅  ⋅  ⋅"
      ]
     },
     "execution_count": 9,
     "metadata": {},
     "output_type": "execute_result"
    }
   ],
   "source": [
    "diffcheck = llt-lap(a)\n",
    "abs.(diffcheck) .> 1e-1"
   ]
  },
  {
   "cell_type": "markdown",
   "metadata": {},
   "source": [
    "There shouldn't be any diff."
   ]
  },
  {
   "cell_type": "code",
   "execution_count": 10,
   "metadata": {},
   "outputs": [
    {
     "data": {
      "text/plain": [
       "5"
      ]
     },
     "execution_count": 10,
     "metadata": {},
     "output_type": "execute_result"
    }
   ],
   "source": [
    "rank(diffcheck)"
   ]
  },
  {
   "cell_type": "markdown",
   "metadata": {},
   "source": [
    "The error is not low rank, so I don't think it's just a mistake in the last column."
   ]
  },
  {
   "cell_type": "markdown",
   "metadata": {},
   "source": [
    "Note: the pattern varies by execution, so the bug is related to the particular representation we output, despite the seeming 'convergence'."
   ]
  },
  {
   "cell_type": "markdown",
   "metadata": {},
   "source": [
    "# testing cmd line script input/output"
   ]
  },
  {
   "cell_type": "code",
   "execution_count": 11,
   "metadata": {},
   "outputs": [
    {
     "data": {
      "text/plain": [
       "main (generic function with 1 method)"
      ]
     },
     "execution_count": 11,
     "metadata": {},
     "output_type": "execute_result"
    }
   ],
   "source": [
    "include(\"testScriptSaveChol.jl\") # to access saveMAT fn and matread"
   ]
  },
  {
   "cell_type": "code",
   "execution_count": 12,
   "metadata": {},
   "outputs": [],
   "source": [
    "saveMAT(a,\"gridadj1.mat\",\"adjmat\")"
   ]
  },
  {
   "cell_type": "code",
   "execution_count": 13,
   "metadata": {},
   "outputs": [
    {
     "name": "stdout",
     "output_type": "stream",
     "text": [
      "Parsed args:\n",
      "  merge  =>  2\n",
      "  output  =>  choltest.mat\n",
      "  sddm  =>  false\n",
      "  mminput  =>  false\n",
      "  mmoutput  =>  false\n",
      "  lap  =>  false\n",
      "  input  =>  gridadj1.mat\n",
      "  split  =>  2\n",
      " 15.147999 seconds (807 allocations: 31.398 KiB)\n"
     ]
    }
   ],
   "source": [
    "@time run(`julia scriptSaveChol.jl --input gridadj1.mat --split 2 --merge 2 --output choltest.mat`);"
   ]
  },
  {
   "cell_type": "code",
   "execution_count": 14,
   "metadata": {},
   "outputs": [
    {
     "data": {
      "text/plain": [
       "12×12 SparseMatrixCSC{Float64, Int64} with 36 stored entries:\n",
       "  1.41421     ⋅          ⋅          ⋅        …   ⋅     ⋅          ⋅ \n",
       " -0.707107   1.28306   -0.648886    ⋅            ⋅     ⋅          ⋅ \n",
       "   ⋅          ⋅         1.5411    -0.707107      ⋅     ⋅          ⋅ \n",
       "   ⋅          ⋅          ⋅         1.41421       ⋅     ⋅          ⋅ \n",
       " -0.707107    ⋅          ⋅          ⋅            ⋅     ⋅          ⋅ \n",
       "   ⋅        -1.13692     ⋅          ⋅        …   ⋅     ⋅          ⋅ \n",
       "   ⋅          ⋅        -0.892218    ⋅            ⋅   -0.833333    ⋅ \n",
       "   ⋅          ⋅          ⋅        -0.707107      ⋅     ⋅        -0.707107\n",
       "   ⋅          ⋅          ⋅          ⋅            ⋅     ⋅          ⋅ \n",
       "   ⋅        -0.146135    ⋅          ⋅           1.0  -0.666667    ⋅ \n",
       "   ⋅          ⋅          ⋅          ⋅        …   ⋅    1.5       -0.707107\n",
       "   ⋅          ⋅          ⋅          ⋅            ⋅     ⋅         1.41421"
      ]
     },
     "execution_count": 14,
     "metadata": {},
     "output_type": "execute_result"
    }
   ],
   "source": [
    "lfac = matread(\"choltest.mat\")[\"chol_factor\"]"
   ]
  },
  {
   "cell_type": "code",
   "execution_count": 15,
   "metadata": {},
   "outputs": [
    {
     "data": {
      "text/plain": [
       "12×12 SparseMatrixCSC{Bool, Int64} with 10 stored entries:\n",
       " ⋅  ⋅  ⋅  ⋅  ⋅  ⋅  ⋅  ⋅  ⋅  ⋅  ⋅  ⋅\n",
       " ⋅  1  ⋅  ⋅  ⋅  ⋅  ⋅  ⋅  ⋅  ⋅  ⋅  ⋅\n",
       " ⋅  ⋅  ⋅  ⋅  ⋅  ⋅  1  ⋅  ⋅  ⋅  1  ⋅\n",
       " ⋅  ⋅  ⋅  ⋅  ⋅  ⋅  ⋅  ⋅  ⋅  ⋅  ⋅  ⋅\n",
       " ⋅  ⋅  ⋅  ⋅  ⋅  ⋅  ⋅  ⋅  ⋅  ⋅  ⋅  ⋅\n",
       " ⋅  ⋅  ⋅  ⋅  ⋅  ⋅  ⋅  ⋅  ⋅  1  ⋅  ⋅\n",
       " ⋅  ⋅  1  ⋅  ⋅  ⋅  1  ⋅  ⋅  ⋅  ⋅  ⋅\n",
       " ⋅  ⋅  ⋅  ⋅  ⋅  ⋅  ⋅  ⋅  ⋅  ⋅  ⋅  ⋅\n",
       " ⋅  ⋅  ⋅  ⋅  ⋅  ⋅  ⋅  ⋅  ⋅  ⋅  ⋅  ⋅\n",
       " ⋅  ⋅  ⋅  ⋅  ⋅  1  ⋅  ⋅  ⋅  1  ⋅  ⋅\n",
       " ⋅  ⋅  1  ⋅  ⋅  ⋅  ⋅  ⋅  ⋅  ⋅  1  ⋅\n",
       " ⋅  ⋅  ⋅  ⋅  ⋅  ⋅  ⋅  ⋅  ⋅  ⋅  ⋅  ⋅"
      ]
     },
     "execution_count": 15,
     "metadata": {},
     "output_type": "execute_result"
    }
   ],
   "source": [
    "P = I - ones(n,n)/n\n",
    "Lih = sqrt(pinv(Matrix(lap(a))))\n",
    "lap(a)\n",
    "llt = lfac*lfac'\n",
    "diffcheck = llt-lap(a)\n",
    "abs.(diffcheck) .> 1e-1"
   ]
  },
  {
   "cell_type": "code",
   "execution_count": null,
   "metadata": {},
   "outputs": [],
   "source": []
  }
 ],
 "metadata": {
  "kernelspec": {
   "display_name": "Julia 1.8.5",
   "language": "julia",
   "name": "julia-1.8"
  },
  "language_info": {
   "file_extension": ".jl",
   "mimetype": "application/julia",
   "name": "julia",
   "version": "1.8.5"
  }
 },
 "nbformat": 4,
 "nbformat_minor": 4
}
