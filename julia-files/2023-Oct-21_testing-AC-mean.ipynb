{
 "cells": [
  {
   "cell_type": "code",
   "execution_count": 1,
   "metadata": {},
   "outputs": [],
   "source": [
    "using Laplacians\n",
    "using LinearAlgebra\n",
    "using SparseArrays"
   ]
  },
  {
   "cell_type": "markdown",
   "metadata": {},
   "source": [
    "# testing AC"
   ]
  },
  {
   "cell_type": "code",
   "execution_count": 2,
   "metadata": {},
   "outputs": [
    {
     "data": {
      "text/plain": [
       "mod_ldli2Chol (generic function with 1 method)"
      ]
     },
     "execution_count": 2,
     "metadata": {},
     "output_type": "execute_result"
    }
   ],
   "source": [
    "function mod_ldli2Chol(ldli)\n",
    "    n = length(ldli.colptr)\n",
    "    m = n + length(ldli.fval)\n",
    "    li = zeros(Int,m)\n",
    "    lj = zeros(Int,m)\n",
    "    lv = zeros(Float64,m)\n",
    "    lptr = 0\n",
    "\n",
    "    dhi = zeros(n)\n",
    "    for i in 1:n\n",
    "        if ldli.d[i] == 0\n",
    "            dhi[i] = 1.0\n",
    "        else\n",
    "            dhi[i] = sqrt(ldli.d[i])\n",
    "        end\n",
    "    end\n",
    "\n",
    "    scales = ones(n)\n",
    "    for ii in 1:(n-1)\n",
    "        i = ldli.col[ii]\n",
    "        j0 = ldli.colptr[ii]\n",
    "        j1 = ldli.colptr[ii+1]-1\n",
    "        scales[i] = prod(1.0 .- ldli.fval[j0:(j1-1)])\n",
    "    end\n",
    "\n",
    "    for ii in 1:(n-1)\n",
    "        i = ldli.col[ii]\n",
    "        j0 = ldli.colptr[ii]\n",
    "        j1 = ldli.colptr[ii+1]-1\n",
    "        scale = scales[i] / dhi[i]\n",
    "\n",
    "        scj = 1\n",
    "        for jj in j0:(j1-1)\n",
    "            j = ldli.rowval[jj]\n",
    "            f = ldli.fval[jj]\n",
    "\n",
    "            lptr += 1\n",
    "            li[lptr] = i\n",
    "            lj[lptr] = j\n",
    "            lv[lptr] = -f*scj/scale\n",
    "\n",
    "\n",
    "            scj = scj*(1-f)\n",
    "        end\n",
    "        j = ldli.rowval[j1]\n",
    "\n",
    "        lptr += 1\n",
    "        li[lptr] = i\n",
    "        lj[lptr] = j\n",
    "        lv[lptr] = -dhi[i]\n",
    "\n",
    "        lptr += 1\n",
    "        li[lptr] = i\n",
    "        lj[lptr] = i\n",
    "        lv[lptr] = 1/scale\n",
    "\n",
    "    end\n",
    "\n",
    "    for i in 1:n\n",
    "        if ldli.d[i] == 0\n",
    "            lptr += 1\n",
    "            li[lptr] = i\n",
    "            lj[lptr] = i\n",
    "            lv[lptr] = 0 # rank n-1. This is appropriate for estimating mean LLt, not for applying inverse\n",
    "            # PREVIOUSLY: lv[lptr] = 1 # NB: rank n because of this. Requires orthog to all-ones\n",
    "        end\n",
    "    end\n",
    "\n",
    "    return sparse(lj,li,lv,n,n) # return lower tri form\n",
    "    #return sparse(li,lj,lv,n,n)\n",
    "    #return li, lj, lv\n",
    "end"
   ]
  },
  {
   "cell_type": "code",
   "execution_count": 3,
   "metadata": {},
   "outputs": [
    {
     "data": {
      "text/plain": [
       "9×9 SparseMatrixCSC{Float64, Int64} with 24 stored entries:\n",
       "  ⋅   1.0   ⋅   1.0   ⋅    ⋅    ⋅    ⋅    ⋅ \n",
       " 1.0   ⋅   1.0   ⋅   1.0   ⋅    ⋅    ⋅    ⋅ \n",
       "  ⋅   1.0   ⋅    ⋅    ⋅   1.0   ⋅    ⋅    ⋅ \n",
       " 1.0   ⋅    ⋅    ⋅   1.0   ⋅   1.0   ⋅    ⋅ \n",
       "  ⋅   1.0   ⋅   1.0   ⋅   1.0   ⋅   1.0   ⋅ \n",
       "  ⋅    ⋅   1.0   ⋅   1.0   ⋅    ⋅    ⋅   1.0\n",
       "  ⋅    ⋅    ⋅   1.0   ⋅    ⋅    ⋅   1.0   ⋅ \n",
       "  ⋅    ⋅    ⋅    ⋅   1.0   ⋅   1.0   ⋅   1.0\n",
       "  ⋅    ⋅    ⋅    ⋅    ⋅   1.0   ⋅   1.0   ⋅ "
      ]
     },
     "execution_count": 3,
     "metadata": {},
     "output_type": "execute_result"
    }
   ],
   "source": [
    "n = 9\n",
    "a = grid2(3,3)"
   ]
  },
  {
   "cell_type": "code",
   "execution_count": 4,
   "metadata": {},
   "outputs": [
    {
     "name": "stdout",
     "output_type": "stream",
     "text": [
      "  0.297205 seconds (370.88 k allocations: 18.492 MiB, 99.71% compilation time)\n"
     ]
    },
    {
     "data": {
      "text/plain": [
       "9×9 SparseMatrixCSC{Float64, Int64} with 25 stored entries:\n",
       "  1.41421    ⋅     ⋅          ⋅        …    ⋅          ⋅         ⋅ \n",
       " -0.707107  0.0  -0.707107  -0.353553       ⋅          ⋅         ⋅ \n",
       "   ⋅         ⋅    1.41421     ⋅             ⋅          ⋅         ⋅ \n",
       " -0.707107   ⋅     ⋅         1.41421      -0.707107    ⋅         ⋅ \n",
       "   ⋅         ⋅     ⋅        -0.707107       ⋅        -1.22474    ⋅ \n",
       "   ⋅         ⋅   -0.707107    ⋅        …    ⋅          ⋅       -0.707107\n",
       "   ⋅         ⋅     ⋅          ⋅            1.41421     ⋅         ⋅ \n",
       "   ⋅         ⋅     ⋅        -0.353553     -0.707107   1.22474  -0.707107\n",
       "   ⋅         ⋅     ⋅          ⋅             ⋅          ⋅        1.41421"
      ]
     },
     "execution_count": 4,
     "metadata": {},
     "output_type": "execute_result"
    }
   ],
   "source": [
    "llmat = Laplacians.LLmatp(a)\n",
    "@time ldli = Laplacians.approxChol(llmat)\n",
    "lfac = mod_ldli2Chol(ldli)"
   ]
  },
  {
   "cell_type": "code",
   "execution_count": 5,
   "metadata": {},
   "outputs": [
    {
     "data": {
      "text/plain": [
       "9×9 Matrix{Float64}:\n",
       "  0.888889  -0.111111  -0.111111  …  -0.111111  -0.111111  -0.111111\n",
       " -0.111111   0.888889  -0.111111     -0.111111  -0.111111  -0.111111\n",
       " -0.111111  -0.111111   0.888889     -0.111111  -0.111111  -0.111111\n",
       " -0.111111  -0.111111  -0.111111     -0.111111  -0.111111  -0.111111\n",
       " -0.111111  -0.111111  -0.111111     -0.111111  -0.111111  -0.111111\n",
       " -0.111111  -0.111111  -0.111111  …  -0.111111  -0.111111  -0.111111\n",
       " -0.111111  -0.111111  -0.111111      0.888889  -0.111111  -0.111111\n",
       " -0.111111  -0.111111  -0.111111     -0.111111   0.888889  -0.111111\n",
       " -0.111111  -0.111111  -0.111111     -0.111111  -0.111111   0.888889"
      ]
     },
     "execution_count": 5,
     "metadata": {},
     "output_type": "execute_result"
    }
   ],
   "source": [
    "P = I - ones(n,n)/n"
   ]
  },
  {
   "cell_type": "code",
   "execution_count": 16,
   "metadata": {},
   "outputs": [
    {
     "data": {
      "text/plain": [
       "9×9 Matrix{Float64}:\n",
       "  2.0  -1.0          0.0  -1.0   0.0       0.0   0.0   0.0          0.0\n",
       " -1.0   3.0         -1.0   0.0  -1.00027   0.0   0.0   0.00026875   0.0\n",
       "  0.0  -1.0          2.0   0.0   0.0      -1.0   0.0   0.0          0.0\n",
       " -1.0   0.0          0.0   3.0  -1.0       0.0  -1.0   0.0          0.0\n",
       "  0.0  -1.00027      0.0  -1.0   4.00027  -1.0   0.0  -1.0          0.0\n",
       "  0.0   0.0         -1.0   0.0  -1.0       3.0   0.0   0.0         -1.0\n",
       "  0.0   0.0          0.0  -1.0   0.0       0.0   2.0  -1.0          0.0\n",
       "  0.0   0.00026875   0.0   0.0  -1.0       0.0  -1.0   2.99973     -1.0\n",
       "  0.0   0.0          0.0   0.0   0.0      -1.0   0.0  -1.0          2.0"
      ]
     },
     "execution_count": 16,
     "metadata": {},
     "output_type": "execute_result"
    }
   ],
   "source": [
    "T = 1000000\n",
    "ellt = zeros(n,n)\n",
    "for i = 1:T\n",
    "    llmat = Laplacians.LLmatp(a)\n",
    "    ldli = Laplacians.approxChol(llmat)\n",
    "    lfac = mod_ldli2Chol(ldli)\n",
    "    ellt += lfac*lfac'\n",
    "end\n",
    "ellt = ellt/T"
   ]
  },
  {
   "cell_type": "code",
   "execution_count": 17,
   "metadata": {},
   "outputs": [
    {
     "data": {
      "text/plain": [
       "0.6583003683730457"
      ]
     },
     "execution_count": 17,
     "metadata": {},
     "output_type": "execute_result"
    }
   ],
   "source": [
    "norm(lap(a) - ellt)*sqrt(T)"
   ]
  },
  {
   "cell_type": "markdown",
   "metadata": {},
   "source": [
    "Compare that with AC2"
   ]
  },
  {
   "cell_type": "code",
   "execution_count": 64,
   "metadata": {},
   "outputs": [
    {
     "data": {
      "text/plain": [
       "9×9 Matrix{Float64}:\n",
       "  2.0  -1.0       0.0  -1.0   0.0       0.0   0.0   0.0       0.0\n",
       " -1.0   3.0      -1.0   0.0  -1.00003   0.0   0.0   2.95e-5   0.0\n",
       "  0.0  -1.0       2.0   0.0   0.0      -1.0   0.0   0.0       0.0\n",
       " -1.0   0.0       0.0   3.0  -1.0       0.0  -1.0   0.0       0.0\n",
       "  0.0  -1.00003   0.0  -1.0   4.00003  -1.0   0.0  -1.0       0.0\n",
       "  0.0   0.0      -1.0   0.0  -1.0       3.0   0.0   0.0      -1.0\n",
       "  0.0   0.0       0.0  -1.0   0.0       0.0   2.0  -1.0       0.0\n",
       "  0.0   2.95e-5   0.0   0.0  -1.0       0.0  -1.0   2.99997  -1.0\n",
       "  0.0   0.0       0.0   0.0   0.0      -1.0   0.0  -1.0       2.0"
      ]
     },
     "execution_count": 64,
     "metadata": {},
     "output_type": "execute_result"
    }
   ],
   "source": [
    "T = 1000000\n",
    "ellt = zeros(n,n)\n",
    "for i = 1:T\n",
    "    llmat = Laplacians.LLmatp(a)\n",
    "    ldli = Laplacians.approxChol(llmat,2,2)\n",
    "    lfac = mod_ldli2Chol(ldli)\n",
    "    ellt += lfac*lfac'\n",
    "end\n",
    "ellt = ellt/T"
   ]
  },
  {
   "cell_type": "code",
   "execution_count": 67,
   "metadata": {},
   "outputs": [
    {
     "data": {
      "text/plain": [
       "0.07225994741213376"
      ]
     },
     "execution_count": 67,
     "metadata": {},
     "output_type": "execute_result"
    }
   ],
   "source": [
    "norm(lap(a) - ellt)*sqrt(T)"
   ]
  },
  {
   "cell_type": "code",
   "execution_count": 68,
   "metadata": {},
   "outputs": [
    {
     "data": {
      "text/plain": [
       "9×9 Matrix{Float64}:\n",
       "  2.0  -1.0           0.0  -1.0   0.0        0.0   0.0   0.0           0.0\n",
       " -1.0   3.0          -1.0   0.0  -0.999661   0.0   0.0  -0.000339125   0.0\n",
       "  0.0  -1.0           2.0   0.0   0.0       -1.0   0.0   0.0           0.0\n",
       " -1.0   0.0           0.0   3.0  -1.0        0.0  -1.0   0.0           0.0\n",
       "  0.0  -0.999661      0.0  -1.0   3.99966   -1.0   0.0  -1.0           0.0\n",
       "  0.0   0.0          -1.0   0.0  -1.0        3.0   0.0   0.0          -1.0\n",
       "  0.0   0.0           0.0  -1.0   0.0        0.0   2.0  -1.0           0.0\n",
       "  0.0  -0.000339125   0.0   0.0  -1.0        0.0  -1.0   3.00034      -1.0\n",
       "  0.0   0.0           0.0   0.0   0.0       -1.0   0.0  -1.0           2.0"
      ]
     },
     "execution_count": 68,
     "metadata": {},
     "output_type": "execute_result"
    }
   ],
   "source": [
    "T = 1000000\n",
    "ellt = zeros(n,n)\n",
    "for i = 1:T\n",
    "    llmat = Laplacians.LLmatp(a)\n",
    "    ldli = Laplacians.approxChol(llmat,2,2)\n",
    "    lfac = mod_ldli2Chol(ldli)\n",
    "    ellt += lfac*lfac'\n",
    "end\n",
    "ellt = ellt/T"
   ]
  },
  {
   "cell_type": "code",
   "execution_count": null,
   "metadata": {},
   "outputs": [],
   "source": []
  }
 ],
 "metadata": {
  "kernelspec": {
   "display_name": "Julia 1.8.5",
   "language": "julia",
   "name": "julia-1.8"
  },
  "language_info": {
   "file_extension": ".jl",
   "mimetype": "application/julia",
   "name": "julia",
   "version": "1.8.5"
  }
 },
 "nbformat": 4,
 "nbformat_minor": 4
}
