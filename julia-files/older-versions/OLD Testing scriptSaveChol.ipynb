{
 "cells": [
  {
   "cell_type": "code",
   "execution_count": 228,
   "metadata": {},
   "outputs": [],
   "source": [
    "using Pkg\n",
    "using Laplacians\n",
    "using MAT\n",
    "using SparseArrays\n",
    "using LinearAlgebra"
   ]
  },
  {
   "cell_type": "code",
   "execution_count": 229,
   "metadata": {},
   "outputs": [
    {
     "data": {
      "text/plain": [
       "4×4 SparseMatrixCSC{Float64, Int64} with 6 stored entries:\n",
       "  ⋅   1.0   ⋅    ⋅ \n",
       " 1.0   ⋅   1.0   ⋅ \n",
       "  ⋅   1.0   ⋅   1.0\n",
       "  ⋅    ⋅   1.0   ⋅ "
      ]
     },
     "execution_count": 229,
     "metadata": {},
     "output_type": "execute_result"
    }
   ],
   "source": [
    "a = grid2(4,4)\n",
    "a[1:4,1:4]"
   ]
  },
  {
   "cell_type": "code",
   "execution_count": 24,
   "metadata": {},
   "outputs": [
    {
     "data": {
      "text/plain": [
       "4×4 SparseMatrixCSC{Float64, Int64} with 10 stored entries:\n",
       "  2.0  -1.0    ⋅     ⋅ \n",
       " -1.0   3.0  -1.0    ⋅ \n",
       "   ⋅   -1.0   3.0  -1.0\n",
       "   ⋅     ⋅   -1.0   2.0"
      ]
     },
     "execution_count": 24,
     "metadata": {},
     "output_type": "execute_result"
    }
   ],
   "source": [
    "lap(a)[1:4,1:4]"
   ]
  },
  {
   "cell_type": "code",
   "execution_count": 25,
   "metadata": {},
   "outputs": [
    {
     "data": {
      "text/plain": [
       "saveMAT (generic function with 1 method)"
      ]
     },
     "execution_count": 25,
     "metadata": {},
     "output_type": "execute_result"
    }
   ],
   "source": [
    "function saveMAT(mat::SparseMatrixCSC, name, varname)\n",
    "    file = MAT.matopen(name, \"w\")\n",
    "    write(file, varname, mat)\n",
    "    close(file)\n",
    "end"
   ]
  },
  {
   "cell_type": "code",
   "execution_count": 26,
   "metadata": {},
   "outputs": [],
   "source": [
    "saveMAT(a,\"gridadj1.mat\",\"adjmat\")"
   ]
  },
  {
   "cell_type": "code",
   "execution_count": 27,
   "metadata": {},
   "outputs": [
    {
     "data": {
      "text/plain": [
       "16×16 SparseMatrixCSC{Float64, Int64} with 48 stored entries:\n",
       "⠪⡢⠑⢄⠀⠀⠀⠀\n",
       "⠑⢄⠪⡢⠑⢄⠀⠀\n",
       "⠀⠀⠑⢄⠪⡢⠑⢄\n",
       "⠀⠀⠀⠀⠑⢄⠪⡢"
      ]
     },
     "execution_count": 27,
     "metadata": {},
     "output_type": "execute_result"
    }
   ],
   "source": [
    "a1 = matread(\"gridadj1.mat\")[\"adjmat\"]"
   ]
  },
  {
   "cell_type": "code",
   "execution_count": 28,
   "metadata": {},
   "outputs": [
    {
     "data": {
      "text/plain": [
       "4×4 SparseMatrixCSC{Float64, Int64} with 6 stored entries:\n",
       "  ⋅   1.0   ⋅    ⋅ \n",
       " 1.0   ⋅   1.0   ⋅ \n",
       "  ⋅   1.0   ⋅   1.0\n",
       "  ⋅    ⋅   1.0   ⋅ "
      ]
     },
     "execution_count": 28,
     "metadata": {},
     "output_type": "execute_result"
    }
   ],
   "source": [
    "a1[1:4,1:4]"
   ]
  },
  {
   "cell_type": "code",
   "execution_count": 29,
   "metadata": {},
   "outputs": [
    {
     "data": {
      "text/plain": [
       "16×16 SparseMatrixCSC{Float64, Int64} with 52 stored entries:\n",
       "⠹⣄⠑⢆⠂⠠⠀⠀\n",
       "⠈⡀⠙⣆⠁⢰⠀⠀\n",
       "⠀⠀⠘⠄⠹⢴⠀⠀\n",
       "⠀⠀⠀⠀⠳⢤⠙⣆"
      ]
     },
     "execution_count": 29,
     "metadata": {},
     "output_type": "execute_result"
    }
   ],
   "source": [
    "chol_factor = matread(\"output.mat\")[\"chol_factor\"]"
   ]
  },
  {
   "cell_type": "code",
   "execution_count": 230,
   "metadata": {},
   "outputs": [
    {
     "data": {
      "text/plain": [
       "16×16 SparseMatrixCSC{Float64, Int64} with 57 stored entries:\n",
       "⠹⣄⠑⢆⠂⠰⠀⠀\n",
       "⠈⡀⠙⣆⠑⢂⠀⠀\n",
       "⠀⠀⢈⡆⠙⣆⠀⡁\n",
       "⠀⠀⠠⠄⠳⢄⠙⣆"
      ]
     },
     "execution_count": 230,
     "metadata": {},
     "output_type": "execute_result"
    }
   ],
   "source": [
    "chol_factor = matread(\"chol1010.mat\")[\"chol_factor\"]"
   ]
  },
  {
   "cell_type": "code",
   "execution_count": 231,
   "metadata": {},
   "outputs": [
    {
     "data": {
      "text/plain": [
       "10×10 SparseMatrixCSC{Float64, Int64} with 29 stored entries:\n",
       " 1.41421  -0.707107    ⋅         ⋅       …    ⋅          ⋅          ⋅ \n",
       "  ⋅        1.42431     ⋅         ⋅            ⋅        -0.140419    ⋅ \n",
       "  ⋅       -0.645497   1.54919    ⋅            ⋅          ⋅          ⋅ \n",
       "  ⋅         ⋅        -0.707107  1.41421     -0.707107    ⋅          ⋅ \n",
       "  ⋅       -0.316228    ⋅         ⋅            ⋅        -0.632456    ⋅ \n",
       "  ⋅         ⋅          ⋅         ⋅       …    ⋅          ⋅        -0.811132\n",
       "  ⋅         ⋅          ⋅         ⋅            ⋅          ⋅          ⋅ \n",
       "  ⋅         ⋅        -0.316228   ⋅           1.58114     ⋅          ⋅ \n",
       "  ⋅         ⋅          ⋅         ⋅            ⋅         1.4033    -0.826625\n",
       "  ⋅         ⋅          ⋅         ⋅            ⋅          ⋅         1.47352"
      ]
     },
     "execution_count": 231,
     "metadata": {},
     "output_type": "execute_result"
    }
   ],
   "source": [
    "chol_factor[1:10,1:10]"
   ]
  },
  {
   "cell_type": "code",
   "execution_count": 232,
   "metadata": {},
   "outputs": [
    {
     "data": {
      "text/plain": [
       "2.4438802632193486"
      ]
     },
     "execution_count": 232,
     "metadata": {},
     "output_type": "execute_result"
    }
   ],
   "source": [
    "n = 16\n",
    "Lih = sqrt(pinv(Matrix(lap(a))))\n",
    "norm(I-ones(n,n)/n - Lih*chol_factor*chol_factor'*Lih)"
   ]
  },
  {
   "cell_type": "code",
   "execution_count": 54,
   "metadata": {},
   "outputs": [
    {
     "data": {
      "text/plain": [
       "16×16 SparseMatrixCSC{Float64, Int64} with 58 stored entries:\n",
       "⠹⣄⠑⢆⠂⠰⠀⠀\n",
       "⠈⡀⠹⣄⠱⢀⠀⠀\n",
       "⠀⠀⢨⡅⢹⣌⠀⠀\n",
       "⠀⠀⠀⠀⠷⢤⠙⣆"
      ]
     },
     "execution_count": 54,
     "metadata": {},
     "output_type": "execute_result"
    }
   ],
   "source": [
    "chol_factor = matread(\"chol44.mat\")[\"chol_factor\"]"
   ]
  },
  {
   "cell_type": "code",
   "execution_count": 82,
   "metadata": {},
   "outputs": [
    {
     "ename": "LoadError",
     "evalue": "InterruptException:",
     "output_type": "error",
     "traceback": [
      "InterruptException:",
      ""
     ]
    }
   ],
   "source": [
    "n = 16\n",
    "Lih = sqrt(pinv(Matrix(lap(a))))\n",
    "norm(I-ones(n,n)/n - Lih*chol_factor*chol_factor'*Lih)"
   ]
  },
  {
   "cell_type": "code",
   "execution_count": null,
   "metadata": {},
   "outputs": [],
   "source": [
    "MISTAKE BELOW"
   ]
  },
  {
   "cell_type": "code",
   "execution_count": 56,
   "metadata": {},
   "outputs": [
    {
     "data": {
      "text/plain": [
       "16"
      ]
     },
     "execution_count": 56,
     "metadata": {},
     "output_type": "execute_result"
    }
   ],
   "source": [
    "rank(chol_factor)"
   ]
  },
  {
   "cell_type": "code",
   "execution_count": 60,
   "metadata": {},
   "outputs": [
    {
     "data": {
      "text/plain": [
       "16-element Vector{Float64}:\n",
       " -3.175198649056704e-16\n",
       "  0.058691531711311605\n",
       "  0.10698025466208466\n",
       "  0.1456089440341427\n",
       "  0.16858693656840176\n",
       "  0.20603276871026666\n",
       "  0.2150725679876416\n",
       "  0.23849951628555185\n",
       "  0.25935285847361356\n",
       "  0.38638288337546706\n",
       "  0.4124387755347719\n",
       "  0.5149666056123304\n",
       "  0.6118611070638363\n",
       "  1.1396028719742894\n",
       "  3.2517692726751686\n",
       "  3.645578246759631"
      ]
     },
     "execution_count": 60,
     "metadata": {},
     "output_type": "execute_result"
    }
   ],
   "source": [
    "eigvals(Lih*chol_factor*chol_factor'*Lih)"
   ]
  },
  {
   "cell_type": "code",
   "execution_count": 62,
   "metadata": {},
   "outputs": [
    {
     "data": {
      "text/plain": [
       "16-element Vector{Float64}:\n",
       " -3.149828532253415e-16\n",
       "  0.5857864376269043\n",
       "  0.5857864376269056\n",
       "  1.1715728752538097\n",
       "  2.0000000000000004\n",
       "  2.0000000000000013\n",
       "  2.5857864376269037\n",
       "  2.585786437626904\n",
       "  3.4142135623730954\n",
       "  3.414213562373096\n",
       "  4.0\n",
       "  4.0\n",
       "  4.0\n",
       "  5.414213562373094\n",
       "  5.4142135623730985\n",
       "  6.82842712474619"
      ]
     },
     "execution_count": 62,
     "metadata": {},
     "output_type": "execute_result"
    }
   ],
   "source": [
    "eigvals(Matrix(lap(a)))"
   ]
  },
  {
   "cell_type": "code",
   "execution_count": 482,
   "metadata": {},
   "outputs": [
    {
     "data": {
      "text/plain": [
       "mod_ldli2Chol (generic function with 1 method)"
      ]
     },
     "execution_count": 482,
     "metadata": {},
     "output_type": "execute_result"
    }
   ],
   "source": [
    "function mod_ldli2Chol(ldli)\n",
    "    n = length(ldli.colptr)\n",
    "    m = n + length(ldli.fval)\n",
    "    li = zeros(Int,m)\n",
    "    lj = zeros(Int,m)\n",
    "    lv = zeros(Float64,m)\n",
    "    lptr = 0\n",
    "\n",
    "    dhi = zeros(n)\n",
    "    for i in 1:n\n",
    "        if ldli.d[i] == 0\n",
    "            dhi[i] = 1.0\n",
    "        else\n",
    "            dhi[i] = sqrt(ldli.d[i])\n",
    "        end\n",
    "    end\n",
    "\n",
    "    scales = ones(n)\n",
    "    for ii in 1:(n-1)\n",
    "        i = ldli.col[ii]\n",
    "        j0 = ldli.colptr[ii]\n",
    "        j1 = ldli.colptr[ii+1]-1\n",
    "        scales[i] = prod(1.0 .- ldli.fval[j0:(j1-1)])\n",
    "    end\n",
    "\n",
    "    for ii in 1:(n-1)\n",
    "        i = ldli.col[ii]\n",
    "        j0 = ldli.colptr[ii]\n",
    "        j1 = ldli.colptr[ii+1]-1\n",
    "        scale = scales[i] / dhi[i]\n",
    "\n",
    "        scj = 1\n",
    "        for jj in j0:(j1-1)\n",
    "            j = ldli.rowval[jj]\n",
    "            f = ldli.fval[jj]\n",
    "\n",
    "            lptr += 1\n",
    "            li[lptr] = i\n",
    "            lj[lptr] = j\n",
    "            lv[lptr] = -f*scj/scale\n",
    "\n",
    "\n",
    "            scj = scj*(1-f)\n",
    "        end\n",
    "        j = ldli.rowval[j1]\n",
    "\n",
    "        lptr += 1\n",
    "        li[lptr] = i\n",
    "        lj[lptr] = j\n",
    "        lv[lptr] = -dhi[i]\n",
    "\n",
    "        lptr += 1\n",
    "        li[lptr] = i\n",
    "        lj[lptr] = i\n",
    "        lv[lptr] = 1/scale\n",
    "\n",
    "    end\n",
    "\n",
    "    for i in 1:n\n",
    "        if ldli.d[i] == 0\n",
    "            lptr += 1\n",
    "            li[lptr] = i\n",
    "            lj[lptr] = i\n",
    "            lv[lptr] = 1 # NB: rank n because of this. Requires orthog to all-ones\n",
    "        end\n",
    "    end\n",
    "\n",
    "    return sparse(lj,li,lv,n,n) # return lower tri form\n",
    "    #return sparse(li,lj,lv,n,n)\n",
    "    #return li, lj, lv\n",
    "end"
   ]
  },
  {
   "cell_type": "code",
   "execution_count": 479,
   "metadata": {},
   "outputs": [
    {
     "data": {
      "text/plain": [
       "Laplacians.LDLinv{Int64, Float64}([12, 9, 4, 1, 5, 8, 10, 11, 3, 7, 6], [1, 3, 5, 7, 9, 12, 15, 17, 19, 21, 23, 24], [8, 11, 5, 10, 3, 8, 2, 5, 2, 10  …  7, 11, 6, 6, 7, 2, 7, 2, 6, 2], [0.5, 1.0, 0.5, 1.0, 0.5, 1.0, 0.5, 1.0, 0.25, 0.3333333333333333  …  1.0, 0.4444444444444444, 1.0, 0.3076923076923077, 1.0, 0.42105263157894735, 1.0, 0.2948453608247423, 1.0, 1.0], [0.5, 0.0, 0.7960526315789473, 0.5, 0.5, 1.7832474226804123, 0.9763679619349721, 0.5, 0.5, 0.6944444444444444, 0.8653846153846154, 0.5])"
      ]
     },
     "execution_count": 479,
     "metadata": {},
     "output_type": "execute_result"
    }
   ],
   "source": [
    "llmat = Laplacians.LLmatp(a)\n",
    "ldli = Laplacians.approxChol(llmat)"
   ]
  },
  {
   "cell_type": "code",
   "execution_count": 480,
   "metadata": {},
   "outputs": [
    {
     "data": {
      "text/plain": [
       "12×12 SparseMatrixCSC{Float64, Int64} with 35 stored entries:\n",
       "  1.41421    ⋅     ⋅          ⋅        …    ⋅          ⋅          ⋅ \n",
       " -0.707107  1.0  -0.648886    ⋅             ⋅          ⋅          ⋅ \n",
       "   ⋅         ⋅    1.5411    -0.707107       ⋅          ⋅          ⋅ \n",
       "   ⋅         ⋅     ⋅         1.41421        ⋅          ⋅          ⋅ \n",
       " -0.707107   ⋅     ⋅          ⋅             ⋅          ⋅          ⋅ \n",
       "   ⋅         ⋅     ⋅          ⋅        …  -0.833333  -0.413449    ⋅ \n",
       "   ⋅         ⋅   -0.892218    ⋅             ⋅        -0.930261    ⋅ \n",
       "   ⋅         ⋅     ⋅        -0.707107       ⋅          ⋅        -0.707107\n",
       "   ⋅         ⋅     ⋅          ⋅             ⋅          ⋅          ⋅ \n",
       "   ⋅         ⋅     ⋅          ⋅            1.5         ⋅          ⋅ \n",
       "   ⋅         ⋅     ⋅          ⋅        …  -0.666667   1.34371   -0.707107\n",
       "   ⋅         ⋅     ⋅          ⋅             ⋅          ⋅         1.41421"
      ]
     },
     "execution_count": 480,
     "metadata": {},
     "output_type": "execute_result"
    }
   ],
   "source": [
    "L = mod_ldli2Chol(ldli)"
   ]
  },
  {
   "cell_type": "code",
   "execution_count": 481,
   "metadata": {},
   "outputs": [
    {
     "data": {
      "text/plain": [
       "12"
      ]
     },
     "execution_count": 481,
     "metadata": {},
     "output_type": "execute_result"
    }
   ],
   "source": [
    "rank(L)"
   ]
  },
  {
   "cell_type": "markdown",
   "metadata": {},
   "source": [
    "# smaller "
   ]
  },
  {
   "cell_type": "code",
   "execution_count": 483,
   "metadata": {},
   "outputs": [
    {
     "data": {
      "text/plain": [
       "12×12 SparseMatrixCSC{Float64, Int64} with 34 stored entries:\n",
       "  ⋅   1.0   ⋅    ⋅   1.0   ⋅    ⋅    ⋅    ⋅    ⋅    ⋅    ⋅ \n",
       " 1.0   ⋅   1.0   ⋅    ⋅   1.0   ⋅    ⋅    ⋅    ⋅    ⋅    ⋅ \n",
       "  ⋅   1.0   ⋅   1.0   ⋅    ⋅   1.0   ⋅    ⋅    ⋅    ⋅    ⋅ \n",
       "  ⋅    ⋅   1.0   ⋅    ⋅    ⋅    ⋅   1.0   ⋅    ⋅    ⋅    ⋅ \n",
       " 1.0   ⋅    ⋅    ⋅    ⋅   1.0   ⋅    ⋅   1.0   ⋅    ⋅    ⋅ \n",
       "  ⋅   1.0   ⋅    ⋅   1.0   ⋅   1.0   ⋅    ⋅   1.0   ⋅    ⋅ \n",
       "  ⋅    ⋅   1.0   ⋅    ⋅   1.0   ⋅   1.0   ⋅    ⋅   1.0   ⋅ \n",
       "  ⋅    ⋅    ⋅   1.0   ⋅    ⋅   1.0   ⋅    ⋅    ⋅    ⋅   1.0\n",
       "  ⋅    ⋅    ⋅    ⋅   1.0   ⋅    ⋅    ⋅    ⋅   1.0   ⋅    ⋅ \n",
       "  ⋅    ⋅    ⋅    ⋅    ⋅   1.0   ⋅    ⋅   1.0   ⋅   1.0   ⋅ \n",
       "  ⋅    ⋅    ⋅    ⋅    ⋅    ⋅   1.0   ⋅    ⋅   1.0   ⋅   1.0\n",
       "  ⋅    ⋅    ⋅    ⋅    ⋅    ⋅    ⋅   1.0   ⋅    ⋅   1.0   ⋅ "
      ]
     },
     "execution_count": 483,
     "metadata": {},
     "output_type": "execute_result"
    }
   ],
   "source": [
    "n = 12\n",
    "a = grid2(3,4)"
   ]
  },
  {
   "cell_type": "code",
   "execution_count": 484,
   "metadata": {},
   "outputs": [
    {
     "data": {
      "text/plain": [
       "Laplacians.LDLinv{Int64, Float64}([12, 9, 4, 1, 5, 8, 10, 3, 2, 6, 7], [1, 3, 5, 7, 9, 12, 15, 17, 20, 22, 24, 25], [8, 11, 5, 10, 3, 8, 2, 5, 2, 10  …  11, 6, 11, 2, 7, 7, 6, 11, 7, 11], [0.5, 1.0, 0.5, 1.0, 0.5, 1.0, 0.5, 1.0, 0.25, 0.3333333333333333  …  0.4444444444444444, 1.0, 0.15789473684210525, 0.5000000000000001, 1.0, 0.2344322344322344, 1.0, 0.2958387516254877, 1.0, 1.0], [0.5, 1.0526556776556777, 0.42105263157894723, 0.5, 0.5, 0.9311436288029266, 1.9569901672256063, 0.5, 0.5, 0.6944444444444444, 0.0, 0.5])"
      ]
     },
     "execution_count": 484,
     "metadata": {},
     "output_type": "execute_result"
    }
   ],
   "source": [
    "llmat = Laplacians.LLmatp(a)\n",
    "ldli = Laplacians.approxChol(llmat)"
   ]
  },
  {
   "cell_type": "code",
   "execution_count": 485,
   "metadata": {},
   "outputs": [
    {
     "data": {
      "text/plain": [
       "Laplacians.LDLinv{Int64, Float64}([12, 9, 4, 1, 5, 8, 10, 11, 3, 7, 6], [1, 3, 5, 7, 9, 12, 15, 17, 19, 21, 23, 24], [8, 11, 5, 10, 3, 8, 2, 5, 2, 10  …  7, 11, 6, 6, 7, 2, 7, 2, 6, 2], [0.5, 1.0, 0.5, 1.0, 0.5, 1.0, 0.5, 1.0, 0.25, 0.3333333333333333  …  1.0, 0.4444444444444444, 1.0, 0.3076923076923077, 1.0, 0.42105263157894735, 1.0, 0.2948453608247423, 1.0, 1.0], [0.5, 0.0, 0.7960526315789473, 0.5, 0.5, 1.7832474226804123, 0.9763679619349721, 0.5, 0.5, 0.6944444444444444, 0.8653846153846154, 0.5])"
      ]
     },
     "execution_count": 485,
     "metadata": {},
     "output_type": "execute_result"
    }
   ],
   "source": [
    "llmat = Laplacians.LLmatp(a)\n",
    "ldli = Laplacians.approxChol(llmat)"
   ]
  },
  {
   "cell_type": "code",
   "execution_count": 469,
   "metadata": {},
   "outputs": [
    {
     "name": "stdout",
     "output_type": "stream",
     "text": [
      "  0.554757 seconds (18 allocations: 1.788 GiB)\n"
     ]
    },
    {
     "data": {
      "text/plain": [
       "Laplacians.LDLinv{Int64, Float64}([12, 9, 4, 1, 5, 8, 10, 3, 2, 11, 7], [1, 3, 5, 7, 9, 12, 15, 17, 19, 21, 23, 24], [8, 11, 5, 10, 3, 8, 2, 5, 2, 10  …  7, 6, 11, 7, 2, 7, 6, 6, 7, 6], [0.5, 1.0, 0.5, 1.0, 0.5, 1.0, 0.5, 1.0, 0.25, 0.3333333333333333  …  1.0, 0.5555555555555556, 1.0, 0.5789473684210527, 1.0, 0.2962962962962963, 1.0, 0.3076923076923077, 1.0, 1.0], [0.5, 0.9675925925925926, 0.42105263157894735, 0.5, 0.5, 0.0, 1.792022792022792, 0.5, 0.5, 0.4444444444444444, 0.8653846153846154, 0.5])"
      ]
     },
     "execution_count": 469,
     "metadata": {},
     "output_type": "execute_result"
    }
   ],
   "source": [
    "llmat = Laplacians.LLmatp(a)\n",
    "@time ldli = Laplacians.approxChol(llmat,10000000,10000000)"
   ]
  },
  {
   "cell_type": "code",
   "execution_count": 470,
   "metadata": {},
   "outputs": [
    {
     "data": {
      "text/plain": [
       "12×12 SparseMatrixCSC{Float64, Int64} with 35 stored entries:\n",
       "  1.41421     ⋅          ⋅        …    ⋅          ⋅          ⋅ \n",
       " -0.707107   1.39784   -0.648886       ⋅          ⋅          ⋅ \n",
       "   ⋅          ⋅         1.5411         ⋅          ⋅          ⋅ \n",
       "   ⋅          ⋅          ⋅             ⋅          ⋅          ⋅ \n",
       " -0.707107    ⋅          ⋅             ⋅          ⋅          ⋅ \n",
       "   ⋅        -0.983663    ⋅        …  -0.833333  -0.413449    ⋅ \n",
       "   ⋅        -0.414174  -0.892218       ⋅        -0.930261    ⋅ \n",
       "   ⋅          ⋅          ⋅             ⋅          ⋅        -0.707107\n",
       "   ⋅          ⋅          ⋅             ⋅          ⋅          ⋅ \n",
       "   ⋅          ⋅          ⋅            1.5         ⋅          ⋅ \n",
       "   ⋅          ⋅          ⋅        …  -0.666667   1.34371   -0.707107\n",
       "   ⋅          ⋅          ⋅             ⋅          ⋅         1.41421"
      ]
     },
     "execution_count": 470,
     "metadata": {},
     "output_type": "execute_result"
    }
   ],
   "source": [
    "L = mod_ldli2Chol(ldli)"
   ]
  },
  {
   "cell_type": "code",
   "execution_count": 471,
   "metadata": {},
   "outputs": [
    {
     "data": {
      "text/plain": [
       "12×12 Matrix{Float64}:\n",
       "  0.916667   -0.0833333  -0.0833333  …  -0.0833333  -0.0833333  -0.0833333\n",
       " -0.0833333   0.916667   -0.0833333     -0.0833333  -0.0833333  -0.0833333\n",
       " -0.0833333  -0.0833333   0.916667      -0.0833333  -0.0833333  -0.0833333\n",
       " -0.0833333  -0.0833333  -0.0833333     -0.0833333  -0.0833333  -0.0833333\n",
       " -0.0833333  -0.0833333  -0.0833333     -0.0833333  -0.0833333  -0.0833333\n",
       " -0.0833333  -0.0833333  -0.0833333  …  -0.0833333  -0.0833333  -0.0833333\n",
       " -0.0833333  -0.0833333  -0.0833333     -0.0833333  -0.0833333  -0.0833333\n",
       " -0.0833333  -0.0833333  -0.0833333     -0.0833333  -0.0833333  -0.0833333\n",
       " -0.0833333  -0.0833333  -0.0833333     -0.0833333  -0.0833333  -0.0833333\n",
       " -0.0833333  -0.0833333  -0.0833333      0.916667   -0.0833333  -0.0833333\n",
       " -0.0833333  -0.0833333  -0.0833333  …  -0.0833333   0.916667   -0.0833333\n",
       " -0.0833333  -0.0833333  -0.0833333     -0.0833333  -0.0833333   0.916667"
      ]
     },
     "execution_count": 471,
     "metadata": {},
     "output_type": "execute_result"
    }
   ],
   "source": [
    "P = I - ones(n,n)/n"
   ]
  },
  {
   "cell_type": "code",
   "execution_count": 472,
   "metadata": {},
   "outputs": [
    {
     "data": {
      "text/plain": [
       "12"
      ]
     },
     "execution_count": 472,
     "metadata": {},
     "output_type": "execute_result"
    }
   ],
   "source": [
    "rank(L)"
   ]
  },
  {
   "cell_type": "code",
   "execution_count": 473,
   "metadata": {},
   "outputs": [
    {
     "data": {
      "text/plain": [
       "12×12 SparseMatrixCSC{Float64, Int64} with 62 stored entries:\n",
       "  2.0  -1.0            ⋅       ⋅   -1.0  …    ⋅     ⋅       ⋅             ⋅ \n",
       " -1.0   3.0          -1.0      ⋅    0.0       ⋅    0.125    ⋅             ⋅ \n",
       "   ⋅   -1.0           3.0    -1.0    ⋅        ⋅     ⋅      0.125          ⋅ \n",
       "   ⋅     ⋅           -1.0     2.0    ⋅        ⋅     ⋅       ⋅             ⋅ \n",
       " -1.0   0.0            ⋅       ⋅    3.0     -1.0   0.0      ⋅             ⋅ \n",
       "   ⋅   -1.125          ⋅       ⋅   -1.0  …    ⋅   -1.0    -1.11022e-16    ⋅ \n",
       "   ⋅    2.22045e-16  -1.125    ⋅     ⋅        ⋅     ⋅     -1.0            ⋅ \n",
       "   ⋅     ⋅            0.0    -1.0    ⋅        ⋅     ⋅      0.0          -1.0\n",
       "   ⋅     ⋅             ⋅       ⋅   -1.0      2.0  -1.0      ⋅             ⋅ \n",
       "   ⋅    0.125          ⋅       ⋅    0.0     -1.0   2.875  -1.0            ⋅ \n",
       "   ⋅     ⋅            0.125    ⋅     ⋅   …    ⋅   -1.0     2.875        -1.0\n",
       "   ⋅     ⋅             ⋅       ⋅     ⋅        ⋅     ⋅     -1.0           2.0"
      ]
     },
     "execution_count": 473,
     "metadata": {},
     "output_type": "execute_result"
    }
   ],
   "source": [
    "LLt = L*L'"
   ]
  },
  {
   "cell_type": "code",
   "execution_count": 474,
   "metadata": {},
   "outputs": [
    {
     "data": {
      "text/plain": [
       "12×12 Matrix{Float64}:\n",
       "  2.00694     -0.993056     0.00694444  …   0.00694444   0.00694444\n",
       " -0.993056     3.00694     -0.993056        0.00694444   0.00694444\n",
       "  0.00694444  -0.993056     3.00694         0.131944     0.00694444\n",
       "  0.00694444   0.00694444  -0.993056        0.00694444   0.00694444\n",
       " -0.993056     0.00694444   0.00694444      0.00694444   0.00694444\n",
       " -0.0763889   -1.20139     -0.0763889   …  -0.0763889   -0.0763889\n",
       "  0.00694444   0.00694444  -1.11806        -0.993056     0.00694444\n",
       "  0.00694444   0.00694444   0.00694444      0.00694444  -0.993056\n",
       "  0.00694444   0.00694444   0.00694444      0.00694444   0.00694444\n",
       "  0.00694444   0.131944     0.00694444     -0.993056     0.00694444\n",
       "  0.00694444   0.00694444   0.131944    …   2.88194     -0.993056\n",
       "  0.00694444   0.00694444   0.00694444     -0.993056     2.00694"
      ]
     },
     "execution_count": 474,
     "metadata": {},
     "output_type": "execute_result"
    }
   ],
   "source": [
    "P*LLt*P"
   ]
  },
  {
   "cell_type": "code",
   "execution_count": 475,
   "metadata": {},
   "outputs": [
    {
     "data": {
      "text/plain": [
       "12×12 SparseMatrixCSC{Float64, Int64} with 46 stored entries:\n",
       "  2.0  -1.0    ⋅     ⋅   -1.0    ⋅     ⋅     ⋅     ⋅     ⋅     ⋅     ⋅ \n",
       " -1.0   3.0  -1.0    ⋅     ⋅   -1.0    ⋅     ⋅     ⋅     ⋅     ⋅     ⋅ \n",
       "   ⋅   -1.0   3.0  -1.0    ⋅     ⋅   -1.0    ⋅     ⋅     ⋅     ⋅     ⋅ \n",
       "   ⋅     ⋅   -1.0   2.0    ⋅     ⋅     ⋅   -1.0    ⋅     ⋅     ⋅     ⋅ \n",
       " -1.0    ⋅     ⋅     ⋅    3.0  -1.0    ⋅     ⋅   -1.0    ⋅     ⋅     ⋅ \n",
       "   ⋅   -1.0    ⋅     ⋅   -1.0   4.0  -1.0    ⋅     ⋅   -1.0    ⋅     ⋅ \n",
       "   ⋅     ⋅   -1.0    ⋅     ⋅   -1.0   4.0  -1.0    ⋅     ⋅   -1.0    ⋅ \n",
       "   ⋅     ⋅     ⋅   -1.0    ⋅     ⋅   -1.0   3.0    ⋅     ⋅     ⋅   -1.0\n",
       "   ⋅     ⋅     ⋅     ⋅   -1.0    ⋅     ⋅     ⋅    2.0  -1.0    ⋅     ⋅ \n",
       "   ⋅     ⋅     ⋅     ⋅     ⋅   -1.0    ⋅     ⋅   -1.0   3.0  -1.0    ⋅ \n",
       "   ⋅     ⋅     ⋅     ⋅     ⋅     ⋅   -1.0    ⋅     ⋅   -1.0   3.0  -1.0\n",
       "   ⋅     ⋅     ⋅     ⋅     ⋅     ⋅     ⋅   -1.0    ⋅     ⋅   -1.0   2.0"
      ]
     },
     "execution_count": 475,
     "metadata": {},
     "output_type": "execute_result"
    }
   ],
   "source": [
    "lap(a)"
   ]
  },
  {
   "cell_type": "code",
   "execution_count": 476,
   "metadata": {},
   "outputs": [
    {
     "data": {
      "text/plain": [
       "8×8 Matrix{Float64}:\n",
       "  0.00694444   0.00694444   0.00694444  …   0.00694444   0.00694444\n",
       "  0.00694444   0.00694444   0.00694444      0.00694444   0.00694444\n",
       "  0.00694444   0.00694444   0.00694444     -0.118056     0.00694444\n",
       "  0.00694444   0.00694444   0.00694444      0.00694444   0.00694444\n",
       "  0.00694444   0.00694444   0.00694444      0.00694444   0.00694444\n",
       " -0.0763889   -0.201389    -0.0763889   …  -0.0763889   -0.0763889\n",
       "  0.00694444   0.00694444  -0.118056        0.131944     0.00694444\n",
       "  0.00694444   0.00694444   0.00694444      0.00694444   0.00694444"
      ]
     },
     "execution_count": 476,
     "metadata": {},
     "output_type": "execute_result"
    }
   ],
   "source": [
    "(P*LLt*P-lap(a))[1:8,1:8]"
   ]
  },
  {
   "cell_type": "code",
   "execution_count": 477,
   "metadata": {},
   "outputs": [
    {
     "data": {
      "text/plain": [
       "8×8 SparseMatrixCSC{Float64, Int64} with 27 stored entries:\n",
       "  4.44089e-16  -2.22045e-16    ⋅           …    ⋅             ⋅ \n",
       " -2.22045e-16    ⋅             ⋅               2.22045e-16    ⋅ \n",
       "   ⋅             ⋅            4.44089e-16     -0.125          ⋅ \n",
       "   ⋅             ⋅           -2.22045e-16       ⋅           -2.22045e-16\n",
       " -2.22045e-16    ⋅             ⋅                ⋅             ⋅ \n",
       "   ⋅           -0.125          ⋅           …  -4.44089e-16    ⋅ \n",
       "   ⋅            2.22045e-16  -0.125            0.125        -2.22045e-16\n",
       "   ⋅             ⋅             ⋅              -2.22045e-16   4.44089e-16"
      ]
     },
     "execution_count": 477,
     "metadata": {},
     "output_type": "execute_result"
    }
   ],
   "source": [
    "(LLt-lap(a))[1:8,1:8]"
   ]
  },
  {
   "cell_type": "code",
   "execution_count": 478,
   "metadata": {},
   "outputs": [
    {
     "data": {
      "text/plain": [
       "12×12 SparseMatrixCSC{Bool, Int64} with 12 stored entries:\n",
       " ⋅  ⋅  ⋅  ⋅  ⋅  ⋅  ⋅  ⋅  ⋅  ⋅  ⋅  ⋅\n",
       " ⋅  ⋅  ⋅  ⋅  ⋅  1  ⋅  ⋅  ⋅  1  ⋅  ⋅\n",
       " ⋅  ⋅  ⋅  ⋅  ⋅  ⋅  1  ⋅  ⋅  ⋅  1  ⋅\n",
       " ⋅  ⋅  ⋅  ⋅  ⋅  ⋅  ⋅  ⋅  ⋅  ⋅  ⋅  ⋅\n",
       " ⋅  ⋅  ⋅  ⋅  ⋅  ⋅  ⋅  ⋅  ⋅  ⋅  ⋅  ⋅\n",
       " ⋅  1  ⋅  ⋅  ⋅  1  ⋅  ⋅  ⋅  ⋅  ⋅  ⋅\n",
       " ⋅  ⋅  1  ⋅  ⋅  ⋅  1  ⋅  ⋅  ⋅  ⋅  ⋅\n",
       " ⋅  ⋅  ⋅  ⋅  ⋅  ⋅  ⋅  ⋅  ⋅  ⋅  ⋅  ⋅\n",
       " ⋅  ⋅  ⋅  ⋅  ⋅  ⋅  ⋅  ⋅  ⋅  ⋅  ⋅  ⋅\n",
       " ⋅  1  ⋅  ⋅  ⋅  ⋅  ⋅  ⋅  ⋅  1  ⋅  ⋅\n",
       " ⋅  ⋅  1  ⋅  ⋅  ⋅  ⋅  ⋅  ⋅  ⋅  1  ⋅\n",
       " ⋅  ⋅  ⋅  ⋅  ⋅  ⋅  ⋅  ⋅  ⋅  ⋅  ⋅  ⋅"
      ]
     },
     "execution_count": 478,
     "metadata": {},
     "output_type": "execute_result"
    }
   ],
   "source": [
    "diffcheck = LLt-lap(a)\n",
    "abs.(diffcheck) .> 1e-2"
   ]
  },
  {
   "cell_type": "code",
   "execution_count": 451,
   "metadata": {},
   "outputs": [
    {
     "data": {
      "text/plain": [
       "42-element Vector{CartesianIndex{2}}:\n",
       " CartesianIndex(2, 2)\n",
       " CartesianIndex(6, 2)\n",
       " CartesianIndex(9, 2)\n",
       " CartesianIndex(11, 2)\n",
       " CartesianIndex(12, 2)\n",
       " CartesianIndex(7, 3)\n",
       " CartesianIndex(12, 3)\n",
       " CartesianIndex(2, 6)\n",
       " CartesianIndex(6, 6)\n",
       " CartesianIndex(10, 6)\n",
       " CartesianIndex(11, 6)\n",
       " CartesianIndex(12, 6)\n",
       " CartesianIndex(3, 7)\n",
       " ⋮\n",
       " CartesianIndex(11, 11)\n",
       " CartesianIndex(12, 11)\n",
       " CartesianIndex(2, 12)\n",
       " CartesianIndex(3, 12)\n",
       " CartesianIndex(6, 12)\n",
       " CartesianIndex(7, 12)\n",
       " CartesianIndex(9, 12)\n",
       " CartesianIndex(10, 12)\n",
       " CartesianIndex(11, 12)\n",
       " CartesianIndex(12, 12)\n",
       " CartesianIndex(9, 15)\n",
       " CartesianIndex(15, 15)"
      ]
     },
     "execution_count": 451,
     "metadata": {},
     "output_type": "execute_result"
    }
   ],
   "source": [
    "diffcheck = L*L'-lap(a)\n",
    "diffcheck[abs.(diffcheck) .> 1e-2]\n",
    "findall(abs.(diffcheck) .> 1e-2)"
   ]
  },
  {
   "cell_type": "code",
   "execution_count": 347,
   "metadata": {},
   "outputs": [
    {
     "data": {
      "text/plain": [
       "4.7326955888387925"
      ]
     },
     "execution_count": 347,
     "metadata": {},
     "output_type": "execute_result"
    }
   ],
   "source": [
    "norm(L*ones(n,1))"
   ]
  },
  {
   "cell_type": "code",
   "execution_count": 348,
   "metadata": {},
   "outputs": [
    {
     "data": {
      "text/plain": [
       "9×9 Matrix{ComplexF64}:\n",
       "   0.668934+8.27842e-10im  …     -0.1644+8.27842e-10im\n",
       "  0.0285779+8.27842e-10im      -0.138089+8.27842e-10im\n",
       "  -0.101286+8.27842e-10im      -0.101286+8.27842e-10im\n",
       "  0.0285779+8.27842e-10im      -0.138089+8.27842e-10im\n",
       " -0.0829391+8.27842e-10im     -0.0829391+8.27842e-10im\n",
       "  -0.138089+8.27842e-10im  …   0.0285779+8.27842e-10im\n",
       "  -0.101286+8.27842e-10im      -0.101286+8.27842e-10im\n",
       "  -0.138089+8.27842e-10im      0.0285779+8.27842e-10im\n",
       "    -0.1644+8.27842e-10im       0.668934+8.27842e-10im"
      ]
     },
     "execution_count": 348,
     "metadata": {},
     "output_type": "execute_result"
    }
   ],
   "source": [
    "Lih = sqrt(pinv(Matrix(lap(a))))"
   ]
  },
  {
   "cell_type": "code",
   "execution_count": 349,
   "metadata": {},
   "outputs": [
    {
     "data": {
      "text/plain": [
       "9-element Vector{Float64}:\n",
       " 3.5832576007663165e-16\n",
       " 0.08609034190781982\n",
       " 0.5982924601951439\n",
       " 0.609611796797793\n",
       " 0.9245010242542595\n",
       " 0.9999999999999982\n",
       " 1.1586075443431127\n",
       " 1.6403882032022123\n",
       " 2.1083398043647428"
      ]
     },
     "execution_count": 349,
     "metadata": {},
     "output_type": "execute_result"
    }
   ],
   "source": [
    "abs.(eigvals(Lih*LtL*Lih))"
   ]
  },
  {
   "cell_type": "code",
   "execution_count": 336,
   "metadata": {},
   "outputs": [
    {
     "data": {
      "text/plain": [
       "1.1083398043647479"
      ]
     },
     "execution_count": 336,
     "metadata": {},
     "output_type": "execute_result"
    }
   ],
   "source": [
    "opnorm(P - Lih*LtL*Lih)"
   ]
  },
  {
   "cell_type": "code",
   "execution_count": 337,
   "metadata": {},
   "outputs": [
    {
     "data": {
      "text/plain": [
       "dumbchol (generic function with 1 method)"
      ]
     },
     "execution_count": 337,
     "metadata": {},
     "output_type": "execute_result"
    }
   ],
   "source": [
    "function dumbchol(a)\n",
    "    n = size(a,1)\n",
    "    lapmat = Matrix(lap(a))\n",
    "    cholfac = zeros(n,0)\n",
    "    for i = 1:(n-1)\n",
    "        c = lapmat[i,:]/(lapmat[i,i])^(1/2)\n",
    "        lapmat = lapmat - c*c'\n",
    "        cholfac = [ cholfac c ]\n",
    "    end\n",
    "    return cholfac\n",
    "end\n",
    "\n",
    "        "
   ]
  },
  {
   "cell_type": "code",
   "execution_count": 204,
   "metadata": {},
   "outputs": [
    {
     "data": {
      "text/plain": [
       "1×0 Matrix{Float64}"
      ]
     },
     "execution_count": 204,
     "metadata": {},
     "output_type": "execute_result"
    }
   ],
   "source": [
    "zeros(1,0)\n"
   ]
  },
  {
   "cell_type": "code",
   "execution_count": 205,
   "metadata": {},
   "outputs": [
    {
     "data": {
      "text/plain": [
       "4×3 Matrix{Float64}:\n",
       "  1.41421   -1.81299e-16  -2.56395e-16\n",
       " -0.707107   1.22474      -4.80741e-17\n",
       " -0.707107  -0.408248      1.1547\n",
       "  0.0       -0.816497     -1.1547"
      ]
     },
     "execution_count": 205,
     "metadata": {},
     "output_type": "execute_result"
    }
   ],
   "source": [
    "dlt = dumbchol(a)"
   ]
  },
  {
   "cell_type": "code",
   "execution_count": 206,
   "metadata": {},
   "outputs": [
    {
     "data": {
      "text/plain": [
       "1.456043846448818e-15"
      ]
     },
     "execution_count": 206,
     "metadata": {},
     "output_type": "execute_result"
    }
   ],
   "source": [
    "norm(lap(a) - dlt*dlt')"
   ]
  },
  {
   "cell_type": "code",
   "execution_count": 208,
   "metadata": {},
   "outputs": [
    {
     "data": {
      "text/plain": [
       "4×4 Matrix{Float64}:\n",
       "  2.0          -1.0         -1.0          3.92369e-16\n",
       " -1.0           2.0         -8.5876e-18  -1.0\n",
       " -1.0          -8.5876e-18   2.0         -1.0\n",
       "  3.69707e-16  -1.0         -1.0          2.0"
      ]
     },
     "execution_count": 208,
     "metadata": {},
     "output_type": "execute_result"
    }
   ],
   "source": [
    "dllt = P*dlt*dlt'*P"
   ]
  },
  {
   "cell_type": "code",
   "execution_count": 210,
   "metadata": {},
   "outputs": [
    {
     "data": {
      "text/plain": [
       "1.8268490012494786e-15"
      ]
     },
     "execution_count": 210,
     "metadata": {},
     "output_type": "execute_result"
    }
   ],
   "source": [
    "opnorm(P - Lih*dllt*Lih)"
   ]
  },
  {
   "cell_type": "code",
   "execution_count": null,
   "metadata": {},
   "outputs": [],
   "source": []
  }
 ],
 "metadata": {
  "kernelspec": {
   "display_name": "Julia 1.8.5",
   "language": "julia",
   "name": "julia-1.8"
  },
  "language_info": {
   "file_extension": ".jl",
   "mimetype": "application/julia",
   "name": "julia",
   "version": "1.8.5"
  }
 },
 "nbformat": 4,
 "nbformat_minor": 4
}
