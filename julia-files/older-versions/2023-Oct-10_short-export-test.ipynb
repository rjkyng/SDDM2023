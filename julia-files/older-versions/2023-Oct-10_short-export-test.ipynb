{
 "cells": [
  {
   "cell_type": "code",
   "execution_count": 2,
   "metadata": {},
   "outputs": [],
   "source": [
    "using Laplacians\n",
    "using SparseArrays\n",
    "using LinearAlgebra"
   ]
  },
  {
   "cell_type": "code",
   "execution_count": 3,
   "metadata": {},
   "outputs": [],
   "source": [
    "n = 12\n",
    "a = grid2(3,4)\n",
    "include(\"testScriptSaveChol.jl\") # to access saveMAT fn and matread\n",
    "saveMAT(a,\"gridadj.mat\",\"adjmat\")"
   ]
  },
  {
   "cell_type": "code",
   "execution_count": 4,
   "metadata": {},
   "outputs": [
    {
     "data": {
      "text/plain": [
       "12×12 SparseMatrixCSC{Float64, Int64} with 36 stored entries:\n",
       "  1.41421     ⋅          ⋅          ⋅        …   ⋅     ⋅          ⋅ \n",
       " -0.707107   1.28306   -0.648886    ⋅            ⋅     ⋅          ⋅ \n",
       "   ⋅          ⋅         1.5411    -0.707107      ⋅     ⋅          ⋅ \n",
       "   ⋅          ⋅          ⋅         1.41421       ⋅     ⋅          ⋅ \n",
       " -0.707107    ⋅          ⋅          ⋅            ⋅     ⋅          ⋅ \n",
       "   ⋅        -1.13692     ⋅          ⋅        …   ⋅     ⋅          ⋅ \n",
       "   ⋅          ⋅        -0.892218    ⋅            ⋅   -0.833333    ⋅ \n",
       "   ⋅          ⋅          ⋅        -0.707107      ⋅     ⋅        -0.707107\n",
       "   ⋅          ⋅          ⋅          ⋅            ⋅     ⋅          ⋅ \n",
       "   ⋅        -0.146135    ⋅          ⋅           1.0  -0.666667    ⋅ \n",
       "   ⋅          ⋅          ⋅          ⋅        …   ⋅    1.5       -0.707107\n",
       "   ⋅          ⋅          ⋅          ⋅            ⋅     ⋅         1.41421"
      ]
     },
     "execution_count": 4,
     "metadata": {},
     "output_type": "execute_result"
    }
   ],
   "source": [
    "lfac = matread(\"choltest.mat\")[\"chol_factor\"]"
   ]
  },
  {
   "cell_type": "code",
   "execution_count": 5,
   "metadata": {},
   "outputs": [
    {
     "data": {
      "text/plain": [
       "12×12 SparseMatrixCSC{Float64, Int64} with 39 stored entries:\n",
       "  1.41421     ⋅          ⋅          ⋅        …   ⋅     ⋅          ⋅ \n",
       " -0.707107   1.43098   -0.648886    ⋅            ⋅     ⋅          ⋅ \n",
       "   ⋅          ⋅         1.5411    -0.707107      ⋅     ⋅          ⋅ \n",
       "   ⋅          ⋅          ⋅         1.41421       ⋅     ⋅          ⋅ \n",
       " -0.707107    ⋅          ⋅          ⋅            ⋅     ⋅          ⋅ \n",
       "   ⋅        -0.829852    ⋅          ⋅        …   ⋅   -0.101902    ⋅ \n",
       "   ⋅        -0.349411  -0.770552    ⋅            ⋅   -0.805508    ⋅ \n",
       "   ⋅          ⋅          ⋅        -0.707107      ⋅     ⋅        -0.707107\n",
       "   ⋅          ⋅          ⋅          ⋅            ⋅     ⋅          ⋅ \n",
       "   ⋅        -0.131029    ⋅          ⋅           1.0  -0.644406    ⋅ \n",
       "   ⋅        -0.120685  -0.121666    ⋅        …   ⋅    1.55182   -0.707107\n",
       "   ⋅          ⋅          ⋅          ⋅            ⋅     ⋅         1.41421"
      ]
     },
     "execution_count": 5,
     "metadata": {},
     "output_type": "execute_result"
    }
   ],
   "source": [
    "lfac = matread(\"choltest.mat\")[\"chol_factor\"]"
   ]
  },
  {
   "cell_type": "code",
   "execution_count": null,
   "metadata": {},
   "outputs": [],
   "source": []
  }
 ],
 "metadata": {
  "kernelspec": {
   "display_name": "Julia 1.8.5",
   "language": "julia",
   "name": "julia-1.8"
  },
  "language_info": {
   "file_extension": ".jl",
   "mimetype": "application/julia",
   "name": "julia",
   "version": "1.8.5"
  }
 },
 "nbformat": 4,
 "nbformat_minor": 4
}
