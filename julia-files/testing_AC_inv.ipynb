{
 "cells": [
  {
   "cell_type": "code",
   "execution_count": null,
   "metadata": {},
   "outputs": [],
   "source": [
    "using Laplacians\n",
    "using SparseArrays\n",
    "using LinearAlgebra\n",
    "using Statistics"
   ]
  },
  {
   "cell_type": "code",
   "execution_count": null,
   "metadata": {},
   "outputs": [],
   "source": [
    "function LDLsolverNC(ldli::Laplacians.LDLinv, b::Vector)\n",
    "    y = copy(b)\n",
    "\n",
    "    Laplacians.forward!(ldli, y)\n",
    "\n",
    "    @inbounds for i in 1:(length(ldli.d))\n",
    "        if ldli.d[i] != 0\n",
    "            y[i] /= ldli.d[i]\n",
    "        end\n",
    "    end\n",
    "\n",
    "    Laplacians.backward!(ldli, y)\n",
    "\n",
    "    # mu = mean(y)\n",
    "    # @inbounds for i in eachindex(y)\n",
    "    #     y[i] = y[i] - mu\n",
    "    # end\n",
    "\n",
    "    return y\n",
    "end"
   ]
  },
  {
   "cell_type": "code",
   "execution_count": null,
   "metadata": {},
   "outputs": [],
   "source": [
    "function LDLsolverNC(ldli::Laplacians.LDLinv, Y::SparseMatrixCSC) \n",
    "    B = copy(Matrix(Y))\n",
    "    d, n = size(Y)\n",
    "    for i in 1:n\n",
    "        B[:,i] = LDLsolverNC(ldli, B[:,i])\n",
    "        mu = mean(B[:,i])\n",
    "    end\n",
    "    return B\n",
    "end\n",
    "\n",
    "function LDLsolver(ldli::Laplacians.LDLinv, Y::SparseMatrixCSC) \n",
    "    B = copy(Matrix(Y))\n",
    "    d, n = size(Y)\n",
    "    for i in 1:n\n",
    "        B[:,i] = Laplacians.LDLsolver(ldli, B[:,i])\n",
    "        mu = mean(B[:,i])\n",
    "    end\n",
    "    return B\n",
    "end"
   ]
  },
  {
   "cell_type": "code",
   "execution_count": null,
   "metadata": {},
   "outputs": [],
   "source": [
    "n = 6\n",
    "a = grid2(3,4)"
   ]
  },
  {
   "cell_type": "code",
   "execution_count": null,
   "metadata": {},
   "outputs": [],
   "source": [
    "ldliLapA = zeros(eltype(a), size(a))\n",
    "num_iter = 1\n",
    "spli_merge=1000000\n",
    "for i in range(1, num_iter)\n",
    "    llmat = Laplacians.LLmatp(a,spli_merge);\n",
    "    ldli = Laplacians.approxChol(llmat,spli_merge,spli_merge);\n",
    "    ldliLapA += LDLsolverNC(ldli, lap(a));\n",
    "end\n",
    "ldliLapA = ldliLapA ./ num_iter"
   ]
  },
  {
   "cell_type": "code",
   "execution_count": null,
   "metadata": {},
   "outputs": [],
   "source": [
    "abs.(ldliLapA) .> 1e-1"
   ]
  },
  {
   "cell_type": "code",
   "execution_count": null,
   "metadata": {},
   "outputs": [],
   "source": [
    "ldliLapAOrd = zeros(eltype(a), size(a))\n",
    "num_iter = 10000\n",
    "for i in range(1, num_iter)\n",
    "    llmatOrd = Laplacians.LLMatOrd(a);\n",
    "    @time ldliOrd = Laplacians.approxChol(llmatOrd);\n",
    "    ldliLapAOrd += LDLsolverNC(ldliOrd, lap(a));\n",
    "end\n",
    "ldliLapAOrd = ldliLapAOrd ./ num_iter;"
   ]
  },
  {
   "cell_type": "code",
   "execution_count": null,
   "metadata": {},
   "outputs": [],
   "source": [
    "abs.(ldliLapAOrd) .> 1e-1"
   ]
  },
  {
   "cell_type": "code",
   "execution_count": null,
   "metadata": {},
   "outputs": [],
   "source": []
  }
 ],
 "metadata": {
  "kernelspec": {
   "display_name": "Julia 1.9.1",
   "language": "julia",
   "name": "julia-1.9"
  },
  "language_info": {
   "file_extension": ".jl",
   "mimetype": "application/julia",
   "name": "julia",
   "version": "1.9.1"
  }
 },
 "nbformat": 4,
 "nbformat_minor": 2
}
